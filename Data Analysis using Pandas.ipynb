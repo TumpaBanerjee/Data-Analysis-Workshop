{
 "cells": [
  {
   "cell_type": "markdown",
   "metadata": {
    "id": "uKAgC6x1-7ri"
   },
   "source": [
    "# Session 01"
   ]
  },
  {
   "cell_type": "code",
   "execution_count": null,
   "metadata": {
    "colab": {
     "base_uri": "https://localhost:8080/"
    },
    "executionInfo": {
     "elapsed": 3225,
     "status": "ok",
     "timestamp": 1749606346929,
     "user": {
      "displayName": "Mrinal Das",
      "userId": "10512190126354830840"
     },
     "user_tz": -330
    },
    "id": "gzhjtkBBAQ9-",
    "outputId": "08086054-dec5-4bfe-91a8-937fcb53513d"
   },
   "outputs": [
    {
     "name": "stdout",
     "output_type": "stream",
     "text": [
      "Requirement already satisfied: pandas in /usr/local/lib/python3.11/dist-packages (2.2.2)\n",
      "Requirement already satisfied: numpy>=1.23.2 in /usr/local/lib/python3.11/dist-packages (from pandas) (2.0.2)\n",
      "Requirement already satisfied: python-dateutil>=2.8.2 in /usr/local/lib/python3.11/dist-packages (from pandas) (2.9.0.post0)\n",
      "Requirement already satisfied: pytz>=2020.1 in /usr/local/lib/python3.11/dist-packages (from pandas) (2025.2)\n",
      "Requirement already satisfied: tzdata>=2022.7 in /usr/local/lib/python3.11/dist-packages (from pandas) (2025.2)\n",
      "Requirement already satisfied: six>=1.5 in /usr/local/lib/python3.11/dist-packages (from python-dateutil>=2.8.2->pandas) (1.17.0)\n"
     ]
    }
   ],
   "source": [
    "# Install pandas using pip directly in a notebook cell\n",
    "!pip install pandas"
   ]
  },
  {
   "cell_type": "markdown",
   "metadata": {
    "id": "ySbLCwGUAG7b"
   },
   "source": [
    "## **Introduction & Setup**"
   ]
  },
  {
   "cell_type": "code",
   "execution_count": null,
   "metadata": {
    "colab": {
     "base_uri": "https://localhost:8080/"
    },
    "executionInfo": {
     "elapsed": 71,
     "status": "ok",
     "timestamp": 1749606848768,
     "user": {
      "displayName": "Mrinal Das",
      "userId": "10512190126354830840"
     },
     "user_tz": -330
    },
    "id": "RruzhScJsUsL",
    "outputId": "c0e3fc1c-cd83-4d5c-dd4d-368af31e5972"
   },
   "outputs": [
    {
     "name": "stdout",
     "output_type": "stream",
     "text": [
      "Pandas is successfully imported. Version: 2.2.2\n"
     ]
    }
   ],
   "source": [
    "# Importing the Pandas library using the standard alias \"pd\"\n",
    "import pandas as pd\n",
    "\n",
    "# Let's verify it works by checking the version\n",
    "print(\"Pandas is successfully imported. Version:\", pd.__version__)"
   ]
  },
  {
   "cell_type": "code",
   "execution_count": null,
   "metadata": {
    "colab": {
     "base_uri": "https://localhost:8080/"
    },
    "executionInfo": {
     "elapsed": 32,
     "status": "ok",
     "timestamp": 1749612645988,
     "user": {
      "displayName": "Mrinal Das",
      "userId": "10512190126354830840"
     },
     "user_tz": -330
    },
    "id": "V43HkdRCCchp",
    "outputId": "7daca649-5e93-458a-e83d-860ec08ddf6b"
   },
   "outputs": [
    {
     "name": "stdout",
     "output_type": "stream",
     "text": [
      "Resultant Empty Series:\n",
      " Series([], dtype: object)\n"
     ]
    }
   ],
   "source": [
    "# Create an empty series\n",
    "\n",
    "#import the pandas library and aliasing as pd\n",
    "import pandas as pd\n",
    "s = pd.Series()\n",
    "\n",
    "# Display the result\n",
    "print('Resultant Empty Series:\\n',s)"
   ]
  },
  {
   "cell_type": "code",
   "execution_count": null,
   "metadata": {
    "colab": {
     "base_uri": "https://localhost:8080/"
    },
    "executionInfo": {
     "elapsed": 72,
     "status": "ok",
     "timestamp": 1749618556661,
     "user": {
      "displayName": "Mrinal Das",
      "userId": "10512190126354830840"
     },
     "user_tz": -330
    },
    "id": "UHYO86bhZCDv",
    "outputId": "83425092-c607-4302-8a2f-7b57530bc5bd"
   },
   "outputs": [
    {
     "name": "stdout",
     "output_type": "stream",
     "text": [
      "Monthly Active Users (MAU):\n",
      "0    1500\n",
      "1    1800\n",
      "2    2100\n",
      "3    2500\n",
      "4    3000\n",
      "dtype: int64\n"
     ]
    }
   ],
   "source": [
    "# Creating a Series from a Python list\n",
    "\n",
    "# Step 1: Import pandas\n",
    "import pandas as pd\n",
    "\n",
    "# Step 2: Create a basic Python list of monthly active users (MAUs) for an app\n",
    "mau_list = [1500, 1800, 2100, 2500, 3000]\n",
    "\n",
    "# Step 3: Create a Pandas Series from the list\n",
    "monthly_users = pd.Series(mau_list)\n",
    "\n",
    "# Step 4: Display the Series\n",
    "print(\"Monthly Active Users (MAU):\")\n",
    "print(monthly_users)"
   ]
  },
  {
   "cell_type": "markdown",
   "metadata": {
    "id": "1P9ZOOx1CaFW"
   },
   "source": [
    "## **Series**"
   ]
  },
  {
   "cell_type": "code",
   "execution_count": null,
   "metadata": {
    "colab": {
     "base_uri": "https://localhost:8080/"
    },
    "executionInfo": {
     "elapsed": 28,
     "status": "ok",
     "timestamp": 1749619244174,
     "user": {
      "displayName": "Mrinal Das",
      "userId": "10512190126354830840"
     },
     "user_tz": -330
    },
    "id": "dKqkzkIDrh3f",
    "outputId": "b106d8b3-333d-4bb3-82ab-c14597303615"
   },
   "outputs": [
    {
     "name": "stdout",
     "output_type": "stream",
     "text": [
      "Daily Sales Data:\n",
      "Mon    250\n",
      "Tue    300\n",
      "Wed    400\n",
      "Thu    500\n",
      "Fri    450\n",
      "dtype: int64\n"
     ]
    }
   ],
   "source": [
    "# Creating series from NumPy ndarray with customize index\n",
    "\n",
    "import numpy as np\n",
    "import pandas as pd\n",
    "\n",
    "# Step 1: Create a NumPy array with daily sales numbers\n",
    "daily_sales_array = np.array([250, 300, 400, 500, 450])\n",
    "\n",
    "# Step 2: Create a Series from the NumPy array\n",
    "daily_sales = pd.Series(weekly_sales_array, index=['Mon', 'Tue', 'Wed', 'Thu', 'Fri'])\n",
    "\n",
    "# Step 3: Print the Series\n",
    "print(\"Daily Sales Data:\")\n",
    "print(daily_sales)"
   ]
  },
  {
   "cell_type": "code",
   "execution_count": null,
   "metadata": {
    "colab": {
     "base_uri": "https://localhost:8080/"
    },
    "executionInfo": {
     "elapsed": 16,
     "status": "ok",
     "timestamp": 1749619297740,
     "user": {
      "displayName": "Mrinal Das",
      "userId": "10512190126354830840"
     },
     "user_tz": -330
    },
    "id": "1FuIZ8dzVV1m",
    "outputId": "0c10c6f6-2952-4358-ac00-f583ebbc049a"
   },
   "outputs": [
    {
     "name": "stdout",
     "output_type": "stream",
     "text": [
      "Population by Country:\n",
      "India     1400\n",
      "USA        332\n",
      "China     1441\n",
      "Brazil     214\n",
      "dtype: int64\n"
     ]
    }
   ],
   "source": [
    "# Creating a series from dictionary\n",
    "\n",
    "# A dictionary representing country populations (in millions)\n",
    "pop_dict = {\n",
    "    'India': 1400,\n",
    "    'USA': 332,\n",
    "    'China': 1441,\n",
    "    'Brazil': 214\n",
    "}\n",
    "\n",
    "# Create Series from dictionary\n",
    "population_series = pd.Series(pop_dict)\n",
    "\n",
    "print(\"Population by Country:\")\n",
    "print(population_series)"
   ]
  },
  {
   "cell_type": "code",
   "execution_count": null,
   "metadata": {
    "colab": {
     "base_uri": "https://localhost:8080/"
    },
    "executionInfo": {
     "elapsed": 69,
     "status": "ok",
     "timestamp": 1749619990642,
     "user": {
      "displayName": "Mrinal Das",
      "userId": "10512190126354830840"
     },
     "user_tz": -330
    },
    "id": "BWRQ-4Q8b8tA",
    "outputId": "60c349dd-472a-4b12-bea5-5e79a9d05386"
   },
   "outputs": [
    {
     "name": "stdout",
     "output_type": "stream",
     "text": [
      "Price of Product X across branches:\n",
      "Miami          999\n",
      "Los Angeles    999\n",
      "Mumbai         999\n",
      "Tokyo          999\n",
      "dtype: int64\n"
     ]
    }
   ],
   "source": [
    "# Create a series from scalar value\n",
    "\n",
    "# Representing a single product price applied across 4 branches\n",
    "price_scalar = pd.Series(999, index=['Miami', 'Los Angeles', 'Mumbai', 'Tokyo'])\n",
    "\n",
    "print(\"Price of Product X across branches:\")\n",
    "print(price_scalar)"
   ]
  },
  {
   "cell_type": "code",
   "execution_count": null,
   "metadata": {
    "colab": {
     "base_uri": "https://localhost:8080/"
    },
    "executionInfo": {
     "elapsed": 16,
     "status": "ok",
     "timestamp": 1749621432517,
     "user": {
      "displayName": "Mrinal Das",
      "userId": "10512190126354830840"
     },
     "user_tz": -330
    },
    "id": "gCCf3qi6eMvr",
    "outputId": "33fa9e8d-7893-4c27-c4d7-63450473c08d"
   },
   "outputs": [
    {
     "name": "stdout",
     "output_type": "stream",
     "text": [
      "January Revenue: 20\n",
      "May Revenue: 35\n"
     ]
    },
    {
     "name": "stderr",
     "output_type": "stream",
     "text": [
      "<ipython-input-19-289685157>:11: FutureWarning: Series.__getitem__ treating keys as positions is deprecated. In a future version, integer keys will always be treated as labels (consistent with DataFrame behavior). To access a value by position, use `ser.iloc[pos]`\n",
      "  print(\"January Revenue:\", monthly_revenue[0])  # Accessing first element (index 0)\n",
      "<ipython-input-19-289685157>:12: FutureWarning: Series.__getitem__ treating keys as positions is deprecated. In a future version, integer keys will always be treated as labels (consistent with DataFrame behavior). To access a value by position, use `ser.iloc[pos]`\n",
      "  print(\"May Revenue:\", monthly_revenue[-1])     # Accessing last element (index -1)\n"
     ]
    }
   ],
   "source": [
    "# Accessing series elements by position\n",
    "import pandas as pd\n",
    "\n",
    "# Step 1: Create a Series with monthly revenue data\n",
    "monthly_revenue = pd.Series(\n",
    "    [20, 25, 30, 28, 35],\n",
    "    index=['Jan', 'Feb', 'Mar', 'Apr', 'May']\n",
    ")\n",
    "\n",
    "# Step 2: Access the first and last month's revenue using position-based indexing\n",
    "print(\"January Revenue:\", monthly_revenue[0])  # Accessing first element (index 0)\n",
    "print(\"May Revenue:\", monthly_revenue[-1])     # Accessing last element (index -1)"
   ]
  },
  {
   "cell_type": "code",
   "execution_count": null,
   "metadata": {
    "colab": {
     "base_uri": "https://localhost:8080/"
    },
    "executionInfo": {
     "elapsed": 756,
     "status": "ok",
     "timestamp": 1749623338617,
     "user": {
      "displayName": "Mrinal Das",
      "userId": "10512190126354830840"
     },
     "user_tz": -330
    },
    "id": "5LEEgka_iZmF",
    "outputId": "034e003c-31b4-46e4-be95-5ecfac955373"
   },
   "outputs": [
    {
     "name": "stdout",
     "output_type": "stream",
     "text": [
      "March Revenue: 30\n"
     ]
    }
   ],
   "source": [
    "# Accessing by label\n",
    "\n",
    "import pandas as pd\n",
    "\n",
    "# Step 1: Create a Series with monthly revenue data\n",
    "monthly_revenue = pd.Series(\n",
    "    [20, 25, 30, 28, 35],\n",
    "    index=['Jan', 'Feb', 'Mar', 'Apr', 'May']\n",
    ")\n",
    "\n",
    "# Access revenue for March directly using label\n",
    "print(\"March Revenue:\", monthly_revenue['Mar'])"
   ]
  },
  {
   "cell_type": "code",
   "execution_count": null,
   "metadata": {
    "colab": {
     "base_uri": "https://localhost:8080/"
    },
    "executionInfo": {
     "elapsed": 805,
     "status": "ok",
     "timestamp": 1749624318828,
     "user": {
      "displayName": "Mrinal Das",
      "userId": "10512190126354830840"
     },
     "user_tz": -330
    },
    "id": "I-Xazvg-q2eR",
    "outputId": "c96015c8-0ae5-4754-a3f1-10551048162d"
   },
   "outputs": [
    {
     "name": "stdout",
     "output_type": "stream",
     "text": [
      "Slicing [1:6:2] (Tue to Sat, alternate days):\n",
      " Tue    134\n",
      "Thu    145\n",
      "Sat    178\n",
      "dtype: int64\n",
      "\n",
      "Slicing [2:5] (Wed to Fri):\n",
      " Wed    120\n",
      "Thu    145\n",
      "Fri    160\n",
      "dtype: int64\n",
      "\n",
      "Slicing [3:] (Thu to Sun):\n",
      " Thu    145\n",
      "Fri    160\n",
      "Sat    178\n",
      "Sun    150\n",
      "dtype: int64\n",
      "\n",
      "Slicing [:4] (Mon to Thu):\n",
      " Mon    105\n",
      "Tue    134\n",
      "Wed    120\n",
      "Thu    145\n",
      "dtype: int64\n",
      "\n",
      "Slicing [:] (All days):\n",
      " Mon    105\n",
      "Tue    134\n",
      "Wed    120\n",
      "Thu    145\n",
      "Fri    160\n",
      "Sat    178\n",
      "Sun    150\n",
      "dtype: int64\n"
     ]
    }
   ],
   "source": [
    "# Slicing using index positions\n",
    "\n",
    "import pandas as pd\n",
    "\n",
    "# Step 1: Create a Series showing number of passengers\n",
    "# (in thousands) per day in a week\n",
    "passenger_load = pd.Series(\n",
    "    [105, 134, 120, 145, 160, 178, 150],\n",
    "    index=['Mon', 'Tue', 'Wed', 'Thu', 'Fri', 'Sat', 'Sun']\n",
    ")\n",
    "\n",
    "# Step 2: Apply various slicing techniques\n",
    "\n",
    "# Select alternate days starting from Tuesday to Saturday\n",
    "print(\"Slicing [1:6:2] (Tue to Sat, alternate days):\\n\", passenger_load[1:6:2])\n",
    "# Select midweek traffic from Wednesday to Friday\n",
    "print(\"\\nSlicing [2:5] (Wed to Fri):\\n\", passenger_load[2:5])\n",
    "# Select all data from Thursday onwards\n",
    "print(\"\\nSlicing [3:] (Thu to Sun):\\n\", passenger_load[3:])\n",
    "# Select early week (Mon to Thu)\n",
    "print(\"\\nSlicing [:4] (Mon to Thu):\\n\", passenger_load[:4])\n",
    "# Select the entire week\n",
    "print(\"\\nSlicing [:] (All days):\\n\", passenger_load[:])"
   ]
  },
  {
   "cell_type": "code",
   "execution_count": null,
   "metadata": {
    "colab": {
     "base_uri": "https://localhost:8080/"
    },
    "executionInfo": {
     "elapsed": 717,
     "status": "ok",
     "timestamp": 1749625682328,
     "user": {
      "displayName": "Mrinal Das",
      "userId": "10512190126354830840"
     },
     "user_tz": -330
    },
    "id": "IvznfH_tuSse",
    "outputId": "34190755-d46f-46ef-955f-ebe21976c1c5"
   },
   "outputs": [
    {
     "name": "stdout",
     "output_type": "stream",
     "text": [
      "Ticket sales from June 2 to June 5:\n",
      " 2024-06-02    135\n",
      "2024-06-03    128\n",
      "2024-06-04    160\n",
      "2024-06-05    142\n",
      "dtype: int64\n"
     ]
    }
   ],
   "source": [
    "# Slicing a Pandas Series using index labels\n",
    "\n",
    "import pandas as pd\n",
    "\n",
    "# Step 1: Create a Series of daily ticket sales (in thousands) over a week\n",
    "ticket_sales = pd.Series(\n",
    "  [120, 135, 128, 160, 142, 170, 155],\n",
    "  index=['2024-06-01', '2024-06-02', '2024-06-03',\n",
    "        '2024-06-04', '2024-06-05', '2024-06-06', '2024-06-07']\n",
    ")\n",
    "\n",
    "# Step 2: Slice sales from June 2nd to June 5th using index labels\n",
    "selected_sales = ticket_sales['2024-06-02':'2024-06-05']\n",
    "\n",
    "# Step 3: Display the result\n",
    "print(\"Ticket sales from June 2 to June 5:\\n\", selected_sales)"
   ]
  },
  {
   "cell_type": "code",
   "execution_count": null,
   "metadata": {
    "colab": {
     "base_uri": "https://localhost:8080/"
    },
    "executionInfo": {
     "elapsed": 444,
     "status": "ok",
     "timestamp": 1749626185624,
     "user": {
      "displayName": "Mrinal Das",
      "userId": "10512190126354830840"
     },
     "user_tz": -330
    },
    "id": "GW7TGbvq0JFp",
    "outputId": "890f5a06-30f3-48cf-c0e1-4fd0ea04ac76"
   },
   "outputs": [
    {
     "name": "stdout",
     "output_type": "stream",
     "text": [
      "Days with flight delays greater than 30 minutes:\n",
      " Tue    45\n",
      "Thu    33\n",
      "Fri    60\n",
      "dtype: int64\n"
     ]
    }
   ],
   "source": [
    "# Conditional access with boolean indexing\n",
    "\n",
    "import pandas as pd\n",
    "\n",
    "# Step 1: Create a Series of average delay times (in minutes) for flights over a week\n",
    "flight_delays = pd.Series(\n",
    "    [12, 45, 8, 33, 60, 18, 25],\n",
    "    index=['Mon', 'Tue', 'Wed', 'Thu', 'Fri', 'Sat', 'Sun']\n",
    ")\n",
    "\n",
    "# Step 2: Use Boolean indexing to filter days with significant delays (>30 minutes)\n",
    "high_delay_days = flight_delays[flight_delays > 30]\n",
    "\n",
    "# Step 3: Display the result\n",
    "print(\"Days with flight delays greater than 30 minutes:\\n\", high_delay_days)"
   ]
  },
  {
   "cell_type": "code",
   "execution_count": null,
   "metadata": {
    "colab": {
     "base_uri": "https://localhost:8080/"
    },
    "executionInfo": {
     "elapsed": 26,
     "status": "ok",
     "timestamp": 1749627780426,
     "user": {
      "displayName": "Mrinal Das",
      "userId": "10512190126354830840"
     },
     "user_tz": -330
    },
    "id": "Tnc59oyW2OLU",
    "outputId": "397105f6-bc30-4257-8869-70aae95efe54"
   },
   "outputs": [
    {
     "name": "stdout",
     "output_type": "stream",
     "text": [
      "Data not available\n"
     ]
    }
   ],
   "source": [
    "# Access using .get() to avoid errors\n",
    "\n",
    "import pandas as pd\n",
    "\n",
    "# Step 1: Create a Series of average delay times (in minutes) for flights over a week\n",
    "flight_delays = pd.Series(\n",
    "    [12, 45, 8, 33, 60, 18, 25],\n",
    "    index=['Mon', 'Tue', 'Wed', 'Thu', 'Fri', 'Sat', 'Sun']\n",
    ")\n",
    "\n",
    "# Try accessing a month that may not exist\n",
    "print(monthly_revenue.get('Jun', 'Data not available'))"
   ]
  },
  {
   "cell_type": "code",
   "execution_count": null,
   "metadata": {
    "colab": {
     "base_uri": "https://localhost:8080/"
    },
    "executionInfo": {
     "elapsed": 66,
     "status": "ok",
     "timestamp": 1749629124597,
     "user": {
      "displayName": "Mrinal Das",
      "userId": "10512190126354830840"
     },
     "user_tz": -330
    },
    "id": "Jw9-UQn74PNO",
    "outputId": "3228cd31-77a4-4ef1-e5e0-fe19218ea3d6"
   },
   "outputs": [
    {
     "name": "stdout",
     "output_type": "stream",
     "text": [
      "Data type of ad spend values: float64\n",
      "Total records (days): (7,)\n",
      "Index labels: Index(['Mon', 'Tue', 'Wed', 'Thu', 'Fri', 'Sat', 'Sun'], dtype='object')\n"
     ]
    }
   ],
   "source": [
    "# Example using all three attributes — dtype, shape, and index\n",
    "\n",
    "import pandas as pd\n",
    "\n",
    "# Step 1: Load clean ad spend data for a 7-day campaign\n",
    "ad_spend = pd.Series(\n",
    "    [15000.0, 18000.0, 17500.5, 16000.75, 19000.25, 20000.0, 19500.0],\n",
    "    index=['Mon', 'Tue', 'Wed', 'Thu', 'Fri', 'Sat', 'Sun']\n",
    ")\n",
    "\n",
    "# Step 2: Check the data type of the series values\n",
    "print(\"Data type of ad spend values:\", ad_spend.dtype)\n",
    "# Step 3: Confirm the number of days (i.e., data points)\n",
    "print(\"Total records (days):\", ad_spend.shape)\n",
    "# Step 4: Review index labels to ensure all days are present\n",
    "print(\"Index labels:\", ad_spend.index)"
   ]
  },
  {
   "cell_type": "code",
   "execution_count": null,
   "metadata": {
    "colab": {
     "base_uri": "https://localhost:8080/"
    },
    "executionInfo": {
     "elapsed": 57,
     "status": "ok",
     "timestamp": 1749634075414,
     "user": {
      "displayName": "Mrinal Das",
      "userId": "10512190126354830840"
     },
     "user_tz": -330
    },
    "id": "v-RjsLoJBK6T",
    "outputId": "23660581-b6c1-4a17-8d72-26d6bd3c9ba9"
   },
   "outputs": [
    {
     "name": "stdout",
     "output_type": "stream",
     "text": [
      "Projected Increased Cost:\n",
      " Jan    13200.0\n",
      "Feb    14850.0\n",
      "Mar    12100.0\n",
      "Apr    15950.0\n",
      "May    16500.0\n",
      "Jun    13750.0\n",
      "dtype: float64\n",
      "\n",
      "Difference from $13k Budget:\n",
      " Jan   -1000\n",
      "Feb     500\n",
      "Mar   -2000\n",
      "Apr    1500\n",
      "May    2000\n",
      "Jun    -500\n",
      "dtype: int64\n",
      "\n",
      "Cost in Thousands:\n",
      " Jan    12.0\n",
      "Feb    13.5\n",
      "Mar    11.0\n",
      "Apr    14.5\n",
      "May    15.0\n",
      "Jun    12.5\n",
      "dtype: float64\n",
      "\n",
      "Estimated Energy Cost (20%):\n",
      " Jan    2400.0\n",
      "Feb    2700.0\n",
      "Mar    2200.0\n",
      "Apr    2900.0\n",
      "May    3000.0\n",
      "Jun    2500.0\n",
      "dtype: float64\n",
      "\n",
      "Simulated Compounded Cost:\n",
      " Jan    144000000\n",
      "Feb    182250000\n",
      "Mar    121000000\n",
      "Apr    210250000\n",
      "May    225000000\n",
      "Jun    156250000\n",
      "dtype: int64\n"
     ]
    }
   ],
   "source": [
    "# Arithmetic operations\n",
    "import pandas as pd\n",
    "\n",
    "# Step 1: Actual monthly cloud costs in USD\n",
    "cloud_cost = pd.Series(\n",
    "    [12000, 13500, 11000, 14500, 15000, 12500],\n",
    "    index=['Jan', 'Feb', 'Mar', 'Apr', 'May', 'Jun']\n",
    ")\n",
    "\n",
    "# Step 2: Arithmetic operations\n",
    "increased_cost = cloud_cost * 1.10           # 10% cost increase projection\n",
    "budget_diff = cloud_cost - 13000             # Difference from fixed budget\n",
    "cost_in_thousands = cloud_cost / 1000        # Convert to '000 USD\n",
    "energy_cost = cloud_cost * 0.20              # Energy component as 20%\n",
    "compounded_cost = cloud_cost ** 2            # Simulate compounding effect\n",
    "\n",
    "# Display results\n",
    "print(\"Projected Increased Cost:\\n\", increased_cost)\n",
    "print(\"\\nDifference from $13k Budget:\\n\", budget_diff)\n",
    "print(\"\\nCost in Thousands:\\n\", cost_in_thousands)\n",
    "print(\"\\nEstimated Energy Cost (20%):\\n\", energy_cost)\n",
    "print(\"\\nSimulated Compounded Cost:\\n\", compounded_cost)"
   ]
  },
  {
   "cell_type": "code",
   "execution_count": null,
   "metadata": {
    "colab": {
     "base_uri": "https://localhost:8080/"
    },
    "executionInfo": {
     "elapsed": 18,
     "status": "ok",
     "timestamp": 1749642543577,
     "user": {
      "displayName": "Mrinal Das",
      "userId": "10512190126354830840"
     },
     "user_tz": -330
    },
    "id": "zxOKTKOu0UVb",
    "outputId": "96d16ad1-c2ff-4153-f886-fea17928c663"
   },
   "outputs": [
    {
     "name": "stdout",
     "output_type": "stream",
     "text": [
      "\n",
      "Updated Stock After Restock (Addition):\n",
      " Keyboard    220.0\n",
      "Laptop        NaN\n",
      "Monitor     500.0\n",
      "Mouse       130.0\n",
      "dtype: float64\n",
      "\n",
      "Difference (Backorders or Overdeliveries):\n",
      " Keyboard     20.0\n",
      "Laptop        NaN\n",
      "Monitor     100.0\n",
      "Mouse        30.0\n",
      "dtype: float64\n",
      "\n",
      "Total Volume for Shipping (Multiplication - e.g., units × package size):\n",
      " Keyboard    12000.0\n",
      "Laptop          NaN\n",
      "Monitor     60000.0\n",
      "Mouse        4000.0\n",
      "dtype: float64\n",
      "\n",
      "Stock Ratio (A vs. Restock):\n",
      " Keyboard    1.2\n",
      "Laptop      NaN\n",
      "Monitor     1.5\n",
      "Mouse       1.6\n",
      "dtype: float64\n"
     ]
    }
   ],
   "source": [
    "# Arithmetic operations between two series\n",
    "# Inventory adjustment using arithmetic operations\n",
    "\n",
    "import pandas as pd\n",
    "\n",
    "# Current stock in different warehouses (in units)\n",
    "stock_warehouse_A = pd.Series([150, 80, 120, 300], index=['Laptop', 'Mouse', 'Keyboard', 'Monitor'])\n",
    "\n",
    "# Latest restock shipment data (only partial items restocked)\n",
    "restock_shipment = pd.Series([50, 100, 200], index=['Mouse', 'Keyboard', 'Monitor'])\n",
    "\n",
    "# Perform arithmetic operations between the two Series\n",
    "print(\"\\nUpdated Stock After Restock (Addition):\\n\", stock_warehouse_A + restock_shipment)\n",
    "print(\"\\nDifference (Backorders or Overdeliveries):\\n\", stock_warehouse_A - restock_shipment)\n",
    "print(\"\\nTotal Volume for Shipping (Multiplication - e.g., units × package size):\\n\", stock_warehouse_A * restock_shipment)\n",
    "print(\"\\nStock Ratio (A vs. Restock):\\n\", stock_warehouse_A / restock_shipment)"
   ]
  },
  {
   "cell_type": "code",
   "execution_count": null,
   "metadata": {
    "colab": {
     "base_uri": "https://localhost:8080/"
    },
    "executionInfo": {
     "elapsed": 61,
     "status": "ok",
     "timestamp": 1749635495859,
     "user": {
      "displayName": "Mrinal Das",
      "userId": "10512190126354830840"
     },
     "user_tz": -330
    },
    "id": "gPdM9k4cE3fn",
    "outputId": "405a5cc4-98b0-4065-d8cb-308c0c5409e9"
   },
   "outputs": [
    {
     "name": "stdout",
     "output_type": "stream",
     "text": [
      "Months with Cost > $13,000:\n",
      " Jan    False\n",
      "Feb     True\n",
      "Mar    False\n",
      "Apr     True\n",
      "May     True\n",
      "Jun    False\n",
      "dtype: bool\n",
      "\n",
      "Outlier Months (< $12k or > $14.5k):\n",
      " Jan    False\n",
      "Feb    False\n",
      "Mar     True\n",
      "Apr    False\n",
      "May     True\n",
      "Jun    False\n",
      "dtype: bool\n",
      "\n",
      "Months Within Budget (<= $13,000):\n",
      " Jan     True\n",
      "Feb    False\n",
      "Mar     True\n",
      "Apr    False\n",
      "May    False\n",
      "Jun     True\n",
      "dtype: bool\n",
      "\n",
      "Filtered High Costs:\n",
      " Feb    13500\n",
      "Apr    14500\n",
      "May    15000\n",
      "dtype: int64\n",
      "\n",
      "Using where():\n",
      " Jan        NaN\n",
      "Feb    13500.0\n",
      "Mar        NaN\n",
      "Apr    14500.0\n",
      "May    15000.0\n",
      "Jun        NaN\n",
      "dtype: float64\n",
      "\n",
      "Using mask():\n",
      " Jan        NaN\n",
      "Feb    13500.0\n",
      "Mar        NaN\n",
      "Apr    14500.0\n",
      "May    15000.0\n",
      "Jun        NaN\n",
      "dtype: float64\n",
      "\n",
      "Clipped Values between $12k and $14k:\n",
      " Jan    12000\n",
      "Feb    13500\n",
      "Mar    12000\n",
      "Apr    14000\n",
      "May    14000\n",
      "Jun    12500\n",
      "dtype: int64\n"
     ]
    }
   ],
   "source": [
    "# Logical Operation on Series\n",
    "# Logical Operations on Monthly Cloud Costs\n",
    "\n",
    "import pandas as pd\n",
    "\n",
    "# Monthly cloud costs (USD)\n",
    "cloud_cost = pd.Series(\n",
    "    [12000, 13500, 11000, 14500, 15000, 12500],\n",
    "    index=['Jan', 'Feb', 'Mar', 'Apr', 'May', 'Jun']\n",
    ")\n",
    "\n",
    "# Find months where cost exceeded $13,000\n",
    "high_cost = cloud_cost > 13000\n",
    "\n",
    "# Find months where cost is either below $12,000 or above $14,500\n",
    "outlier_months = (cloud_cost < 12000) | (cloud_cost > 14500)\n",
    "\n",
    "# Negate condition: find months not exceeding $13,000\n",
    "within_budget = ~high_cost\n",
    "\n",
    "# Use Boolean mask to extract high cost values\n",
    "filtered_costs = cloud_cost[high_cost]\n",
    "\n",
    "# Use `where()` to keep only values above $13,000; others become NaN\n",
    "where_example = cloud_cost.where(cloud_cost > 13000)\n",
    "\n",
    "# Use `mask()` to hide costs below $13,000; keep rest\n",
    "mask_example = cloud_cost.mask(cloud_cost < 13000)\n",
    "\n",
    "# Use `clip()` to restrict all values between $12,000 and $14,000\n",
    "clipped_cost = cloud_cost.clip(lower=12000, upper=14000)\n",
    "\n",
    "# Display results\n",
    "print(\"Months with Cost > $13,000:\\n\", high_cost)\n",
    "print(\"\\nOutlier Months (< $12k or > $14.5k):\\n\", outlier_months)\n",
    "print(\"\\nMonths Within Budget (<= $13,000):\\n\", within_budget)\n",
    "print(\"\\nFiltered High Costs:\\n\", filtered_costs)\n",
    "print(\"\\nUsing where():\\n\", where_example)\n",
    "print(\"\\nUsing mask():\\n\", mask_example)\n",
    "print(\"\\nClipped Values between $12k and $14k:\\n\", clipped_cost)"
   ]
  },
  {
   "cell_type": "code",
   "execution_count": null,
   "metadata": {
    "colab": {
     "base_uri": "https://localhost:8080/"
    },
    "executionInfo": {
     "elapsed": 57,
     "status": "ok",
     "timestamp": 1749641156823,
     "user": {
      "displayName": "Mrinal Das",
      "userId": "10512190126354830840"
     },
     "user_tz": -330
    },
    "id": "eks44MeAZTwu",
    "outputId": "bed18337-44fa-4f2c-ad4d-4505f7355109"
   },
   "outputs": [
    {
     "name": "stdout",
     "output_type": "stream",
     "text": [
      "Original Sales:\n",
      " Q1-2021    240\n",
      "Q2-2021    180\n",
      "Q3-2021    310\n",
      "Q4-2021     95\n",
      "Q1-2022    450\n",
      "Q2-2022    120\n",
      "dtype: int64\n",
      "\n",
      "Sales Category:\n",
      " Q1-2021    Moderate\n",
      "Q2-2021    Moderate\n",
      "Q3-2021        High\n",
      "Q4-2021         Low\n",
      "Q1-2022        High\n",
      "Q2-2022         Low\n",
      "dtype: object\n"
     ]
    }
   ],
   "source": [
    "# apply()\n",
    "\n",
    "# Flagging high sales quarters in a retail chain\n",
    "\n",
    "import pandas as pd\n",
    "\n",
    "# Quarterly sales data for a retail company (in USD thousands)\n",
    "sales = pd.Series([240, 180, 310, 95, 450, 120],\n",
    "      index=[\"Q1-2021\", \"Q2-2021\", \"Q3-2021\", \"Q4-2021\", \"Q1-2022\", \"Q2-2022\"])\n",
    "\n",
    "# Custom function to tag quarters\n",
    "def tag_sales(value):\n",
    "  if value > 300:\n",
    "    return \"High\"\n",
    "  elif value < 150:\n",
    "    return \"Low\"\n",
    "  else:\n",
    "    return \"Moderate\"\n",
    "\n",
    "# Applying the function to Series using apply()\n",
    "tagged_sales = sales.apply(tag_sales)\n",
    "\n",
    "print(\"Original Sales:\\n\", sales)\n",
    "print(\"\\nSales Category:\\n\", tagged_sales)"
   ]
  },
  {
   "cell_type": "code",
   "execution_count": null,
   "metadata": {
    "colab": {
     "base_uri": "https://localhost:8080/"
    },
    "executionInfo": {
     "elapsed": 30,
     "status": "ok",
     "timestamp": 1749641062199,
     "user": {
      "displayName": "Mrinal Das",
      "userId": "10512190126354830840"
     },
     "user_tz": -330
    },
    "id": "nvoU5lVMjkaW",
    "outputId": "809d108e-fd35-403c-93d4-ace98853b2ea"
   },
   "outputs": [
    {
     "name": "stdout",
     "output_type": "stream",
     "text": [
      "Mapped Department Names:\n",
      " 0    Human Resources\n",
      "1        Engineering\n",
      "2          Marketing\n",
      "3    Human Resources\n",
      "4            Finance\n",
      "5        Engineering\n",
      "dtype: object\n"
     ]
    }
   ],
   "source": [
    "#map()\n",
    "\n",
    "# Mapping department codes to names in a payroll system\n",
    "# Department codes of employees\n",
    "import pandas as pd\n",
    "\n",
    "dept_codes = pd.Series(['HR', 'ENG', 'MKT', 'HR', 'FIN', 'ENG'])\n",
    "\n",
    "# Mapping to full department names\n",
    "dept_names = {\n",
    "    'HR': 'Human Resources',\n",
    "    'ENG': 'Engineering',\n",
    "    'MKT': 'Marketing',\n",
    "    'FIN': 'Finance'\n",
    "}\n",
    "\n",
    "# Mapping with .map()\n",
    "mapped = dept_codes.map(dept_names)\n",
    "\n",
    "print(\"Mapped Department Names:\\n\", mapped)"
   ]
  },
  {
   "cell_type": "markdown",
   "metadata": {
    "id": "HZo4-cQJu-UO"
   },
   "source": [
    "## **DataFrame**"
   ]
  },
  {
   "cell_type": "code",
   "execution_count": null,
   "metadata": {
    "colab": {
     "base_uri": "https://localhost:8080/"
    },
    "executionInfo": {
     "elapsed": 25,
     "status": "ok",
     "timestamp": 1749647095003,
     "user": {
      "displayName": "Mrinal Das",
      "userId": "10512190126354830840"
     },
     "user_tz": -330
    },
    "id": "DZV8rbiN3jDt",
    "outputId": "2acad4c7-2ba3-4a11-d9a6-ab40fc6511c7"
   },
   "outputs": [
    {
     "name": "stdout",
     "output_type": "stream",
     "text": [
      "  Patient_ID  Age  Cholesterol_mg/dL  On_Statins\n",
      "0       P101   45                190        True\n",
      "1       P102   54                205       False\n",
      "2       P103   38                180        True\n",
      "3       P104   50                220       False\n",
      "4       P105   60                199        True\n"
     ]
    }
   ],
   "source": [
    "# Creating DataFrame from Dictionary\n",
    "# Simulated cholesterol level data for a clinical trial\n",
    "\n",
    "import pandas as pd\n",
    "import numpy as np\n",
    "\n",
    "# Keys in the dictionary represent column names in the DataFrame\n",
    "# Each key maps to a list of values, where each element corresponds to a row\n",
    "cholesterol_data = {\n",
    "    'Patient_ID': ['P101', 'P102', 'P103', 'P104', 'P105'],\n",
    "    'Age': [45, 54, 38, 50, 60],\n",
    "    'Cholesterol_mg/dL': [190, 205, 180, 220, 199],\n",
    "    'On_Statins': [True, False, True, False, True]\n",
    "}\n",
    "\n",
    "# Convert dictionary to DataFrame\n",
    "df_medical = pd.DataFrame(cholesterol_data)\n",
    "print(df_medical)"
   ]
  },
  {
   "cell_type": "code",
   "execution_count": null,
   "metadata": {
    "colab": {
     "base_uri": "https://localhost:8080/"
    },
    "executionInfo": {
     "elapsed": 75,
     "status": "ok",
     "timestamp": 1749647323544,
     "user": {
      "displayName": "Mrinal Das",
      "userId": "10512190126354830840"
     },
     "user_tz": -330
    },
    "id": "Kog28jVMFeDp",
    "outputId": "39bf2757-4d2e-4b58-c68c-6176dcedb409"
   },
   "outputs": [
    {
     "name": "stdout",
     "output_type": "stream",
     "text": [
      "       Region  Year  Magnitude_Richter\n",
      "0  California  2016                6.5\n",
      "1       Japan  2018                7.3\n",
      "2       Chile  2020                6.9\n",
      "3       Nepal  2015                7.8\n",
      "4   Indonesia  2019                6.1\n"
     ]
    }
   ],
   "source": [
    "# Creating DataFrame from list\n",
    "# Seismic magnitude data for different regions\n",
    "\n",
    "import pandas as pd\n",
    "import numpy as np\n",
    "\n",
    "# Each inner list represents a row: [Region, Year, Magnitude]\n",
    "earthquake_data = [\n",
    "    ['California', 2016, 6.5],\n",
    "    ['Japan', 2018, 7.3],\n",
    "    ['Chile', 2020, 6.9],\n",
    "    ['Nepal', 2015, 7.8],\n",
    "    ['Indonesia', 2019, 6.1]\n",
    "]\n",
    "\n",
    "# Convert list of lists to DataFrame and specify column names\n",
    "df_geo = pd.DataFrame(earthquake_data, columns=['Region', 'Year', 'Magnitude_Richter'])\n",
    "print(df_geo)"
   ]
  },
  {
   "cell_type": "code",
   "execution_count": null,
   "metadata": {
    "colab": {
     "base_uri": "https://localhost:8080/"
    },
    "executionInfo": {
     "elapsed": 59,
     "status": "ok",
     "timestamp": 1749647703525,
     "user": {
      "displayName": "Mrinal Das",
      "userId": "10512190126354830840"
     },
     "user_tz": -330
    },
    "id": "VsNPDfnfG0nc",
    "outputId": "09555aa9-b88e-4636-dbff-f4656a5a075d"
   },
   "outputs": [
    {
     "name": "stdout",
     "output_type": "stream",
     "text": [
      "   Sensor_A_Intensity  Sensor_B_Intensity\n",
      "0                1500                1600\n",
      "1                1700                1800\n",
      "2                1650                1720\n",
      "3                1580                1625\n",
      "4                1775                1890\n"
     ]
    }
   ],
   "source": [
    "# Creating DataFrame from NumPy ndarray\n",
    "# Intensity readings from two telescope sensors for 5 stars\n",
    "\n",
    "\n",
    "import pandas as pd\n",
    "import numpy as np\n",
    "\n",
    "# Each row represents a star; each column a sensor reading\n",
    "astro_array = np.array([\n",
    "    [1500, 1600],\n",
    "    [1700, 1800],\n",
    "    [1650, 1720],\n",
    "    [1580, 1625],\n",
    "    [1775, 1890]\n",
    "])\n",
    "\n",
    "# Create DataFrame from the NumPy array with appropriate column names\n",
    "df_astro = pd.DataFrame(astro_array, columns=['Sensor_A_Intensity', 'Sensor_B_Intensity'])\n",
    "\n",
    "print(df_astro)"
   ]
  },
  {
   "cell_type": "code",
   "execution_count": null,
   "metadata": {
    "colab": {
     "base_uri": "https://localhost:8080/"
    },
    "executionInfo": {
     "elapsed": 23,
     "status": "ok",
     "timestamp": 1749654992372,
     "user": {
      "displayName": "Mrinal Das",
      "userId": "10512190126354830840"
     },
     "user_tz": -330
    },
    "id": "OJEThM99IQi4",
    "outputId": "fc4e0104-aeea-40c3-ef41-7bfd1277bca6"
   },
   "outputs": [
    {
     "name": "stdout",
     "output_type": "stream",
     "text": [
      "          City  PM2.5  PM10  NO2   CO\n",
      "0        Delhi    250   300   40  1.1\n",
      "1      Beijing    180   220   60  1.3\n",
      "2  Los Angeles     90   110   30  0.7\n",
      "3        Paris     60    80   25  0.6\n",
      "4       Sydney     40    55   20  0.4\n"
     ]
    }
   ],
   "source": [
    "# Reading DataFrame from CSV File\n",
    "\n",
    "import pandas as pd\n",
    "\n",
    "# Create the DataFrame with air quality data\n",
    "air_quality_data = {\n",
    "    'City': ['Delhi', 'Beijing', 'Los Angeles', 'Paris', 'Sydney'],\n",
    "    'PM2.5': [250, 180, 90, 60, 40],\n",
    "    'PM10': [300, 220, 110, 80, 55],\n",
    "    'NO2': [40, 60, 30, 25, 20],\n",
    "    'CO': [1.1, 1.3, 0.7, 0.6, 0.4]\n",
    "}\n",
    "\n",
    "df_air_quality = pd.DataFrame(air_quality_data)\n",
    "\n",
    "# Save the DataFrame to a CSV file\n",
    "df_air_quality.to_csv('air_quality_data.csv', index=False)\n",
    "\n",
    "# Optional: Load it back to confirm\n",
    "df_loaded = pd.read_csv('air_quality_data.csv')\n",
    "print(df_loaded)"
   ]
  },
  {
   "cell_type": "code",
   "execution_count": null,
   "metadata": {
    "colab": {
     "base_uri": "https://localhost:8080/"
    },
    "executionInfo": {
     "elapsed": 12,
     "status": "ok",
     "timestamp": 1749656200677,
     "user": {
      "displayName": "Mrinal Das",
      "userId": "10512190126354830840"
     },
     "user_tz": -330
    },
    "id": "ht1Z3cVPjEIL",
    "outputId": "f7bb38c5-77dc-406e-cb94-8fead7d9319d"
   },
   "outputs": [
    {
     "name": "stdout",
     "output_type": "stream",
     "text": [
      "          City  PM2.5  PM10  NO2   CO\n",
      "0        Delhi    250   300   40  1.1\n",
      "1      Beijing    180   220   60  1.3\n",
      "2  Los Angeles     90   110   30  0.7\n",
      "3        Paris     60    80   25  0.6\n",
      "4       Sydney     40    55   20  0.4\n"
     ]
    }
   ],
   "source": [
    "# Air Quality Data (Environmental Domain)\n",
    "\n",
    "import pandas as pd\n",
    "\n",
    "# Simulated dataset: Air quality readings in 5 cities\n",
    "air_quality_data = {\n",
    "    'City': ['Delhi', 'Beijing', 'Los Angeles', 'Paris', 'Sydney'],\n",
    "    'PM2.5': [250, 180, 90, 60, 40],      # Fine particulate matter\n",
    "    'PM10': [300, 220, 110, 80, 55],      # Coarse particulate matter\n",
    "    'NO2': [40, 60, 30, 25, 20],          # Nitrogen dioxide levels\n",
    "    'CO': [1.1, 1.3, 0.7, 0.6, 0.4]       # Carbon monoxide levels (in ppm)\n",
    "}\n",
    "\n",
    "# Convert the dictionary to a DataFrame\n",
    "df = pd.DataFrame(air_quality_data)\n",
    "print(df)"
   ]
  },
  {
   "cell_type": "code",
   "execution_count": null,
   "metadata": {
    "colab": {
     "base_uri": "https://localhost:8080/"
    },
    "executionInfo": {
     "elapsed": 9,
     "status": "ok",
     "timestamp": 1749656826046,
     "user": {
      "displayName": "Mrinal Das",
      "userId": "10512190126354830840"
     },
     "user_tz": -330
    },
    "id": "NXxVNL2coc4P",
    "outputId": "40c5902c-5a3b-4f58-df0f-21483687d1a3"
   },
   "outputs": [
    {
     "name": "stdout",
     "output_type": "stream",
     "text": [
      "Display first 5 rows\n",
      "          City  PM2.5  PM10  NO2   CO\n",
      "0        Delhi    250   300   40  1.1\n",
      "1      Beijing    180   220   60  1.3\n",
      "2  Los Angeles     90   110   30  0.7\n",
      "3        Paris     60    80   25  0.6\n",
      "4       Sydney     40    55   20  0.4\n",
      "\n",
      "Display first 3 rows\n",
      "          City  PM2.5  PM10  NO2   CO\n",
      "0        Delhi    250   300   40  1.1\n",
      "1      Beijing    180   220   60  1.3\n",
      "2  Los Angeles     90   110   30  0.7\n"
     ]
    }
   ],
   "source": [
    "# View the first 5 rows of the DataFrame\n",
    "print(\"Display first 5 rows\")\n",
    "print(df.head())\n",
    "\n",
    "print(\"\\nDisplay first 3 rows\")\n",
    "# Optionally, view a custom number of rows (e.g., first 3)\n",
    "print(df.head(3))"
   ]
  },
  {
   "cell_type": "code",
   "execution_count": null,
   "metadata": {
    "colab": {
     "base_uri": "https://localhost:8080/"
    },
    "executionInfo": {
     "elapsed": 33,
     "status": "ok",
     "timestamp": 1749657088259,
     "user": {
      "displayName": "Mrinal Das",
      "userId": "10512190126354830840"
     },
     "user_tz": -330
    },
    "id": "_KZEIBfToq7m",
    "outputId": "feabf6a9-a884-4492-f8fc-93757c576f4e"
   },
   "outputs": [
    {
     "name": "stdout",
     "output_type": "stream",
     "text": [
      "Display last 5 rows\n",
      "          City  PM2.5  PM10  NO2   CO\n",
      "0        Delhi    250   300   40  1.1\n",
      "1      Beijing    180   220   60  1.3\n",
      "2  Los Angeles     90   110   30  0.7\n",
      "3        Paris     60    80   25  0.6\n",
      "4       Sydney     40    55   20  0.4\n",
      "\n",
      "Display last 2 rows\n",
      "     City  PM2.5  PM10  NO2   CO\n",
      "3   Paris     60    80   25  0.6\n",
      "4  Sydney     40    55   20  0.4\n"
     ]
    }
   ],
   "source": [
    "# View the last 5 rows of the DataFrame\n",
    "print(\"Display last 5 rows\")\n",
    "print(df.tail())\n",
    "\n",
    "# View last 2 rows for spot checking end of file data\n",
    "print(\"\\nDisplay last 2 rows\")\n",
    "print(df.tail(2))"
   ]
  },
  {
   "cell_type": "code",
   "execution_count": null,
   "metadata": {
    "colab": {
     "base_uri": "https://localhost:8080/"
    },
    "executionInfo": {
     "elapsed": 52,
     "status": "ok",
     "timestamp": 1749657378120,
     "user": {
      "displayName": "Mrinal Das",
      "userId": "10512190126354830840"
     },
     "user_tz": -330
    },
    "id": "r4tFuaeer7lY",
    "outputId": "a997fb18-41a9-4664-8c70-53d1829c41c0"
   },
   "outputs": [
    {
     "name": "stdout",
     "output_type": "stream",
     "text": [
      "<class 'pandas.core.frame.DataFrame'>\n",
      "RangeIndex: 5 entries, 0 to 4\n",
      "Data columns (total 5 columns):\n",
      " #   Column  Non-Null Count  Dtype  \n",
      "---  ------  --------------  -----  \n",
      " 0   City    5 non-null      object \n",
      " 1   PM2.5   5 non-null      int64  \n",
      " 2   PM10    5 non-null      int64  \n",
      " 3   NO2     5 non-null      int64  \n",
      " 4   CO      5 non-null      float64\n",
      "dtypes: float64(1), int64(3), object(1)\n",
      "memory usage: 332.0+ bytes\n"
     ]
    }
   ],
   "source": [
    "# info() – Structure & Metadata of the DataFrame\n",
    "# Display column names, types, non-null values, and memory usage\n",
    "df.info()"
   ]
  },
  {
   "cell_type": "code",
   "execution_count": null,
   "metadata": {
    "colab": {
     "base_uri": "https://localhost:8080/"
    },
    "executionInfo": {
     "elapsed": 44,
     "status": "ok",
     "timestamp": 1749657786219,
     "user": {
      "displayName": "Mrinal Das",
      "userId": "10512190126354830840"
     },
     "user_tz": -330
    },
    "id": "ccYdnb9UtNtt",
    "outputId": "a3391894-333e-4e87-a22a-311dd78d92f1"
   },
   "outputs": [
    {
     "name": "stdout",
     "output_type": "stream",
     "text": [
      "Description of DataFrame             PM2.5        PM10        NO2        CO\n",
      "count    5.000000    5.000000   5.000000  5.000000\n",
      "mean   124.000000  153.000000  35.000000  0.820000\n",
      "std     88.487287  103.537433  15.811388  0.370135\n",
      "min     40.000000   55.000000  20.000000  0.400000\n",
      "25%     60.000000   80.000000  25.000000  0.600000\n",
      "50%     90.000000  110.000000  30.000000  0.700000\n",
      "75%    180.000000  220.000000  40.000000  1.100000\n",
      "max    250.000000  300.000000  60.000000  1.300000\n",
      "\n",
      "Detailed description of DataFrame          City       PM2.5        PM10        NO2        CO\n",
      "count       5    5.000000    5.000000   5.000000  5.000000\n",
      "unique      5         NaN         NaN        NaN       NaN\n",
      "top     Delhi         NaN         NaN        NaN       NaN\n",
      "freq        1         NaN         NaN        NaN       NaN\n",
      "mean      NaN  124.000000  153.000000  35.000000  0.820000\n",
      "std       NaN   88.487287  103.537433  15.811388  0.370135\n",
      "min       NaN   40.000000   55.000000  20.000000  0.400000\n",
      "25%       NaN   60.000000   80.000000  25.000000  0.600000\n",
      "50%       NaN   90.000000  110.000000  30.000000  0.700000\n",
      "75%       NaN  180.000000  220.000000  40.000000  1.100000\n",
      "max       NaN  250.000000  300.000000  60.000000  1.300000\n"
     ]
    }
   ],
   "source": [
    "# describe() – Summary statistics for numeric data\n",
    "\n",
    "# Get descriptive stats for numeric columns only\n",
    "print(\"Description of DataFrame\", df.describe())\n",
    "\n",
    "# Optional: Include all data types (numeric + object)\n",
    "print(\"\\nDetailed description of DataFrame\", df.describe(include='all'))"
   ]
  },
  {
   "cell_type": "code",
   "execution_count": null,
   "metadata": {
    "colab": {
     "base_uri": "https://localhost:8080/"
    },
    "executionInfo": {
     "elapsed": 43,
     "status": "ok",
     "timestamp": 1749668801290,
     "user": {
      "displayName": "Mrinal Das",
      "userId": "10512190126354830840"
     },
     "user_tz": -330
    },
    "id": "gxu7YYlRuj6f",
    "outputId": "f69bd1e3-1d53-43a5-9ba8-6a818cbdb8af"
   },
   "outputs": [
    {
     "name": "stdout",
     "output_type": "stream",
     "text": [
      "   ShipmentID         Origin Destination  Weight_kg  Fragile      Status\n",
      "0        1001       New York      Boston       12.5     True   Delivered\n",
      "1        1002  San Francisco     Seattle        8.0    False  In Transit\n",
      "2        1003         Dallas     Houston       15.0     True     Delayed\n",
      "3        1004        Chicago     Atlanta        7.5    False   Delivered\n",
      "4        1005          Miami      Denver       10.0     True     Delayed\n"
     ]
    }
   ],
   "source": [
    "#  Accessing Data in DataFrames\n",
    "#  Sample dataset: Logistics shipments\n",
    "\n",
    "import pandas as pd\n",
    "\n",
    "# Sample logistics dataset simulating shipment records\n",
    "data = {\n",
    "    'ShipmentID': [1001, 1002, 1003, 1004, 1005],\n",
    "    'Origin': ['New York', 'San Francisco', 'Dallas', 'Chicago', 'Miami'],\n",
    "    'Destination': ['Boston', 'Seattle', 'Houston', 'Atlanta', 'Denver'],\n",
    "    'Weight_kg': [12.5, 8.0, 15.0, 7.5, 10.0],\n",
    "    'Fragile': [True, False, True, False, True],\n",
    "    'Status': ['Delivered', 'In Transit', 'Delayed', 'Delivered', 'Delayed']\n",
    "}\n",
    "\n",
    "# Convert the dictionary to a DataFrame\n",
    "df = pd.DataFrame(data)\n",
    "print(df)"
   ]
  },
  {
   "cell_type": "code",
   "execution_count": null,
   "metadata": {
    "colab": {
     "base_uri": "https://localhost:8080/"
    },
    "executionInfo": {
     "elapsed": 15,
     "status": "ok",
     "timestamp": 1749668801571,
     "user": {
      "displayName": "Mrinal Das",
      "userId": "10512190126354830840"
     },
     "user_tz": -330
    },
    "id": "GweH0Hkwzz5x",
    "outputId": "e0c6e843-718d-4180-9764-cdc3529f3ca4"
   },
   "outputs": [
    {
     "name": "stdout",
     "output_type": "stream",
     "text": [
      "Shipment from San Francisco to Seattle\n",
      " Origin         San Francisco\n",
      "Destination          Seattle\n",
      "Status            In Transit\n",
      "Name: 1, dtype: object\n",
      "\n",
      "Fragile shipments\n",
      "    ShipmentID    Origin Destination  Weight_kg  Fragile     Status\n",
      "0        1001  New York      Boston       12.5     True  Delivered\n",
      "2        1003    Dallas     Houston       15.0     True    Delayed\n",
      "4        1005     Miami      Denver       10.0     True    Delayed\n"
     ]
    }
   ],
   "source": [
    "# loc[] - Access rows and columns using labels (names)\n",
    "\n",
    "# Get details of shipment from San Francisco to Seattle\n",
    "# loc[row_label, column_name]\n",
    "sf_shipment = df.loc[1, ['Origin', 'Destination', 'Status']]\n",
    "print(\"Shipment from San Francisco to Seattle\\n\", sf_shipment)\n",
    "\n",
    "# Get all fragile shipments\n",
    "fragile_df = df.loc[df['Fragile'] == True]\n",
    "print(\"\\nFragile shipments\\n\", fragile_df)"
   ]
  },
  {
   "cell_type": "code",
   "execution_count": null,
   "metadata": {
    "colab": {
     "base_uri": "https://localhost:8080/"
    },
    "executionInfo": {
     "elapsed": 9,
     "status": "ok",
     "timestamp": 1749668802521,
     "user": {
      "displayName": "Mrinal Das",
      "userId": "10512190126354830840"
     },
     "user_tz": -330
    },
    "id": "30Aobd1204VE",
    "outputId": "781c5d86-2e50-4b7c-b58d-c6b4e1d99def"
   },
   "outputs": [
    {
     "name": "stdout",
     "output_type": "stream",
     "text": [
      "First 2 shipment records\n",
      "    ShipmentID         Origin Destination  Weight_kg  Fragile      Status\n",
      "0        1001       New York      Boston       12.5     True   Delivered\n",
      "1        1002  San Francisco     Seattle        8.0    False  In Transit\n",
      "'\n",
      "Weight_kg' and 'Status' of 3rd and 4th shipments\n",
      "    Weight_kg  Fragile\n",
      "2       15.0     True\n",
      "3        7.5    False\n"
     ]
    }
   ],
   "source": [
    "# iloc[] - Access rows/columns using positional indices\n",
    "\n",
    "# Get the first 2 shipment records\n",
    "# iloc[row_index_position, column_index_position]\n",
    "first_two = df.iloc[0:2]\n",
    "print(\"First 2 shipment records\\n\", first_two)\n",
    "\n",
    "# Get the 'Weight_kg' and 'Status' of 3rd and 4th shipments\n",
    "weights_status = df.iloc[2:4, 3:5]\n",
    "print(\"'\\nWeight_kg' and 'Status' of 3rd and 4th shipments\\n\", weights_status)"
   ]
  },
  {
   "cell_type": "code",
   "execution_count": null,
   "metadata": {
    "colab": {
     "base_uri": "https://localhost:8080/"
    },
    "executionInfo": {
     "elapsed": 10,
     "status": "ok",
     "timestamp": 1749668803267,
     "user": {
      "displayName": "Mrinal Das",
      "userId": "10512190126354830840"
     },
     "user_tz": -330
    },
    "id": "uEj_8hWQ23ut",
    "outputId": "114b7df8-08bb-4fa4-859c-d3d0b4558169"
   },
   "outputs": [
    {
     "name": "stdout",
     "output_type": "stream",
     "text": [
      "In Transit\n"
     ]
    }
   ],
   "source": [
    "# at[] - Access a single cell using row label and column name\n",
    "\n",
    "# .at[row_label, column_label]\n",
    "# Returns a scalar value\n",
    "# Retrieve the status of shipment ID 1002\n",
    "shipment_status = df.at[1, 'Status']\n",
    "print(shipment_status)"
   ]
  },
  {
   "cell_type": "code",
   "execution_count": null,
   "metadata": {
    "colab": {
     "base_uri": "https://localhost:8080/"
    },
    "executionInfo": {
     "elapsed": 7,
     "status": "ok",
     "timestamp": 1749668804024,
     "user": {
      "displayName": "Mrinal Das",
      "userId": "10512190126354830840"
     },
     "user_tz": -330
    },
    "id": "Y8VqnIMV4k73",
    "outputId": "2e8de7c8-2de6-43b7-9a44-68abdacd0203"
   },
   "outputs": [
    {
     "name": "stdout",
     "output_type": "stream",
     "text": [
      "'Weight_kg' value of the 3rd record = 15.0\n"
     ]
    }
   ],
   "source": [
    "# iat[] - Access a single cell using row and column index\n",
    "\n",
    "# Get the 'Weight_kg' value of the 3rd record (index 2, column index 3)\n",
    "# .iat[row_index, column_index]\n",
    "weight_value = df.iat[2, 3]\n",
    "print(\"'Weight_kg' value of the 3rd record =\", weight_value)"
   ]
  },
  {
   "cell_type": "code",
   "execution_count": null,
   "metadata": {
    "colab": {
     "base_uri": "https://localhost:8080/"
    },
    "executionInfo": {
     "elapsed": 21,
     "status": "ok",
     "timestamp": 1749668804887,
     "user": {
      "displayName": "Mrinal Das",
      "userId": "10512190126354830840"
     },
     "user_tz": -330
    },
    "id": "5GKGlfRy6ILG",
    "outputId": "5b2c80a4-21c0-4d8a-b9e1-580c5c11467a"
   },
   "outputs": [
    {
     "name": "stdout",
     "output_type": "stream",
     "text": [
      "All delayed and fragile shipments\n",
      "    ShipmentID  Origin Destination  Weight_kg  Fragile   Status\n",
      "2        1003  Dallas     Houston       15.0     True  Delayed\n",
      "4        1005   Miami      Denver       10.0     True  Delayed\n",
      "\n",
      "Shipments weighing more than 10 kg\n",
      "    ShipmentID    Origin Destination  Weight_kg  Fragile     Status\n",
      "0        1001  New York      Boston       12.5     True  Delivered\n",
      "2        1003    Dallas     Houston       15.0     True    Delayed\n"
     ]
    }
   ],
   "source": [
    "# query() - Filter rows using a string-based expression, like SQL WHERE.\n",
    "\n",
    "# Query all delayed and fragile shipments\n",
    "delayed_fragile = df.query(\"Status == 'Delayed' and Fragile == True\")\n",
    "print(\"All delayed and fragile shipments\\n\", delayed_fragile)\n",
    "\n",
    "# Query shipments weighing more than 10 kg\n",
    "heavy_shipments = df.query(\"Weight_kg > 10\")\n",
    "print(\"\\nShipments weighing more than 10 kg\\n\", heavy_shipments)"
   ]
  },
  {
   "cell_type": "code",
   "execution_count": null,
   "metadata": {
    "colab": {
     "base_uri": "https://localhost:8080/"
    },
    "executionInfo": {
     "elapsed": 40,
     "status": "ok",
     "timestamp": 1749668806700,
     "user": {
      "displayName": "Mrinal Das",
      "userId": "10512190126354830840"
     },
     "user_tz": -330
    },
    "id": "oNkTx5Z87InM",
    "outputId": "1bed6c76-543e-4925-f67e-77c760437908"
   },
   "outputs": [
    {
     "name": "stdout",
     "output_type": "stream",
     "text": [
      "From kg to lb\n",
      " 0    27.55775\n",
      "1    17.63696\n",
      "2    33.06930\n",
      "3    16.53465\n",
      "4    22.04620\n",
      "Name: Weight_lb, dtype: float64\n",
      "\n",
      "Weight Category\n",
      " 0    Heavy\n",
      "1    Light\n",
      "2    Heavy\n",
      "3    Light\n",
      "4    Light\n",
      "Name: Category, dtype: object\n",
      "\n",
      "Shipment status - Before\n",
      " 0     Delivered\n",
      "1    In Transit\n",
      "2       Delayed\n",
      "3     Delivered\n",
      "4       Delayed\n",
      "Name: Status, dtype: object\n",
      "\n",
      "Shipment status - After\n",
      " 0     Delivered\n",
      "1    In Transit\n",
      "2      Critical\n",
      "3     Delivered\n",
      "4      Critical\n",
      "Name: Status, dtype: object\n"
     ]
    }
   ],
   "source": [
    "# Column Updates in Supply Chain Dataset\n",
    "\n",
    "import pandas as pd\n",
    "\n",
    "# Sample logistics DataFrame\n",
    "df = pd.DataFrame({\n",
    "    'ShipmentID': [1001, 1002, 1003, 1004, 1005],\n",
    "    'Weight_kg': [12.5, 8.0, 15.0, 7.5, 10.0],\n",
    "    'Status': ['Delivered', 'In Transit', 'Delayed', 'Delivered', 'Delayed'],\n",
    "    'Fragile': [True, False, True, False, True]\n",
    "})\n",
    "\n",
    "# 1. Convert weight from kg to lb (1 kg = 2.20462 lb)\n",
    "df['Weight_lb'] = df['Weight_kg'] * 2.20462\n",
    "print(\"From kg to lb\\n\", df['Weight_lb'])\n",
    "\n",
    "# 2. Categorize weights\n",
    "df['Category'] = df['Weight_kg'].map(lambda x: 'Heavy' if x > 10 else 'Light')\n",
    "print(\"\\nWeight Category\\n\", df['Category'])\n",
    "\n",
    "# 3. Update 'Status' where it is 'Delayed'\n",
    "print(\"\\nShipment status - Before\\n\", df['Status'])\n",
    "df.loc[df['Status'] == 'Delayed', 'Status'] = 'Critical'\n",
    "print(\"\\nShipment status - After\\n\", df['Status'])"
   ]
  },
  {
   "cell_type": "code",
   "execution_count": null,
   "metadata": {
    "colab": {
     "base_uri": "https://localhost:8080/"
    },
    "executionInfo": {
     "elapsed": 24,
     "status": "ok",
     "timestamp": 1749668811322,
     "user": {
      "displayName": "Mrinal Das",
      "userId": "10512190126354830840"
     },
     "user_tz": -330
    },
    "id": "p3yRN-HxQiq8",
    "outputId": "37d45f1f-1e5f-4c57-db40-64dd36c685c1"
   },
   "outputs": [
    {
     "name": "stdout",
     "output_type": "stream",
     "text": [
      "After adding shipping_Type\n",
      "    ShipmentID  Weight_kg      Status  Fragile  Weight_lb Category  \\\n",
      "0        1001       12.5   Delivered     True   27.55775    Heavy   \n",
      "1        1002        8.0  In Transit    False   17.63696    Light   \n",
      "2        1003       15.0    Critical     True   33.06930    Heavy   \n",
      "3        1004        7.5   Delivered    False   16.53465    Light   \n",
      "4        1005       10.0    Critical     True   22.04620    Light   \n",
      "\n",
      "  Shipping_Type  \n",
      "0           Air  \n",
      "1        Ground  \n",
      "2           Air  \n",
      "3        Ground  \n",
      "4           Air  \n",
      "\n",
      "After renaming 'Weight_kg' to 'Weight (kg)'\n",
      "    ShipmentID  Weight (kg)      Status  Fragile  Weight_lb Category  \\\n",
      "0        1001         12.5   Delivered     True   27.55775    Heavy   \n",
      "1        1002          8.0  In Transit    False   17.63696    Light   \n",
      "2        1003         15.0    Critical     True   33.06930    Heavy   \n",
      "3        1004          7.5   Delivered    False   16.53465    Light   \n",
      "4        1005         10.0    Critical     True   22.04620    Light   \n",
      "\n",
      "  Shipping_Type  \n",
      "0           Air  \n",
      "1        Ground  \n",
      "2           Air  \n",
      "3        Ground  \n",
      "4           Air  \n",
      "\n",
      "Dropping Status column\n",
      "    ShipmentID  Weight (kg)  Fragile  Weight_lb Category Shipping_Type\n",
      "0        1001         12.5     True   27.55775    Heavy           Air\n",
      "1        1002          8.0    False   17.63696    Light        Ground\n",
      "2        1003         15.0     True   33.06930    Heavy           Air\n",
      "3        1004          7.5    False   16.53465    Light        Ground\n",
      "4        1005         10.0     True   22.04620    Light           Air\n",
      "\n",
      "After adding a new row\n",
      "    ShipmentID  Weight (kg) Fragile  Weight_lb Category Shipping_Type\n",
      "0        1001         12.5     1.0   27.55775    Heavy           Air\n",
      "1        1002          8.0     0.0   17.63696    Light        Ground\n",
      "2        1003         15.0     1.0   33.06930    Heavy           Air\n",
      "3        1004          7.5     0.0   16.53465    Light        Ground\n",
      "4        1005         10.0     1.0   22.04620    Light           Air\n",
      "5        1006          9.5     NaN   20.94389    Light        Ground\n"
     ]
    }
   ],
   "source": [
    "# Adding, Renaming & Dropping Rows/Columns\n",
    "# Add/Rename/Drop in Shipment Dataset\n",
    "\n",
    "import pandas as pd\n",
    "\n",
    "# Add new column for shipping type\n",
    "df['Shipping_Type'] = ['Air', 'Ground', 'Air', 'Ground', 'Air']\n",
    "print(\"After adding shipping_Type\\n\", df)\n",
    "\n",
    "# Rename column\n",
    "df = df.rename(columns={'Weight_kg': 'Weight (kg)'})\n",
    "print(\"\\nAfter renaming 'Weight_kg' to 'Weight (kg)'\\n\", df)\n",
    "\n",
    "# Drop a column\n",
    "df = df.drop('Status', axis=1)\n",
    "print(\"\\nDropping Status column\\n\", df)\n",
    "\n",
    "# Add new shipment as a row\n",
    "new_row = {'ShipmentID': 1006, 'Weight (kg)': 9.5, 'Status': 'In Transit',\n",
    "           'Weight_lb': 9.5 * 2.20462, 'Category': 'Light', 'Shipping_Type': 'Ground'}\n",
    "df.loc[len(df)] = new_row\n",
    "\n",
    "print(\"\\nAfter adding a new row\\n\", df)"
   ]
  },
  {
   "cell_type": "code",
   "execution_count": null,
   "metadata": {
    "colab": {
     "base_uri": "https://localhost:8080/"
    },
    "executionInfo": {
     "elapsed": 34,
     "status": "ok",
     "timestamp": 1749669605213,
     "user": {
      "displayName": "Mrinal Das",
      "userId": "10512190126354830840"
     },
     "user_tz": -330
    },
    "id": "nhijczw2WIeK",
    "outputId": "44637d57-e46d-475e-fe8b-63eacf72ef05"
   },
   "outputs": [
    {
     "name": "stdout",
     "output_type": "stream",
     "text": [
      "   ShipmentID  Weight_kg      Status  Fragile Shipping_Type Category\n",
      "0        1001       12.5   Delivered     True           Air    Heavy\n",
      "1        1002        8.0  In Transit    False        Ground    Light\n",
      "2        1003       15.0    Critical     True           Air    Heavy\n",
      "3        1004        7.5   Delivered    False        Ground    Light\n",
      "4        1005       10.0    Critical     True           Air    Light\n"
     ]
    }
   ],
   "source": [
    "# Filtering Rows with Conditions\n",
    "# Conditional filtering\n",
    "\n",
    "#  Sample dataset: Logistics shipments\n",
    "import pandas as pd\n",
    "\n",
    "# Creating logistics shipment DataFrame\n",
    "df = pd.DataFrame({\n",
    "    'ShipmentID': [1001, 1002, 1003, 1004, 1005],\n",
    "    'Weight_kg': [12.5, 8.0, 15.0, 7.5, 10.0],\n",
    "    'Status': ['Delivered', 'In Transit', 'Delayed', 'Delivered', 'Delayed'],\n",
    "    'Fragile': [True, False, True, False, True],\n",
    "    'Shipping_Type': ['Air', 'Ground', 'Air', 'Ground', 'Air']\n",
    "})\n",
    "\n",
    "# Categorize weights: Light or Heavy (for filtering)\n",
    "df['Category'] = df['Weight_kg'].map(lambda x: 'Heavy' if x > 10 else 'Light')\n",
    "\n",
    "# Upgrade status from 'Delayed' to 'Critical'\n",
    "df.loc[df['Status'] == 'Delayed', 'Status'] = 'Critical'\n",
    "print(df)"
   ]
  },
  {
   "cell_type": "code",
   "execution_count": null,
   "metadata": {
    "colab": {
     "base_uri": "https://localhost:8080/"
    },
    "executionInfo": {
     "elapsed": 17,
     "status": "ok",
     "timestamp": 1749669713735,
     "user": {
      "displayName": "Mrinal Das",
      "userId": "10512190126354830840"
     },
     "user_tz": -330
    },
    "id": "RgWuckfObMjr",
    "outputId": "07ddb1e1-1af2-46d6-f6e7-1d0752137595"
   },
   "outputs": [
    {
     "name": "stdout",
     "output_type": "stream",
     "text": [
      "Critical shipments\n",
      "    ShipmentID  Weight_kg    Status  Fragile Shipping_Type Category\n",
      "2        1003       15.0  Critical     True           Air    Heavy\n",
      "4        1005       10.0  Critical     True           Air    Light\n",
      "\n",
      "Heavy and air-shipped packages\n",
      "    ShipmentID  Weight_kg     Status  Fragile Shipping_Type Category\n",
      "0        1001       12.5  Delivered     True           Air    Heavy\n",
      "2        1003       15.0   Critical     True           Air    Heavy\n",
      "\n",
      "Round-shipped light items\n",
      "    ShipmentID  Weight_kg      Status  Fragile Shipping_Type Category\n",
      "1        1002        8.0  In Transit    False        Ground    Light\n",
      "3        1004        7.5   Delivered    False        Ground    Light\n"
     ]
    }
   ],
   "source": [
    "# 1. Get all critical shipments\n",
    "critical_df = df[df['Status'] == 'Critical']\n",
    "print(\"Critical shipments\\n\", critical_df)\n",
    "\n",
    "# 2. Get all heavy and air-shipped packages\n",
    "heavy_air_df = df[(df['Category'] == 'Heavy') & (df['Shipping_Type'] == 'Air')]\n",
    "print(\"\\nHeavy and air-shipped packages\\n\", heavy_air_df)\n",
    "\n",
    "# 3. Query for ground-shipped light items\n",
    "ground_light = df.query(\"Category == 'Light' and Shipping_Type == 'Ground'\")\n",
    "print(\"\\nRound-shipped light items\\n\", ground_light)"
   ]
  },
  {
   "cell_type": "code",
   "execution_count": null,
   "metadata": {
    "colab": {
     "base_uri": "https://localhost:8080/"
    },
    "executionInfo": {
     "elapsed": 49,
     "status": "ok",
     "timestamp": 1749670715783,
     "user": {
      "displayName": "Mrinal Das",
      "userId": "10512190126354830840"
     },
     "user_tz": -330
    },
    "id": "uGeWSSjiblZ2",
    "outputId": "bd3cd3cb-6405-48f4-aa7f-7e0e3bdcbdce"
   },
   "outputs": [
    {
     "name": "stdout",
     "output_type": "stream",
     "text": [
      "   Weight (kg)\n",
      "0         13.5\n",
      "1          8.8\n",
      "2         16.2\n",
      "3          NaN\n",
      "4          NaN\n",
      "   Weight (kg)\n",
      "0         13.5\n",
      "1          8.8\n",
      "2         16.2\n",
      "3          7.5\n",
      "4         10.0\n"
     ]
    }
   ],
   "source": [
    "#  DataFrame Arithmetic (with/without alignment)\n",
    "\n",
    "# Original weight and extra packaging weight DataFrames\n",
    "base_weight = pd.DataFrame({'Weight (kg)': [12.5, 8.0, 15.0, 7.5, 10.0]}, index=[0,1,2,3,4])\n",
    "packaging_weight = pd.DataFrame({'Weight (kg)': [1.0, 0.8, 1.2]}, index=[0,1,2])\n",
    "\n",
    "# Arithmetic between DataFrames is label-based by default.\n",
    "total1 = base_weight + packaging_weight\n",
    "# When indices don’t match, result is NaN unless fill_value is set.\n",
    "# Add directly (unaligned - will result in NaN for rows 3 & 4)\n",
    "print(total1)\n",
    "\n",
    "# Add with fill_value (aligned operation)\n",
    "total2 = base_weight.add(packaging_weight, fill_value=0)\n",
    "print(total2)"
   ]
  },
  {
   "cell_type": "markdown",
   "metadata": {
    "id": "BfFEAzZOficQ"
   },
   "source": [
    "# Session 02"
   ]
  },
  {
   "cell_type": "code",
   "execution_count": null,
   "metadata": {
    "id": "AfvS8_qpvijT"
   },
   "outputs": [],
   "source": [
    "# Create a CSV Sample (Air Quality Dataset)\n",
    "\n",
    "import pandas as pd\n",
    "\n",
    "# Writing a sample CSV file (for demonstration)\n",
    "df_air_quality = pd.DataFrame({\n",
    "    'Station': ['Delhi-01', 'Miami-02', 'Sydney-03', 'Oslo-04', 'Kuwait-05'],\n",
    "    'PM2.5': [205, 180, 90, 160, 75],\n",
    "    'PM10': [310, 290, 135, 250, 120],\n",
    "    'O3': [40, 35, 50, 45, 60],\n",
    "    'AQI_Category': ['Severe', 'Very Poor', 'Moderate', 'Poor', 'Satisfactory']\n",
    "})\n",
    "\n",
    "# Save this to a CSV file\n",
    "df_air_quality.to_csv('air_quality_data.csv', index=False)"
   ]
  },
  {
   "cell_type": "code",
   "execution_count": null,
   "metadata": {
    "colab": {
     "base_uri": "https://localhost:8080/"
    },
    "executionInfo": {
     "elapsed": 15,
     "status": "ok",
     "timestamp": 1749675100954,
     "user": {
      "displayName": "Mrinal Das",
      "userId": "10512190126354830840"
     },
     "user_tz": -330
    },
    "id": "Z3CCMDDywVCW",
    "outputId": "65c3109c-22b2-4543-c6a9-3182c827aa92"
   },
   "outputs": [
    {
     "name": "stdout",
     "output_type": "stream",
     "text": [
      "CSV file data\n",
      "\n",
      "     Station  PM2.5  PM10  O3  AQI_Category\n",
      "0   Delhi-01    205   310  40        Severe\n",
      "1   Miami-02    180   290  35     Very Poor\n",
      "2  Sydney-03     90   135  50      Moderate\n",
      "3    Oslo-04    160   250  45          Poor\n",
      "4  Kuwait-05     75   120  60  Satisfactory\n"
     ]
    }
   ],
   "source": [
    "# Read the saved CSV into a new DataFrame\n",
    "df = pd.read_csv('air_quality_data.csv')\n",
    "print(\"CSV file data\\n\")\n",
    "print(df)"
   ]
  },
  {
   "cell_type": "markdown",
   "metadata": {
    "id": "8a_Q0gZAvc5y"
   },
   "source": [
    "## **IO Tools**"
   ]
  },
  {
   "cell_type": "code",
   "execution_count": null,
   "metadata": {
    "colab": {
     "base_uri": "https://localhost:8080/"
    },
    "executionInfo": {
     "elapsed": 10,
     "status": "ok",
     "timestamp": 1749675314938,
     "user": {
      "displayName": "Mrinal Das",
      "userId": "10512190126354830840"
     },
     "user_tz": -330
    },
    "id": "-C5TFa7kv3Ya",
    "outputId": "86765ea6-c587-4428-d3a7-5f1b3de0d2e2"
   },
   "outputs": [
    {
     "name": "stdout",
     "output_type": "stream",
     "text": [
      "filtered Data - PM2.5 > 100\n",
      "     Station  PM2.5  PM10  O3 AQI_Category\n",
      "0  Delhi-01    205   310  40       Severe\n",
      "1  Miami-02    180   290  35    Very Poor\n",
      "3   Oslo-04    160   250  45         Poor\n"
     ]
    }
   ],
   "source": [
    "# Writing Filtered Data to CSV\n",
    "\n",
    "# Filter stations where PM2.5 > 100 and save to CSV\n",
    "df_filtered = df[df['PM2.5'] > 100]\n",
    "print(\"filtered Data - PM2.5 > 100\\n\", df_filtered)\n",
    "df_filtered.to_csv('high_pm25_stations.csv', index=False)"
   ]
  },
  {
   "cell_type": "code",
   "execution_count": null,
   "metadata": {
    "id": "DB4RS2qVxe74"
   },
   "outputs": [],
   "source": [
    "# Writing excel files\n",
    "# Medical Lab Test Results for 5 patients\n",
    "\n",
    "import pandas as pd\n",
    "\n",
    "# Sample lab test data\n",
    "df_lab = pd.DataFrame({\n",
    "    'Patient_ID': ['P101', 'P102', 'P103', 'P104', 'P105'],\n",
    "    'Glucose_mg/dL': [95, 140, 110, 180, 105],\n",
    "    'Cholesterol_mg/dL': [180, 210, 200, 250, 190],\n",
    "    'Risk_Level': ['Low', 'High', 'Moderate', 'High', 'Moderate']\n",
    "})\n",
    "\n",
    "# Save to Excel\n",
    "df_lab.to_excel('lab_results.xlsx', index=False)"
   ]
  },
  {
   "cell_type": "code",
   "execution_count": null,
   "metadata": {
    "colab": {
     "base_uri": "https://localhost:8080/"
    },
    "executionInfo": {
     "elapsed": 80,
     "status": "ok",
     "timestamp": 1749675604211,
     "user": {
      "displayName": "Mrinal Das",
      "userId": "10512190126354830840"
     },
     "user_tz": -330
    },
    "id": "9hIa0Vp6ynOc",
    "outputId": "c4e7aa84-e9cd-4218-9859-1fa55a9ded0a"
   },
   "outputs": [
    {
     "name": "stdout",
     "output_type": "stream",
     "text": [
      "Data from excel file\n",
      "   Patient_ID  Glucose_mg/dL  Cholesterol_mg/dL Risk_Level\n",
      "0       P101             95                180        Low\n",
      "1       P102            140                210       High\n",
      "2       P103            110                200   Moderate\n",
      "3       P104            180                250       High\n",
      "4       P105            105                190   Moderate\n"
     ]
    }
   ],
   "source": [
    "# Read the Excel file into a DataFrame\n",
    "df_loaded = pd.read_excel('lab_results.xlsx')\n",
    "print(\"Data from excel file\\n\", df_loaded)"
   ]
  },
  {
   "cell_type": "code",
   "execution_count": null,
   "metadata": {
    "id": "vW7FcXthyvbl"
   },
   "outputs": [],
   "source": [
    "# Writing data to JSON file\n",
    "# Sensor Output (IoT in Agriculture)\n",
    "\n",
    "import pandas as pd\n",
    "\n",
    "df_sensor = pd.DataFrame({\n",
    "    'SensorID': ['S01', 'S02', 'S03', 'S04', 'S05'],\n",
    "    'SoilMoisture_%': [30, 45, 25, 60, 35],\n",
    "    'Temperature_C': [22, 25, 20, 30, 24],\n",
    "    'Status': ['Normal', 'Warning', 'Critical', 'Warning', 'Normal']\n",
    "})\n",
    "\n",
    "# Save to JSON\n",
    "df_sensor.to_json('sensor_data.json', orient='records', indent=2)"
   ]
  },
  {
   "cell_type": "code",
   "execution_count": null,
   "metadata": {
    "colab": {
     "base_uri": "https://localhost:8080/"
    },
    "executionInfo": {
     "elapsed": 13,
     "status": "ok",
     "timestamp": 1749676116475,
     "user": {
      "displayName": "Mrinal Das",
      "userId": "10512190126354830840"
     },
     "user_tz": -330
    },
    "id": "nWlVUAHR0Sd9",
    "outputId": "a993d548-6f17-4cee-fc19-3e268c49b42b"
   },
   "outputs": [
    {
     "name": "stdout",
     "output_type": "stream",
     "text": [
      "Read data from JSON\n",
      "   SensorID  SoilMoisture_%  Temperature_C    Status\n",
      "0      S01              30             22    Normal\n",
      "1      S02              45             25   Warning\n",
      "2      S03              25             20  Critical\n",
      "3      S04              60             30   Warning\n",
      "4      S05              35             24    Normal\n"
     ]
    }
   ],
   "source": [
    "# Read the JSON file\n",
    "df_from_json = pd.read_json('sensor_data.json')\n",
    "print(\"Read data from JSON\\n\", df_from_json)"
   ]
  },
  {
   "cell_type": "code",
   "execution_count": null,
   "metadata": {
    "id": "Hs8nGbuZ4Y8M"
   },
   "outputs": [],
   "source": [
    "'''\n",
    "Copy this before executing this cell.\n",
    "\n",
    "Patient_ID\tHemoglobin\tWhite_Blood_Cell_Count\n",
    "P001\t13.5\t6000\n",
    "P002\t14.2\t5500\n",
    "P003\t12.0\t7200\n",
    "P004\t11.5\t8000\n",
    "P005\t13.0\t6900\n",
    "'''\n",
    "\n",
    "import pandas as pd\n",
    "\n",
    "# Read a table from clipboard\n",
    "df = pd.read_clipboard()\n",
    "\n",
    "# Display the DataFrame\n",
    "print(\"Data copied from clipboard:\")\n",
    "print(df)\n",
    "\n",
    "# Write the DataFrame back to clipboard\n",
    "df.to_clipboard(index=False)\n",
    "print(\"\\nData has been copied back to clipboard. You can now paste it in Excel or a document.\")"
   ]
  },
  {
   "cell_type": "code",
   "execution_count": null,
   "metadata": {
    "colab": {
     "base_uri": "https://localhost:8080/"
    },
    "executionInfo": {
     "elapsed": 22,
     "status": "ok",
     "timestamp": 1749678054576,
     "user": {
      "displayName": "Mrinal Das",
      "userId": "10512190126354830840"
     },
     "user_tz": -330
    },
    "id": "J6UUNhx96crU",
    "outputId": "0e0a5fe8-9445-46e5-bb99-39fad7311f70"
   },
   "outputs": [
    {
     "name": "stdout",
     "output_type": "stream",
     "text": [
      "   ShipmentID       City  Weight      Status\n",
      "0           1  Kathmandu    12.5   Delivered\n",
      "1           2     Mumbai    10.0  In Transit\n",
      "2           3      kabul    15.0    Critical\n",
      "3           4  Hong Kong     9.5   Delivered\n",
      "4           5      Dhaka     8.0    Critical\n"
     ]
    }
   ],
   "source": [
    "# Reading/Writing SQL Databases\n",
    "# Read/write logistics shipment table in SQLite\n",
    "\n",
    "# Import necessary libraries: pandas for data handling, sqlite3 for database connection\n",
    "import pandas as pd\n",
    "import sqlite3\n",
    "\n",
    "# Create a connection object to the SQLite database file\n",
    "# If the file doesn't exist, it will raise an error unless it is created manually.\n",
    "conn = sqlite3.connect('logistics.db')\n",
    "\n",
    "# Execute SQL query to read all rows from the 'shipments' table and load into a DataFrame\n",
    "# pd.read_sql_query() directly returns the result of the SQL query as a DataFrame\n",
    "df_shipments = pd.read_sql_query(\"SELECT * FROM shipments\", conn)\n",
    "\n",
    "# Print the first 5 records using head() to confirm the data\n",
    "print(df_shipments.head())\n",
    "\n",
    "# Close the database connection to avoid memory leaks\n",
    "conn.close()"
   ]
  },
  {
   "cell_type": "code",
   "execution_count": null,
   "metadata": {
    "colab": {
     "base_uri": "https://localhost:8080/"
    },
    "executionInfo": {
     "elapsed": 752,
     "status": "ok",
     "timestamp": 1749678629720,
     "user": {
      "displayName": "Mrinal Das",
      "userId": "10512190126354830840"
     },
     "user_tz": -330
    },
    "id": "sHjLbprb63jU",
    "outputId": "1733fa5e-b5be-4b22-d887-a2d8276d2e69"
   },
   "outputs": [
    {
     "name": "stdout",
     "output_type": "stream",
     "text": [
      "COVID Data                                     COVID-19 pandemic  \\\n",
      "0   Confirmed deaths per 100,000 population,[1][no...   \n",
      "1                                             Disease   \n",
      "2                                        Virus strain   \n",
      "3                                              Source   \n",
      "4                                            Location   \n",
      "5                                      First outbreak   \n",
      "6                                          Index case   \n",
      "7                                                Date   \n",
      "8                                     Confirmed cases   \n",
      "9                                              Deaths   \n",
      "10                                       Vaccinations   \n",
      "\n",
      "                                  COVID-19 pandemic.1  \n",
      "0   Confirmed deaths per 100,000 population,[1][no...  \n",
      "1                                            COVID-19  \n",
      "2                                          SARS-CoV-2  \n",
      "3      Probably bats, possibly via pangolins[2][3][4]  \n",
      "4                                           Worldwide  \n",
      "5                                            China[5]  \n",
      "6   Wuhan, Hubei, China 30°37′11″N 114°15′28″E﻿ / ...  \n",
      "7   First case of COVID-19: 17 November 2019; 5 ye...  \n",
      "8                                      775,866,783[6]  \n",
      "9                                        7,057,132[6]  \n",
      "10  5,631,263,739[6] (total vaccinated)5,177,942,9...  \n"
     ]
    }
   ],
   "source": [
    "# Reading HTML Tables\n",
    "\n",
    "# Load all tables from a given HTML page\n",
    "url = 'https://en.wikipedia.org/wiki/COVID-19_pandemic_by_country_and_territory'\n",
    "tables = pd.read_html(url)\n",
    "\n",
    "# Select the first table with actual data\n",
    "df_covid = tables[0]\n",
    "print(\"COVID Data\",df_covid)"
   ]
  },
  {
   "cell_type": "code",
   "execution_count": null,
   "metadata": {
    "colab": {
     "base_uri": "https://localhost:8080/"
    },
    "executionInfo": {
     "elapsed": 12,
     "status": "ok",
     "timestamp": 1749679137043,
     "user": {
      "displayName": "Mrinal Das",
      "userId": "10512190126354830840"
     },
     "user_tz": -330
    },
    "id": "Q2px4A2a-R7H",
    "outputId": "2da91f97-7a19-458c-b426-c7e32a1b0d2c"
   },
   "outputs": [
    {
     "name": "stdout",
     "output_type": "stream",
     "text": [
      "Read data from HDF5 file\n",
      "   Station ID  PM2.5\n",
      "0       QW12    180\n",
      "1       BR43    140\n",
      "2       PF98    200\n",
      "3       RD32    160\n",
      "4       XE09    120\n"
     ]
    }
   ],
   "source": [
    "# Reading/Writing HDF5 Format\n",
    "# Air Pollution Data Archive\n",
    "\n",
    "import pandas as pd\n",
    "\n",
    "# Sample data\n",
    "df_hdf = pd.DataFrame({\n",
    "    'Station ID': ['QW12', 'BR43', 'PF98', 'RD32', 'XE09'],\n",
    "    'PM2.5': [180, 140, 200, 160, 120]\n",
    "})\n",
    "\n",
    "# Save to HDF5\n",
    "df_hdf.to_hdf('pollution_data.h5', key='air', mode='w')\n",
    "\n",
    "# Read back\n",
    "df_loaded = pd.read_hdf('pollution_data.h5', key='air')\n",
    "print(\"Read data from HDF5 file\\n\", df_loaded)"
   ]
  },
  {
   "cell_type": "code",
   "execution_count": null,
   "metadata": {
    "colab": {
     "base_uri": "https://localhost:8080/"
    },
    "executionInfo": {
     "elapsed": 10,
     "status": "ok",
     "timestamp": 1749679669057,
     "user": {
      "displayName": "Mrinal Das",
      "userId": "10512190126354830840"
     },
     "user_tz": -330
    },
    "id": "Ai7Ie4G-BeG4",
    "outputId": "97c1a926-f88f-4e33-d326-0456d62084c1"
   },
   "outputs": [
    {
     "name": "stdout",
     "output_type": "stream",
     "text": [
      "          Region  PM2.5  PM10  NO2\n",
      "Station                           \n",
      "Station_A  North     32    45   22\n",
      "Station_B  North     28    40   19\n",
      "Station_C  South     54    67   31\n",
      "Station_D  South     50    60   28\n",
      "Station_E   East     35    48   23\n"
     ]
    }
   ],
   "source": [
    "#  Index Objects in Pandas\n",
    "\n",
    "# Create dataset with custom index\n",
    "import pandas as pd\n",
    "\n",
    "# Environmental air quality dataset\n",
    "data = {\n",
    "    'Region': ['North', 'North', 'South', 'South', 'East'],\n",
    "    'Station': ['Station_A', 'Station_B', 'Station_C', 'Station_D', 'Station_E'],\n",
    "    'PM2.5': [32, 28, 54, 50, 35],\n",
    "    'PM10': [45, 40, 67, 60, 48],\n",
    "    'NO2': [22, 19, 31, 28, 23]\n",
    "}\n",
    "\n",
    "# Step 1: Create DataFrame with Station as a custom index\n",
    "df_custom = pd.DataFrame(data)\n",
    "\n",
    "# Use 'Station' column as the index instead of default integer index\n",
    "df_custom.set_index('Station', inplace=True)\n",
    "\n",
    "# Step 2: Display the DataFrame with custom index\n",
    "print(df_custom)"
   ]
  },
  {
   "cell_type": "markdown",
   "metadata": {
    "id": "9693Aes2_z_h"
   },
   "source": [
    "## **Indexing**"
   ]
  },
  {
   "cell_type": "code",
   "execution_count": null,
   "metadata": {
    "colab": {
     "base_uri": "https://localhost:8080/"
    },
    "executionInfo": {
     "elapsed": 11,
     "status": "ok",
     "timestamp": 1749680505192,
     "user": {
      "displayName": "Mrinal Das",
      "userId": "10512190126354830840"
     },
     "user_tz": -330
    },
    "id": "9PSPLquRCEDq",
    "outputId": "c2814b87-6dd9-414c-ec53-4f1383c5c909"
   },
   "outputs": [
    {
     "name": "stdout",
     "output_type": "stream",
     "text": [
      "                  PM2.5  PM10  NO2\n",
      "Region Station                    \n",
      "North  Station_A     32    45   22\n",
      "       Station_B     28    40   19\n",
      "South  Station_C     54    67   31\n",
      "       Station_D     50    60   28\n",
      "East   Station_E     35    48   23\n"
     ]
    }
   ],
   "source": [
    "#  Hierarchical Index (MultiIndex)\n",
    "\n",
    "import pandas as pd\n",
    "\n",
    "# Step 1: Create DataFrame with hierarchical index (Region + Station)\n",
    "df_multi = pd.DataFrame(data)\n",
    "\n",
    "# Now you can access data by both region and station\n",
    "df_multi.set_index(['Region', 'Station'], inplace=True)\n",
    "\n",
    "# Step 2: Display the DataFrame with hierarchical index\n",
    "print(df_multi)"
   ]
  },
  {
   "cell_type": "code",
   "execution_count": null,
   "metadata": {
    "colab": {
     "base_uri": "https://localhost:8080/"
    },
    "executionInfo": {
     "elapsed": 14,
     "status": "ok",
     "timestamp": 1749681303741,
     "user": {
      "displayName": "Mrinal Das",
      "userId": "10512190126354830840"
     },
     "user_tz": -330
    },
    "id": "LNlijEK3ChQB",
    "outputId": "71c7f81d-8a64-4d09-a383-b470fc8f5fcd"
   },
   "outputs": [
    {
     "name": "stdout",
     "output_type": "stream",
     "text": [
      "1. Specific station:\n",
      " PM2.5    50\n",
      "PM10     60\n",
      "NO2      28\n",
      "Name: (South, Station_D), dtype: int64\n",
      "\n",
      "2. All stations in South:\n",
      "            PM2.5  PM10  NO2\n",
      "Station                    \n",
      "Station_C     54    67   31\n",
      "Station_D     50    60   28\n",
      "\n",
      "3. South - Station_C:\n",
      " PM2.5    54\n",
      "PM10     67\n",
      "NO2      31\n",
      "Name: (South, Station_C), dtype: int64\n",
      "\n",
      "4. South region, PM2.5 and NO2 columns:\n",
      "                   PM2.5  NO2\n",
      "Region Station              \n",
      "South  Station_C     54   31\n",
      "       Station_D     50   28\n"
     ]
    }
   ],
   "source": [
    "# Advanced Slicing and Filtering with MultiIndex\n",
    "import pandas as pd\n",
    "\n",
    "# Create sample environmental dataset\n",
    "data = {\n",
    "    'Region': ['North', 'North', 'South', 'South', 'East'],\n",
    "    'Station': ['Station_A', 'Station_B', 'Station_C', 'Station_D', 'Station_E'],\n",
    "    'PM2.5': [32, 28, 54, 50, 35],\n",
    "    'PM10': [45, 40, 67, 60, 48],\n",
    "    'NO2': [22, 19, 31, 28, 23]\n",
    "}\n",
    "\n",
    "# Convert to hierarchical index (Region + Station)\n",
    "df_multi = pd.DataFrame(data)\n",
    "df_multi.set_index(['Region', 'Station'], inplace=True)\n",
    "\n",
    "# Use tuple-style indexing for a specific row\n",
    "south_station_d = df_multi.loc[('South', 'Station_D')]\n",
    "\n",
    "# Use slice to get all stations in 'South'\n",
    "south_all = df_multi.loc['South']\n",
    "\n",
    "#  Use IndexSlice to filter Region 'South' and only Station_C\n",
    "idx = pd.IndexSlice\n",
    "south_station_c = df_multi.loc[idx['South', 'Station_C'], :]\n",
    "\n",
    "# Use IndexSlice to filter Region 'South' and get only PM2.5 and NO2 columns\n",
    "selected_cols = df_multi.loc[idx['South', :], ['PM2.5', 'NO2']]\n",
    "\n",
    "# Display results\n",
    "print(\"1. Specific station:\\n\", south_station_d)\n",
    "print(\"\\n2. All stations in South:\\n\", south_all)\n",
    "print(\"\\n3. South - Station_C:\\n\", south_station_c)\n",
    "print(\"\\n4. South region, PM2.5 and NO2 columns:\\n\", selected_cols)"
   ]
  },
  {
   "cell_type": "markdown",
   "metadata": {
    "id": "NqMxrCr4IU6G"
   },
   "source": [
    "##**Binary Operations**"
   ]
  },
  {
   "cell_type": "code",
   "execution_count": null,
   "metadata": {
    "colab": {
     "base_uri": "https://localhost:8080/"
    },
    "executionInfo": {
     "elapsed": 685,
     "status": "ok",
     "timestamp": 1749734831832,
     "user": {
      "displayName": "Mrinal Das",
      "userId": "10512190126354830840"
     },
     "user_tz": -330
    },
    "id": "t12ot9PMfhHp",
    "outputId": "ec2e534f-9bf9-4e3e-cf72-19dc1abceddc"
   },
   "outputs": [
    {
     "name": "stdout",
     "output_type": "stream",
     "text": [
      "Cities with Safe PM2.5 Levels:\n",
      " 0    False\n",
      "1    False\n",
      "2    False\n",
      "3    False\n",
      "4     True\n",
      "Name: PM2.5, dtype: bool\n",
      "\n",
      "Cities with High PM10 Levels:\n",
      " 0     True\n",
      "1     True\n",
      "2     True\n",
      "3    False\n",
      "4    False\n",
      "Name: PM10, dtype: bool\n",
      "\n",
      "Cities where PM2.5 equals PM10:\n",
      " 0    False\n",
      "1    False\n",
      "2    False\n",
      "3    False\n",
      "4    False\n",
      "dtype: bool\n"
     ]
    }
   ],
   "source": [
    "# Air Pollution Monitoring (Environment Domain)\n",
    "\n",
    "import pandas as pd\n",
    "\n",
    "# Sample dataset: Air pollution readings from 3 cities\n",
    "data = {\n",
    "    'City': ['Delhi', 'Mumbai', 'Kolkata', 'Chennai', 'Bangalore'],\n",
    "    'PM2.5': [210, 180, 135, 120, 95],\n",
    "    'PM10': [310, 295, 250, 190, 160]\n",
    "}\n",
    "\n",
    "df = pd.DataFrame(data)\n",
    "\n",
    "# Define safe threshold values (as per environmental standards)\n",
    "safe_PM25 = 100\n",
    "safe_PM10 = 200\n",
    "\n",
    "# Perform binary comparisons\n",
    "pm25_safe = df['PM2.5'] <= safe_PM25       # Is PM2.5 within safe limit?\n",
    "pm10_high = df['PM10'] > safe_PM10         # Is PM10 exceeding danger level?\n",
    "pm_match = df['PM2.5'] == df['PM10']       # Are both pollutants equal?\n",
    "\n",
    "# Print comparisons\n",
    "print(\"Cities with Safe PM2.5 Levels:\\n\", pm25_safe)\n",
    "print(\"\\nCities with High PM10 Levels:\\n\", pm10_high)\n",
    "print(\"\\nCities where PM2.5 equals PM10:\\n\", pm_match)"
   ]
  },
  {
   "cell_type": "code",
   "execution_count": null,
   "metadata": {
    "colab": {
     "base_uri": "https://localhost:8080/"
    },
    "executionInfo": {
     "elapsed": 30,
     "status": "ok",
     "timestamp": 1749737210983,
     "user": {
      "displayName": "Mrinal Das",
      "userId": "10512190126354830840"
     },
     "user_tz": -330
    },
    "id": "KocHpLNFfuxF",
    "outputId": "5c663fe2-fe35-40cf-9ad6-a4acb18a62c4"
   },
   "outputs": [
    {
     "name": "stdout",
     "output_type": "stream",
     "text": [
      "Daily Emissions Data:\n",
      "    NOx_Emissions  CO2_Emissions\n",
      "0             10             40\n",
      "1             20             50\n",
      "2             30             60\n",
      "\n",
      "Emissions < 25 mg/m³:\n",
      "    NOx_Emissions  CO2_Emissions\n",
      "0           True          False\n",
      "1           True          False\n",
      "2          False          False\n",
      "\n",
      "Emissions > 50 mg/m³ (Exceeds Alert Level):\n",
      "    NOx_Emissions  CO2_Emissions\n",
      "0          False          False\n",
      "1          False          False\n",
      "2          False           True\n",
      "\n",
      "Emissions == 30 mg/m³ (Match Target Day):\n",
      "    NOx_Emissions  CO2_Emissions\n",
      "0          False          False\n",
      "1          False          False\n",
      "2           True          False\n",
      "\n",
      "Emissions <= 30 mg/m³:\n",
      "    NOx_Emissions  CO2_Emissions\n",
      "0           True          False\n",
      "1           True          False\n",
      "2           True          False\n",
      "\n",
      "Emissions >= 40 mg/m³:\n",
      "    NOx_Emissions  CO2_Emissions\n",
      "0          False           True\n",
      "1          False           True\n",
      "2          False           True\n",
      "\n",
      "Emissions != 30 mg/m³:\n",
      "    NOx_Emissions  CO2_Emissions\n",
      "0           True           True\n",
      "1           True           True\n",
      "2          False           True\n"
     ]
    }
   ],
   "source": [
    "# Boolean operation functions\n",
    "\n",
    "# INDUSTRIAL USE CASE: Emission Monitoring in a Power Plant\n",
    "# Columns represent emissions (in mg/m³) from two monitoring sensors:\n",
    "# - 'NOx_Emissions' from Sensor A\n",
    "# - 'CO2_Emissions' from Sensor B\n",
    "# Each row represents a daily reading.\n",
    "\n",
    "import pandas as pd\n",
    "\n",
    "# Create a sample DataFrame with emissions data (in mg/m³)\n",
    "data = {\n",
    "    'NOx_Emissions': [10, 20, 30],   # Nitrogen oxides (harmful gases)\n",
    "    'CO2_Emissions': [40, 50, 60]    # Carbon dioxide (global warming agent)\n",
    "}\n",
    "df = pd.DataFrame(data)\n",
    "\n",
    "# Display the DataFrame\n",
    "print(\"Daily Emissions Data:\\n\", df)\n",
    "\n",
    "# Binary comparison — Check if emissions are less than 25\n",
    "# Returns a DataFrame with boolean values (True/False) per element\n",
    "print(\"\\nEmissions < 25 mg/m³:\\n\", df.lt(25))  # lt = less than\n",
    "\n",
    "# Check if emissions exceed 50 mg/m³\n",
    "print(\"\\nEmissions > 50 mg/m³ (Exceeds Alert Level):\\n\", df.gt(50))  # gt = greater than\n",
    "\n",
    "# Check where emissions are exactly 30 mg/m³\n",
    "print(\"\\nEmissions == 30 mg/m³ (Match Target Day):\\n\", df.eq(30))  # eq = equal to\n",
    "\n",
    "# Check if emissions are <= 30 mg/m³ (within safe range)\n",
    "print(\"\\nEmissions <= 30 mg/m³:\\n\", df.le(30))  # le = less than or equal\n",
    "\n",
    "# Check if emissions are >= 40 mg/m³ (likely to be reviewed)\n",
    "print(\"\\nEmissions >= 40 mg/m³:\\n\", df.ge(40))  # ge = greater than or equal\n",
    "\n",
    "# Check if emissions are not equal to 30 mg/m³\n",
    "print(\"\\nEmissions != 30 mg/m³:\\n\", df.ne(30))  # ne = not equal"
   ]
  },
  {
   "cell_type": "code",
   "execution_count": null,
   "metadata": {
    "colab": {
     "base_uri": "https://localhost:8080/"
    },
    "executionInfo": {
     "elapsed": 64,
     "status": "ok",
     "timestamp": 1749738594999,
     "user": {
      "displayName": "Mrinal Das",
      "userId": "10512190126354830840"
     },
     "user_tz": -330
    },
    "id": "KRbjSP7WdlH3",
    "outputId": "9698f8fe-f35e-45f3-e465-d00fb89834a0"
   },
   "outputs": [
    {
     "name": "stdout",
     "output_type": "stream",
     "text": [
      "=== Shipment Logistics Dataset ===\n",
      "  ShipmentID   OriginPort DestinationPort  Weight(kg)  Cost(USD) Delivered\n",
      "0      S1001     Shanghai     Los Angeles        1200       5500       Yes\n",
      "1      S1002    Rotterdam       Singapore         850       4300        No\n",
      "2      S1003    Singapore         Hamburg        1650       7800       Yes\n",
      "3      S1004  Los Angeles        Shanghai         950       5100        No\n",
      "4      S1005        Dubai       Rotterdam        1750       8900       Yes\n",
      "\n",
      "=== Filtered Shipments (Undelivered, Light, From Europe) ===\n",
      "  ShipmentID OriginPort DestinationPort  Weight(kg)  Cost(USD) Delivered\n",
      "1      S1002  Rotterdam       Singapore         850       4300        No\n"
     ]
    }
   ],
   "source": [
    "# Advanced Boolean indexing with multiple conditions using a realistic logistics shipment dataset\n",
    "\n",
    "import pandas as pd\n",
    "\n",
    "# Create a realistic shipment dataset with international ports\n",
    "data = {\n",
    "    'ShipmentID': ['S1001', 'S1002', 'S1003', 'S1004', 'S1005'],\n",
    "    'OriginPort': ['Shanghai', 'Rotterdam', 'Singapore', 'Los Angeles', 'Dubai'],\n",
    "    'DestinationPort': ['Los Angeles', 'Singapore', 'Hamburg', 'Shanghai', 'Rotterdam'],\n",
    "    'Weight(kg)': [1200, 850, 1650, 950, 1750],\n",
    "    'Cost(USD)': [5500, 4300, 7800, 5100, 8900],\n",
    "    'Delivered': ['Yes', 'No', 'Yes', 'No', 'Yes']\n",
    "}\n",
    "\n",
    "# Create DataFrame\n",
    "df = pd.DataFrame(data)\n",
    "\n",
    "# Display the DataFrame\n",
    "print(\"=== Shipment Logistics Dataset ===\")\n",
    "print(df)\n",
    "\n",
    "# ADVANCED BOOLEAN INDEXING with multiple conditions\n",
    "# Filter shipments that are:\n",
    "# - Not delivered\n",
    "# - Weight less than 1000 kg\n",
    "# - Originating from European ports (Rotterdam or Hamburg)\n",
    "\n",
    "# Define a set of European ports\n",
    "europe_ports = ['Rotterdam', 'Hamburg']\n",
    "\n",
    "# Apply advanced filtering with multiple conditions\n",
    "filtered_df = df[\n",
    "    (df['Delivered'] == 'No') &\n",
    "    (df['Weight(kg)'] < 1000) &\n",
    "    (df['OriginPort'].isin(europe_ports))]\n",
    "\n",
    "# Display the filtered result\n",
    "print(\"\\n=== Filtered Shipments (Undelivered, Light, From Europe) ===\")\n",
    "print(filtered_df)"
   ]
  },
  {
   "cell_type": "code",
   "execution_count": null,
   "metadata": {
    "colab": {
     "base_uri": "https://localhost:8080/"
    },
    "executionInfo": {
     "elapsed": 46,
     "status": "ok",
     "timestamp": 1749739711751,
     "user": {
      "displayName": "Mrinal Das",
      "userId": "10512190126354830840"
     },
     "user_tz": -330
    },
    "id": "vpk-vjYaiUHj",
    "outputId": "2aef604f-5e26-45d7-a61d-0b02458c5cbd"
   },
   "outputs": [
    {
     "name": "stdout",
     "output_type": "stream",
     "text": [
      "Shipment Data\n",
      "  ShipmentID OriginPort DestinationPort  Weight(kg)  Cost(USD) Delivered\n",
      "0       S101   Shanghai     Los Angeles         980       5200       Yes\n",
      "1       S102    Hamburg           Busan        1120       6400        No\n",
      "2       S103  Singapore         Hamburg         860       4500        No\n",
      "3       S104  Rotterdam        New York        1500       7500       Yes\n",
      "4       S105      Dubai       Singapore         930       5800        No\n",
      "\n",
      "Filtered Shipments: Undelivered, High-Cost, Lightweight\n",
      "  ShipmentID OriginPort DestinationPort  Weight(kg)  Cost(USD) Delivered\n",
      "4       S105      Dubai       Singapore         930       5800        No\n"
     ]
    }
   ],
   "source": [
    "# Logistics dataset based on major global trade ports and apply Boolean masking to find specific shipment entries.\n",
    "\n",
    "import pandas as pd\n",
    "\n",
    "# Create a realistic international shipment DataFrame\n",
    "data = {\n",
    "    'ShipmentID': ['S101', 'S102', 'S103', 'S104', 'S105'],\n",
    "    'OriginPort': ['Shanghai', 'Hamburg', 'Singapore', 'Rotterdam', 'Dubai'],\n",
    "    'DestinationPort': ['Los Angeles', 'Busan', 'Hamburg', 'New York', 'Singapore'],\n",
    "    'Weight(kg)': [980, 1120, 860, 1500, 930],\n",
    "    'Cost(USD)': [5200, 6400, 4500, 7500, 5800],\n",
    "    'Delivered': ['Yes', 'No', 'No', 'Yes', 'No']\n",
    "}\n",
    "\n",
    "# Create the DataFrame\n",
    "df = pd.DataFrame(data)\n",
    "\n",
    "# Display the full dataset\n",
    "print(\"Shipment Data\")\n",
    "print(df)\n",
    "\n",
    "# Create a Boolean mask using multiple conditions\n",
    "# Goal: Find shipments that are:\n",
    "# - Not delivered\n",
    "# - Have cost > 5000 USD\n",
    "# - Weigh less than 1000 kg\n",
    "\n",
    "# Construct the Boolean mask\n",
    "mask = (df['Delivered'] == 'No') & (df['Cost(USD)'] > 5000) & (df['Weight(kg)'] < 1000)\n",
    "\n",
    "# Apply the mask to the DataFrame\n",
    "filtered_df = df[mask]\n",
    "\n",
    "# Display the filtered results\n",
    "print(\"\\nFiltered Shipments: Undelivered, High-Cost, Lightweight\")\n",
    "print(filtered_df)"
   ]
  },
  {
   "cell_type": "markdown",
   "metadata": {
    "id": "eeFTDFeqnLfq"
   },
   "source": [
    "# Session 03"
   ]
  },
  {
   "cell_type": "markdown",
   "metadata": {
    "id": "r7_VFKz3rtdx"
   },
   "source": [
    "## **Sorting**"
   ]
  },
  {
   "cell_type": "code",
   "execution_count": null,
   "metadata": {
    "colab": {
     "base_uri": "https://localhost:8080/"
    },
    "executionInfo": {
     "elapsed": 61,
     "status": "ok",
     "timestamp": 1749740951049,
     "user": {
      "displayName": "Mrinal Das",
      "userId": "10512190126354830840"
     },
     "user_tz": -330
    },
    "id": "CYH1s-0Srzw_",
    "outputId": "15846d13-7585-42ea-8e7a-6d88d3803177"
   },
   "outputs": [
    {
     "name": "stdout",
     "output_type": "stream",
     "text": [
      "Original DataFrame:\n",
      "    ShipmentID   OriginPort DestinationPort  Weight_Tons DepartureDate\n",
      "0         103     Shanghai        New York         15.4    2024-09-01\n",
      "1         101    Rotterdam         Hamburg         25.1    2024-08-25\n",
      "2         105    Singapore          London         12.3    2024-09-10\n",
      "3         102        Dubai           Tokyo         18.7    2024-08-28\n",
      "4         104  Los Angeles          Mumbai         20.5    2024-09-03\n"
     ]
    }
   ],
   "source": [
    "# Dataset: Shipment Records from Major Ports\n",
    "\n",
    "import pandas as pd\n",
    "\n",
    "# Sample shipment data from international ports\n",
    "data = {\n",
    "    \"ShipmentID\": [103, 101, 105, 102, 104],\n",
    "    \"OriginPort\": [\"Shanghai\", \"Rotterdam\", \"Singapore\", \"Dubai\", \"Los Angeles\"],\n",
    "    \"DestinationPort\": [\"New York\", \"Hamburg\", \"London\", \"Tokyo\", \"Mumbai\"],\n",
    "    \"Weight_Tons\": [15.4, 25.1, 12.3, 18.7, 20.5],\n",
    "    \"DepartureDate\": pd.to_datetime([\n",
    "        \"2024-09-01\", \"2024-08-25\", \"2024-09-10\", \"2024-08-28\", \"2024-09-03\"\n",
    "    ])\n",
    "}\n",
    "\n",
    "# Create DataFrame\n",
    "df = pd.DataFrame(data)\n",
    "print(\"Original DataFrame:\\n\", df)"
   ]
  },
  {
   "cell_type": "code",
   "execution_count": null,
   "metadata": {
    "colab": {
     "base_uri": "https://localhost:8080/"
    },
    "executionInfo": {
     "elapsed": 19,
     "status": "ok",
     "timestamp": 1749743726841,
     "user": {
      "displayName": "Mrinal Das",
      "userId": "10512190126354830840"
     },
     "user_tz": -330
    },
    "id": "YOrgS6n3sBP7",
    "outputId": "597ac375-153a-4af6-ffe8-f9195348e469"
   },
   "outputs": [
    {
     "name": "stdout",
     "output_type": "stream",
     "text": [
      "\n",
      "Sorted by Weight (ascending):\n",
      "    ShipmentID   OriginPort DestinationPort  Weight_Tons DepartureDate\n",
      "2         105    Singapore          London         12.3    2024-09-10\n",
      "0         103     Shanghai        New York         15.4    2024-09-01\n",
      "3         102        Dubai           Tokyo         18.7    2024-08-28\n",
      "4         104  Los Angeles          Mumbai         20.5    2024-09-03\n",
      "1         101    Rotterdam         Hamburg         25.1    2024-08-25\n",
      "\n",
      "Sorted by OriginPort (A-Z) and then Weight (high to low):\n",
      "    ShipmentID   OriginPort DestinationPort  Weight_Tons DepartureDate\n",
      "3         102        Dubai           Tokyo         18.7    2024-08-28\n",
      "4         104  Los Angeles          Mumbai         20.5    2024-09-03\n",
      "1         101    Rotterdam         Hamburg         25.1    2024-08-25\n",
      "0         103     Shanghai        New York         15.4    2024-09-01\n",
      "2         105    Singapore          London         12.3    2024-09-10\n",
      "\n",
      "Sorted by ShipmentID (index):\n",
      "              OriginPort DestinationPort  Weight_Tons DepartureDate\n",
      "ShipmentID                                                        \n",
      "101           Rotterdam         Hamburg         25.1    2024-08-25\n",
      "102               Dubai           Tokyo         18.7    2024-08-28\n",
      "103            Shanghai        New York         15.4    2024-09-01\n",
      "104         Los Angeles          Mumbai         20.5    2024-09-03\n",
      "105           Singapore          London         12.3    2024-09-10\n",
      "\n",
      "Sort using quick sort algo\n",
      "    ShipmentID   OriginPort DestinationPort  Weight_Tons DepartureDate\n",
      "2         105    Singapore          London         12.3    2024-09-10\n",
      "0         103     Shanghai        New York         15.4    2024-09-01\n",
      "3         102        Dubai           Tokyo         18.7    2024-08-28\n",
      "4         104  Los Angeles          Mumbai         20.5    2024-09-03\n",
      "1         101    Rotterdam         Hamburg         25.1    2024-08-25\n"
     ]
    }
   ],
   "source": [
    "# Sort DataFrame by 'Weight_Tons' column in ascending order\n",
    "sorted_df = df.sort_values(by=\"Weight_Tons\", ascending=True)\n",
    "print(\"\\nSorted by Weight (ascending):\\n\", sorted_df)\n",
    "\n",
    "# Sort by 'OriginPort' alphabetically, then by 'Weight_Tons'\n",
    "sorted_df = df.sort_values(by=[\"OriginPort\", \"Weight_Tons\"], ascending=[True, False])\n",
    "print(\"\\nSorted by OriginPort (A-Z) and then Weight (high to low):\\n\", sorted_df)\n",
    "\n",
    "# Set ShipmentID as index and sort by index\n",
    "df_indexed = df.set_index(\"ShipmentID\")\n",
    "sorted_by_index = df_indexed.sort_index()\n",
    "print(\"\\nSorted by ShipmentID (index):\\n\", sorted_by_index)\n",
    "\n",
    "# Sort the DataFrame by 'Weight_Tons' using quicksort algorithm\n",
    "df_quickSort = df.sort_values(by='Weight_Tons', kind='quicksort')\n",
    "print(\"\\nSort using quick sort algo\\n\", df_quickSort)"
   ]
  },
  {
   "cell_type": "markdown",
   "metadata": {
    "id": "UHUwR5n7se-3"
   },
   "source": [
    "## **Reindexing**"
   ]
  },
  {
   "cell_type": "code",
   "execution_count": null,
   "metadata": {
    "colab": {
     "base_uri": "https://localhost:8080/"
    },
    "executionInfo": {
     "elapsed": 18,
     "status": "ok",
     "timestamp": 1749744859598,
     "user": {
      "displayName": "Mrinal Das",
      "userId": "10512190126354830840"
     },
     "user_tz": -330
    },
    "id": "eB22NNoi62KT",
    "outputId": "a4c24a1f-3f56-42d4-f2d1-360ac3435d99"
   },
   "outputs": [
    {
     "name": "stdout",
     "output_type": "stream",
     "text": [
      "Original World Vegetation Dataset:\n",
      "                 Continent  Avg_Temp_C\n",
      "Zone                                 \n",
      "Tundra             Arctic         -10\n",
      "Taiga                Asia          -5\n",
      "Desert             Africa          35\n",
      "Savanna            Africa          28\n",
      "Rainforest  South America          26\n"
     ]
    }
   ],
   "source": [
    "# Dataset: World Vegetation Zones\n",
    "\n",
    "import pandas as pd\n",
    "\n",
    "# Original DataFrame with vegetation zones\n",
    "veg_df = pd.DataFrame({\n",
    "    'Zone': ['Tundra', 'Taiga', 'Desert', 'Savanna', 'Rainforest'],\n",
    "    'Continent': ['Arctic', 'Asia', 'Africa', 'Africa', 'South America'],\n",
    "    'Avg_Temp_C': [-10, -5, 35, 28, 26]\n",
    "})\n",
    "\n",
    "# Set the zone as the index for clarity\n",
    "veg_df = veg_df.set_index('Zone')\n",
    "\n",
    "# Display the original DataFrame\n",
    "print(\"Original World Vegetation Dataset:\\n\", veg_df)"
   ]
  },
  {
   "cell_type": "code",
   "execution_count": null,
   "metadata": {
    "colab": {
     "base_uri": "https://localhost:8080/"
    },
    "executionInfo": {
     "elapsed": 59,
     "status": "ok",
     "timestamp": 1749744900477,
     "user": {
      "displayName": "Mrinal Das",
      "userId": "10512190126354830840"
     },
     "user_tz": -330
    },
    "id": "thmgrNJF67fs",
    "outputId": "667a248f-eac3-497e-e89c-18ca534bdce8"
   },
   "outputs": [
    {
     "name": "stdout",
     "output_type": "stream",
     "text": [
      "\n",
      "Reindexed Vegetation Dataset:\n",
      "                 Continent  Avg_Temp_C\n",
      "Zone                                 \n",
      "Rainforest  South America        26.0\n",
      "Savanna            Africa        28.0\n",
      "Steppe                NaN         NaN\n",
      "Desert             Africa        35.0\n",
      "Taiga                Asia        -5.0\n",
      "Tundra             Arctic       -10.0\n"
     ]
    }
   ],
   "source": [
    "# Reindexing Rows (Add & Reorder Zones)\n",
    "\n",
    "# New desired order of vegetation zones (some new, some missing)\n",
    "new_index = ['Rainforest', 'Savanna', 'Steppe', 'Desert', 'Taiga', 'Tundra']\n",
    "\n",
    "# Reindexing the DataFrame\n",
    "reindexed_veg = veg_df.reindex(new_index)\n",
    "\n",
    "# Display the reindexed DataFrame\n",
    "print(\"\\nReindexed Vegetation Dataset:\\n\", reindexed_veg)"
   ]
  },
  {
   "cell_type": "code",
   "execution_count": null,
   "metadata": {
    "colab": {
     "base_uri": "https://localhost:8080/"
    },
    "executionInfo": {
     "elapsed": 56,
     "status": "ok",
     "timestamp": 1749744922844,
     "user": {
      "displayName": "Mrinal Das",
      "userId": "10512190126354830840"
     },
     "user_tz": -330
    },
    "id": "oY8F1ulE7Fdj",
    "outputId": "cac8acff-4b21-49c2-8bfc-bd217f71ab61"
   },
   "outputs": [
    {
     "name": "stdout",
     "output_type": "stream",
     "text": [
      "\n",
      "Reindexed Columns:\n",
      "             Avg_Temp_C      Continent\n",
      "Zone                                 \n",
      "Tundra             -10         Arctic\n",
      "Taiga               -5           Asia\n",
      "Desert              35         Africa\n",
      "Savanna             28         Africa\n",
      "Rainforest          26  South America\n"
     ]
    }
   ],
   "source": [
    "# Reindexing Columns\n",
    "\n",
    "# Reorder the columns\n",
    "reindexed_columns = veg_df.reindex(columns=['Avg_Temp_C', 'Continent'])\n",
    "\n",
    "# Display the result\n",
    "print(\"\\nReindexed Columns:\\n\", reindexed_columns)"
   ]
  },
  {
   "cell_type": "code",
   "execution_count": null,
   "metadata": {
    "colab": {
     "base_uri": "https://localhost:8080/"
    },
    "executionInfo": {
     "elapsed": 11,
     "status": "ok",
     "timestamp": 1749744938902,
     "user": {
      "displayName": "Mrinal Das",
      "userId": "10512190126354830840"
     },
     "user_tz": -330
    },
    "id": "6k6EQbVg7K7U",
    "outputId": "8b2f44a7-004e-4590-b353-f72ca7c1b883"
   },
   "outputs": [
    {
     "name": "stdout",
     "output_type": "stream",
     "text": [
      "\n",
      "Reindexed with Fill Value:\n",
      "                      Continent          Avg_Temp_C\n",
      "Zone                                              \n",
      "Rainforest       South America                  26\n",
      "Savanna                 Africa                  28\n",
      "Steppe      Data Not Available  Data Not Available\n",
      "Desert                  Africa                  35\n",
      "Taiga                     Asia                  -5\n",
      "Tundra                  Arctic                 -10\n"
     ]
    }
   ],
   "source": [
    "# Fill Missing Values While Reindexing\n",
    "\n",
    "# Reindex and fill missing values with defaults\n",
    "reindexed_filled = veg_df.reindex(new_index, fill_value='Data Not Available')\n",
    "\n",
    "# Display the filled DataFrame\n",
    "print(\"\\nReindexed with Fill Value:\\n\", reindexed_filled)"
   ]
  },
  {
   "cell_type": "markdown",
   "metadata": {
    "id": "rBQPthArNwcu"
   },
   "source": [
    "## **Iteration**"
   ]
  },
  {
   "cell_type": "code",
   "execution_count": null,
   "metadata": {
    "colab": {
     "base_uri": "https://localhost:8080/"
    },
    "executionInfo": {
     "elapsed": 19,
     "status": "ok",
     "timestamp": 1749747162222,
     "user": {
      "displayName": "Mrinal Das",
      "userId": "10512190126354830840"
     },
     "user_tz": -330
    },
    "id": "W-xPSmcw7O21",
    "outputId": "81104081-3a82-48ce-f015-9429c9870388"
   },
   "outputs": [
    {
     "name": "stdout",
     "output_type": "stream",
     "text": [
      "          Region  Elevation_m  Rainfall_mm\n",
      "0   Amazon Basin          200         2200\n",
      "1  Sahara Desert          450           50\n",
      "2      Himalayas         5200         1200\n",
      "3   Great Plains          600          900\n"
     ]
    }
   ],
   "source": [
    "# Iteration\n",
    "# National Geography Zones dataset that captures region name, average elevation, and annual rainfall.\n",
    "\n",
    "import pandas as pd\n",
    "\n",
    "# Sample National Geography dataset\n",
    "geo_df = pd.DataFrame({\n",
    "    'Region': ['Amazon Basin', 'Sahara Desert', 'Himalayas', 'Great Plains'],\n",
    "    'Elevation_m': [200, 450, 5200, 600],          # Elevation in meters\n",
    "    'Rainfall_mm': [2200, 50, 1200, 900]           # Rainfall in millimeters\n",
    "})\n",
    "\n",
    "print(geo_df)"
   ]
  },
  {
   "cell_type": "code",
   "execution_count": null,
   "metadata": {
    "colab": {
     "base_uri": "https://localhost:8080/"
    },
    "executionInfo": {
     "elapsed": 50,
     "status": "ok",
     "timestamp": 1749747329669,
     "user": {
      "displayName": "Mrinal Das",
      "userId": "10512190126354830840"
     },
     "user_tz": -330
    },
    "id": "GkYv9DXUDrjd",
    "outputId": "22c3c420-ce90-4556-d677-ed976955aa81"
   },
   "outputs": [
    {
     "name": "stdout",
     "output_type": "stream",
     "text": [
      "Region: Amazon Basin, Elevation: 200 m\n",
      "Region: Sahara Desert, Elevation: 450 m\n",
      "Region: Himalayas, Elevation: 5200 m\n",
      "Region: Great Plains, Elevation: 600 m\n"
     ]
    }
   ],
   "source": [
    "# Iterating with iterrows()\n",
    "\n",
    "# Using iterrows() to access each row as a Series\n",
    "for index, row in geo_df.iterrows():\n",
    "  print(f\"Region: {row['Region']}, Elevation: {row['Elevation_m']} m\")"
   ]
  },
  {
   "cell_type": "code",
   "execution_count": null,
   "metadata": {
    "colab": {
     "base_uri": "https://localhost:8080/"
    },
    "executionInfo": {
     "elapsed": 22,
     "status": "ok",
     "timestamp": 1749747358384,
     "user": {
      "displayName": "Mrinal Das",
      "userId": "10512190126354830840"
     },
     "user_tz": -330
    },
    "id": "oIbNvKcrEWh7",
    "outputId": "1dde21eb-54bc-44e2-d7ed-438da29edf46"
   },
   "outputs": [
    {
     "name": "stdout",
     "output_type": "stream",
     "text": [
      "Amazon Basin receives about 2200 mm rainfall annually.\n",
      "Sahara Desert receives about 50 mm rainfall annually.\n",
      "Himalayas receives about 1200 mm rainfall annually.\n",
      "Great Plains receives about 900 mm rainfall annually.\n"
     ]
    }
   ],
   "source": [
    "# Iterating with itertuples()\n",
    "\n",
    "# Using itertuples() for faster row-wise iteration\n",
    "for row in geo_df.itertuples(index=False):\n",
    "  print(f\"{row.Region} receives about {row.Rainfall_mm} mm rainfall annually.\")"
   ]
  },
  {
   "cell_type": "code",
   "execution_count": null,
   "metadata": {
    "colab": {
     "base_uri": "https://localhost:8080/"
    },
    "executionInfo": {
     "elapsed": 47,
     "status": "ok",
     "timestamp": 1749747387983,
     "user": {
      "displayName": "Mrinal Das",
      "userId": "10512190126354830840"
     },
     "user_tz": -330
    },
    "id": "73luhuUnEc-7",
    "outputId": "fc334887-0657-4a6f-e0af-7f79e7ede5ec"
   },
   "outputs": [
    {
     "name": "stdout",
     "output_type": "stream",
     "text": [
      "\n",
      "Column: Region\n",
      "Values: ['Amazon Basin', 'Sahara Desert', 'Himalayas', 'Great Plains']\n",
      "\n",
      "Column: Elevation_m\n",
      "Values: [200, 450, 5200, 600]\n",
      "\n",
      "Column: Rainfall_mm\n",
      "Values: [2200, 50, 1200, 900]\n"
     ]
    }
   ],
   "source": [
    "# Column-wise Iteration with items()\n",
    "\n",
    "# Iterating through columns using items()\n",
    "for column_name, column_data in geo_df.items():\n",
    "  print(f\"\\nColumn: {column_name}\")\n",
    "  print(f\"Values: {column_data.tolist()}\")"
   ]
  },
  {
   "cell_type": "code",
   "execution_count": null,
   "metadata": {
    "colab": {
     "base_uri": "https://localhost:8080/"
    },
    "executionInfo": {
     "elapsed": 58,
     "status": "ok",
     "timestamp": 1749747412361,
     "user": {
      "displayName": "Mrinal Das",
      "userId": "10512190126354830840"
     },
     "user_tz": -330
    },
    "id": "ttmOzsbIEkxJ",
    "outputId": "8c7e4923-cc3d-45d8-fd9d-787171d6cd94"
   },
   "outputs": [
    {
     "name": "stdout",
     "output_type": "stream",
     "text": [
      "          Region  Elevation_m  Rainfall_mm Elevation_Zone\n",
      "0   Amazon Basin          200         2200        Lowland\n",
      "1  Sahara Desert          450           50        Lowland\n",
      "2      Himalayas         5200         1200       Highland\n",
      "3   Great Plains          600          900        Lowland\n"
     ]
    }
   ],
   "source": [
    "# Using apply() to Classify Elevation Zones\n",
    "\n",
    "# Custom function to classify geographic elevation\n",
    "def classify_elevation(elev):\n",
    "    if elev > 4000:\n",
    "        return 'Highland'\n",
    "    elif elev > 1000:\n",
    "        return 'Upland'\n",
    "    else:\n",
    "        return 'Lowland'\n",
    "\n",
    "# Apply the function to the 'Elevation_m' column\n",
    "geo_df['Elevation_Zone'] = geo_df['Elevation_m'].apply(classify_elevation)\n",
    "\n",
    "# Display the updated DataFrame\n",
    "print(geo_df)"
   ]
  },
  {
   "cell_type": "markdown",
   "metadata": {
    "id": "l42wHxA5EquF"
   },
   "source": [
    "## **Concatenation**"
   ]
  },
  {
   "cell_type": "code",
   "execution_count": null,
   "metadata": {
    "colab": {
     "base_uri": "https://localhost:8080/"
    },
    "executionInfo": {
     "elapsed": 16,
     "status": "ok",
     "timestamp": 1749750098927,
     "user": {
      "displayName": "Mrinal Das",
      "userId": "10512190126354830840"
     },
     "user_tz": -330
    },
    "id": "fYpyFeQgN6Te",
    "outputId": "a3c318a0-27ea-4201-c5a5-dde2a998bacf"
   },
   "outputs": [
    {
     "name": "stdout",
     "output_type": "stream",
     "text": [
      "Northern Climate Data\n",
      "             Region  Avg_Temp_C   Biome\n",
      "0    Arctic Circle         -15  Tundra\n",
      "1  Northern Tundra         -10   Taiga\n",
      "\n",
      "Southern Climate Data\n",
      "               Region  Avg_Temp_C       Biome\n",
      "0       Amazon Basin          27  Rainforest\n",
      "1  Patagonian Steppe          10      Steppe\n"
     ]
    }
   ],
   "source": [
    "# Datasets: Geography Zones\n",
    "\n",
    "import pandas as pd\n",
    "\n",
    "# Northern climate data\n",
    "north_df = pd.DataFrame({\n",
    "    'Region': ['Arctic Circle', 'Northern Tundra'],\n",
    "    'Avg_Temp_C': [-15, -10],\n",
    "    'Biome': ['Tundra', 'Taiga']\n",
    "})\n",
    "print(\"Northern Climate Data\\n\", north_df)\n",
    "\n",
    "# Southern climate data\n",
    "south_df = pd.DataFrame({\n",
    "    'Region': ['Amazon Basin', 'Patagonian Steppe'],\n",
    "    'Avg_Temp_C': [27, 10],\n",
    "    'Biome': ['Rainforest', 'Steppe']\n",
    "})\n",
    "print(\"\\nSouthern Climate Data\\n\", south_df)"
   ]
  },
  {
   "cell_type": "code",
   "execution_count": null,
   "metadata": {
    "colab": {
     "base_uri": "https://localhost:8080/"
    },
    "executionInfo": {
     "elapsed": 17,
     "status": "ok",
     "timestamp": 1749749948519,
     "user": {
      "displayName": "Mrinal Das",
      "userId": "10512190126354830840"
     },
     "user_tz": -330
    },
    "id": "BwjtmxEgN-YR",
    "outputId": "d5068434-5aae-4838-932d-2aa29091f495"
   },
   "outputs": [
    {
     "name": "stdout",
     "output_type": "stream",
     "text": [
      "              Region  Avg_Temp_C       Biome\n",
      "0      Arctic Circle         -15      Tundra\n",
      "1    Northern Tundra         -10       Taiga\n",
      "2       Amazon Basin          27  Rainforest\n",
      "3  Patagonian Steppe          10      Steppe\n"
     ]
    }
   ],
   "source": [
    "# Row-wise Concatenation (axis=0)\n",
    "\n",
    "# Combine northern and southern data into a single DataFrame\n",
    "combined_df = pd.concat([north_df, south_df], axis=0, ignore_index=True)\n",
    "print(combined_df)"
   ]
  },
  {
   "cell_type": "code",
   "execution_count": null,
   "metadata": {
    "colab": {
     "base_uri": "https://localhost:8080/"
    },
    "executionInfo": {
     "elapsed": 71,
     "status": "ok",
     "timestamp": 1749749967988,
     "user": {
      "displayName": "Mrinal Das",
      "userId": "10512190126354830840"
     },
     "user_tz": -330
    },
    "id": "J_ZYsUrKOV6L",
    "outputId": "960bb29d-9f87-40a4-ecfd-bebe541709b1"
   },
   "outputs": [
    {
     "name": "stdout",
     "output_type": "stream",
     "text": [
      "              Region  Rainfall_mm  Vegetation_Index\n",
      "0       Amazon Basin         2200               0.9\n",
      "1  Patagonian Steppe          500               0.3\n"
     ]
    }
   ],
   "source": [
    "# Column-wise Concatenation (axis=1)\n",
    "\n",
    "# Additional datasets: rainfall and vegetation\n",
    "weather_df = pd.DataFrame({\n",
    "    'Region': ['Amazon Basin', 'Patagonian Steppe'],\n",
    "    'Rainfall_mm': [2200, 500]\n",
    "})\n",
    "\n",
    "vegetation_df = pd.DataFrame({\n",
    "    'Vegetation_Index': [0.9, 0.3]\n",
    "})\n",
    "\n",
    "# Combine columns side by side\n",
    "merged_df = pd.concat([weather_df, vegetation_df], axis=1)\n",
    "print(merged_df)"
   ]
  },
  {
   "cell_type": "code",
   "execution_count": null,
   "metadata": {
    "colab": {
     "base_uri": "https://localhost:8080/"
    },
    "executionInfo": {
     "elapsed": 27,
     "status": "ok",
     "timestamp": 1749749985431,
     "user": {
      "displayName": "Mrinal Das",
      "userId": "10512190126354830840"
     },
     "user_tz": -330
    },
    "id": "EMRZpyUPOapD",
    "outputId": "34dd5d6b-9c3c-4df0-d099-07c7431c867c"
   },
   "outputs": [
    {
     "name": "stdout",
     "output_type": "stream",
     "text": [
      "                    Region  Avg_Temp_C       Biome\n",
      "North 0      Arctic Circle         -15      Tundra\n",
      "      1    Northern Tundra         -10       Taiga\n",
      "South 0       Amazon Basin          27  Rainforest\n",
      "      1  Patagonian Steppe          10      Steppe\n"
     ]
    }
   ],
   "source": [
    "# Concatenation with Hierarchical Keys\n",
    "\n",
    "# Add hierarchical row index to identify origin\n",
    "geo_hierarchy = pd.concat([north_df, south_df], keys=['North', 'South'])\n",
    "print(geo_hierarchy)"
   ]
  },
  {
   "cell_type": "markdown",
   "metadata": {
    "id": "Xlwdme5mOe6h"
   },
   "source": [
    "## **Working with text data**"
   ]
  },
  {
   "cell_type": "code",
   "execution_count": null,
   "metadata": {
    "colab": {
     "base_uri": "https://localhost:8080/"
    },
    "executionInfo": {
     "elapsed": 52,
     "status": "ok",
     "timestamp": 1749751807447,
     "user": {
      "displayName": "Mrinal Das",
      "userId": "10512190126354830840"
     },
     "user_tz": -330
    },
    "id": "bfUJuzkDThGy",
    "outputId": "5eaf2d56-fde1-443f-fb4e-5d9f18627bca"
   },
   "outputs": [
    {
     "name": "stdout",
     "output_type": "stream",
     "text": [
      "  Passenger                                     Review    Airline\n",
      "0     Alice       The flight was excellent and on time      Delta\n",
      "1       Bob             terrible service and rude crew     United\n",
      "2    Carlos      food was okay but legroom was cramped  Lufthansa\n",
      "3     Diana  Loved the inflight entertainment options!   Emirates\n",
      "4       Eva   flight delayed by 3 hours, very annoying     Qantas\n"
     ]
    }
   ],
   "source": [
    "# Passenger reviews and sentiments collected from major international flights.\n",
    "\n",
    "import pandas as pd\n",
    "\n",
    "# Sample airline review dataset\n",
    "data = {\n",
    "    'Passenger': ['Alice', 'Bob', 'Carlos', 'Diana', 'Eva'],\n",
    "    'Review': [\n",
    "        'The flight was excellent and on time',\n",
    "        'terrible service and rude crew',\n",
    "        'food was okay but legroom was cramped',\n",
    "        'Loved the inflight entertainment options!',\n",
    "        'flight delayed by 3 hours, very annoying'\n",
    "    ],\n",
    "    'Airline': ['Delta', 'United', 'Lufthansa', 'Emirates', 'Qantas']\n",
    "}\n",
    "\n",
    "# Create a DataFrame\n",
    "df = pd.DataFrame(data)\n",
    "print(df)"
   ]
  },
  {
   "cell_type": "code",
   "execution_count": null,
   "metadata": {
    "colab": {
     "base_uri": "https://localhost:8080/"
    },
    "executionInfo": {
     "elapsed": 28,
     "status": "ok",
     "timestamp": 1749751978514,
     "user": {
      "displayName": "Mrinal Das",
      "userId": "10512190126354830840"
     },
     "user_tz": -330
    },
    "id": "OCCVtCcATuHO",
    "outputId": "e8c9f11f-a573-459a-aa2f-bec690bcf235"
   },
   "outputs": [
    {
     "name": "stdout",
     "output_type": "stream",
     "text": [
      "  Passenger                                     Review    Airline  \\\n",
      "0     Alice       The flight was excellent and on time      Delta   \n",
      "1       Bob             terrible service and rude crew     United   \n",
      "2    Carlos      food was okay but legroom was cramped  Lufthansa   \n",
      "3     Diana  Loved the inflight entertainment options!   Emirates   \n",
      "4       Eva   flight delayed by 3 hours, very annoying     Qantas   \n",
      "\n",
      "                                Review_lower  Contains_Delayed  \\\n",
      "0       the flight was excellent and on time             False   \n",
      "1             terrible service and rude crew             False   \n",
      "2      food was okay but legroom was cramped             False   \n",
      "3  loved the inflight entertainment options!             False   \n",
      "4   flight delayed by 3 hours, very annoying              True   \n",
      "\n",
      "                              Cleaned_Review  Review_Length First_Word  \n",
      "0       the flight was excellent and on time             36        The  \n",
      "1                 poor service and rude crew             30   terrible  \n",
      "2      food was okay but legroom was cramped             37       food  \n",
      "3  loved the inflight entertainment options!             41      Loved  \n",
      "4   flight delayed by 3 hours, very annoying             40     flight  \n"
     ]
    }
   ],
   "source": [
    "# Text Cleaning & Filtering\n",
    "\n",
    "# Convert all reviews to lowercase for normalization\n",
    "df['Review_lower'] = df['Review'].str.lower()\n",
    "\n",
    "# Check if the word \"delayed\" is in the review\n",
    "df['Contains_Delayed'] = df['Review_lower'].str.contains('delayed')\n",
    "\n",
    "# Replace the word 'terrible' with 'poor'\n",
    "df['Cleaned_Review'] = df['Review_lower'].str.replace('terrible', 'poor', regex=False)\n",
    "\n",
    "# Count number of characters in the review\n",
    "df['Review_Length'] = df['Review'].str.len()\n",
    "\n",
    "# Extract the first word using regex\n",
    "df['First_Word'] = df['Review'].str.extract(r'^(\\w+)')\n",
    "\n",
    "# Display updated DataFrame\n",
    "print(df)"
   ]
  },
  {
   "cell_type": "code",
   "execution_count": null,
   "metadata": {
    "colab": {
     "base_uri": "https://localhost:8080/"
    },
    "executionInfo": {
     "elapsed": 13,
     "status": "ok",
     "timestamp": 1749753383514,
     "user": {
      "displayName": "Mrinal Das",
      "userId": "10512190126354830840"
     },
     "user_tz": -330
    },
    "id": "u5tdDPGRa7S9",
    "outputId": "7f0f604f-8e4e-4082-b641-ffbd8a791138"
   },
   "outputs": [
    {
     "name": "stdout",
     "output_type": "stream",
     "text": [
      "              region  consumption_mwh  peak_load_mw  outage_count  \\\n",
      "0        North Delhi           1200.5           300             2   \n",
      "1       South Mumbai           2450.0           520             1   \n",
      "2       East Kolkata           1980.3           410             3   \n",
      "3       West Chennai           1650.2           380             4   \n",
      "4  Central Bengaluru           2100.4           460             2   \n",
      "\n",
      "   avg_restoration_time_min infrastructure_grade  \n",
      "0                        45                    A  \n",
      "1                        30                    B  \n",
      "2                        60                    B  \n",
      "3                        90                    C  \n",
      "4                        40                    A  \n"
     ]
    }
   ],
   "source": [
    "# Customizing Pandas Display\n",
    "# Dataset: Electricity Distribution (Urban Regions)\n",
    "\n",
    "import pandas as pd\n",
    "\n",
    "# Sample dataset representing electricity distribution stats across cities\n",
    "df = pd.DataFrame({\n",
    "    'region': ['North Delhi', 'South Mumbai', 'East Kolkata', 'West Chennai', 'Central Bengaluru'],\n",
    "    'consumption_mwh': [1200.5, 2450.0, 1980.3, 1650.2, 2100.4],\n",
    "    'peak_load_mw': [300, 520, 410, 380, 460],\n",
    "    'outage_count': [2, 1, 3, 4, 2],\n",
    "    'avg_restoration_time_min': [45, 30, 60, 90, 40],\n",
    "    'infrastructure_grade': ['A', 'B', 'B', 'C', 'A']\n",
    "})\n",
    "print(df)"
   ]
  },
  {
   "cell_type": "markdown",
   "metadata": {
    "id": "DzS31U-NWFgE"
   },
   "source": [
    "## **Options & customization**"
   ]
  },
  {
   "cell_type": "code",
   "execution_count": null,
   "metadata": {
    "colab": {
     "base_uri": "https://localhost:8080/"
    },
    "executionInfo": {
     "elapsed": 49,
     "status": "ok",
     "timestamp": 1749755102523,
     "user": {
      "displayName": "Mrinal Das",
      "userId": "10512190126354830840"
     },
     "user_tz": -330
    },
    "id": "LnBxC0Y1bbDF",
    "outputId": "f6e636b7-5971-4d0d-f786-dcbc35266d75"
   },
   "outputs": [
    {
     "name": "stdout",
     "output_type": "stream",
     "text": [
      "Current 'display.max_columns': 20\n",
      "\n",
      "DataFrame with all columns shown after set_option():\n",
      "              region  consumption_mwh  peak_load_mw  outage_count  \\\n",
      "0        North Delhi           1200.5           300             2   \n",
      "1       South Mumbai           2450.0           520             1   \n",
      "2       East Kolkata           1980.3           410             3   \n",
      "3       West Chennai           1650.2           380             4   \n",
      "4  Central Bengaluru           2100.4           460             2   \n",
      "\n",
      "   avg_restoration_time_min infrastructure_grade  \n",
      "0                        45                    A  \n",
      "1                        30                    B  \n",
      "2                        60                    B  \n",
      "3                        90                    C  \n",
      "4                        40                    A  \n",
      "\n",
      "Description of 'display.max_columns':\n",
      "display.max_columns : int\n",
      "    If max_cols is exceeded, switch to truncate view. Depending on\n",
      "    `large_repr`, objects are either centrally truncated or printed as\n",
      "    a summary view. 'None' value means unlimited.\n",
      "\n",
      "    In case python/IPython is running in a terminal and `large_repr`\n",
      "    equals 'truncate' this can be set to 0 or None and pandas will auto-detect\n",
      "    the width of the terminal and print a truncated object which fits\n",
      "    the screen width. The IPython notebook, IPython qtconsole, or IDLE\n",
      "    do not run in a terminal and hence it is not possible to do\n",
      "    correct auto-detection and defaults to 20.\n",
      "    [default: 20] [currently: None]\n",
      "\n",
      "After reset_option(), 'display.max_columns' is now:\n",
      "20\n",
      "\n",
      "Using option_context to temporarily override display setting:\n",
      "              region  consumption_mwh  peak_load_mw  outage_count  \\\n",
      "0        North Delhi           1200.5           300             2   \n",
      "1       South Mumbai           2450.0           520             1   \n",
      "2       East Kolkata           1980.3           410             3   \n",
      "3       West Chennai           1650.2           380             4   \n",
      "4  Central Bengaluru           2100.4           460             2   \n",
      "\n",
      "   avg_restoration_time_min infrastructure_grade  \n",
      "0                        45                    A  \n",
      "1                        30                    B  \n",
      "2                        60                    B  \n",
      "3                        90                    C  \n",
      "4                        40                    A  \n",
      "\n",
      "Outside option_context, original display setting applies again:\n",
      "              region  consumption_mwh  peak_load_mw  outage_count  \\\n",
      "0        North Delhi           1200.5           300             2   \n",
      "1       South Mumbai           2450.0           520             1   \n",
      "2       East Kolkata           1980.3           410             3   \n",
      "3       West Chennai           1650.2           380             4   \n",
      "4  Central Bengaluru           2100.4           460             2   \n",
      "\n",
      "   avg_restoration_time_min infrastructure_grade  \n",
      "0                        45                    A  \n",
      "1                        30                    B  \n",
      "2                        60                    B  \n",
      "3                        90                    C  \n",
      "4                        40                    A  \n"
     ]
    }
   ],
   "source": [
    "# get_option() - View a current setting\n",
    "current_max_cols = pd.get_option(\"display.max_columns\")\n",
    "print(\"Current 'display.max_columns':\", current_max_cols)\n",
    "\n",
    "# set_option() - Change max columns to unlimited (None)\n",
    "pd.set_option(\"display.max_columns\", None)\n",
    "print(\"\\nDataFrame with all columns shown after set_option():\")\n",
    "print(df)\n",
    "\n",
    "# describe_option() - Learn what the option does\n",
    "print(\"\\nDescription of 'display.max_columns':\")\n",
    "pd.describe_option(\"display.max_columns\")\n",
    "\n",
    "# reset_option() - Reset to the default value\n",
    "pd.reset_option(\"display.max_columns\")\n",
    "print(\"\\nAfter reset_option(), 'display.max_columns' is now:\")\n",
    "print(pd.get_option(\"display.max_columns\"))\n",
    "\n",
    "# option_context() - Temporary setting change\n",
    "print(\"\\nUsing option_context to temporarily override display setting:\")\n",
    "with pd.option_context(\"display.max_columns\", None):\n",
    "  print(df)  # Temporarily show all columns\n",
    "\n",
    "# Outside the context, the previous setting is restored\n",
    "print(\"\\nOutside option_context, original display setting applies again:\")\n",
    "print(df)"
   ]
  },
  {
   "cell_type": "markdown",
   "metadata": {
    "id": "YC1F9Ggyb0TY"
   },
   "source": [
    "## **Categorical Data**"
   ]
  },
  {
   "cell_type": "code",
   "execution_count": null,
   "metadata": {
    "colab": {
     "base_uri": "https://localhost:8080/"
    },
    "executionInfo": {
     "elapsed": 18,
     "status": "ok",
     "timestamp": 1749756893883,
     "user": {
      "displayName": "Mrinal Das",
      "userId": "10512190126354830840"
     },
     "user_tz": -330
    },
    "id": "YqeukkDHopzf",
    "outputId": "be6acd8b-fd7a-4e92-de4a-2eea810e0eb4"
   },
   "outputs": [
    {
     "name": "stdout",
     "output_type": "stream",
     "text": [
      "  ShipmentID PortOfOrigin ShipmentStatus\n",
      "0       S001     Shanghai     In Transit\n",
      "1       S002      Hamburg      Delivered\n",
      "2       S003    Singapore        Delayed\n",
      "3       S004    Rotterdam     In Transit\n",
      "4       S005       Mumbai      Delivered\n",
      "\n",
      "Data types:\n",
      " ShipmentID          object\n",
      "PortOfOrigin        object\n",
      "ShipmentStatus    category\n",
      "dtype: object\n"
     ]
    }
   ],
   "source": [
    "#  Creating Categorical Types\n",
    "\n",
    "import pandas as pd\n",
    "\n",
    "# Sample shipment data\n",
    "data = {\n",
    "    'ShipmentID': ['S001', 'S002', 'S003', 'S004', 'S005'],\n",
    "    'PortOfOrigin': ['Shanghai', 'Hamburg', 'Singapore', 'Rotterdam', 'Mumbai'],\n",
    "    'ShipmentStatus': ['In Transit', 'Delivered', 'Delayed', 'In Transit', 'Delivered']\n",
    "}\n",
    "\n",
    "# Create DataFrame\n",
    "df = pd.DataFrame(data)\n",
    "\n",
    "# Convert ShipmentStatus to categorical type\n",
    "df['ShipmentStatus'] = pd.Categorical(df['ShipmentStatus'])\n",
    "\n",
    "# Display DataFrame and type info\n",
    "print(df)\n",
    "print(\"\\nData types:\\n\", df.dtypes)"
   ]
  },
  {
   "cell_type": "code",
   "execution_count": null,
   "metadata": {
    "colab": {
     "base_uri": "https://localhost:8080/"
    },
    "executionInfo": {
     "elapsed": 15,
     "status": "ok",
     "timestamp": 1749757523754,
     "user": {
      "displayName": "Mrinal Das",
      "userId": "10512190126354830840"
     },
     "user_tz": -330
    },
    "id": "OIMAjREEoxzu",
    "outputId": "7315e3af-4dbb-47f2-f8af-06477ce31ecc"
   },
   "outputs": [
    {
     "name": "stdout",
     "output_type": "stream",
     "text": [
      "  ShipmentID PortOfOrigin ShipmentStatus\n",
      "2       S003    Singapore        Delayed\n",
      "0       S001     Shanghai     In Transit\n",
      "3       S004    Rotterdam     In Transit\n",
      "1       S002      Hamburg      Delivered\n",
      "4       S005       Mumbai      Delivered\n"
     ]
    }
   ],
   "source": [
    "# Sorting, Ordering, and Comparison\n",
    "# Define a specific order to categorical values, enabling logical sorting and comparisons.\n",
    "\n",
    "import pandas as pd\n",
    "\n",
    "# Define custom order for status\n",
    "status_order = ['Delayed', 'In Transit', 'Delivered']\n",
    "\n",
    "# Convert to ordered categorical\n",
    "df['ShipmentStatus'] = pd.Categorical(df['ShipmentStatus'], categories=status_order, ordered=True)\n",
    "\n",
    "# Sort DataFrame based on ordered status\n",
    "sorted_df = df.sort_values('ShipmentStatus')\n",
    "\n",
    "print(sorted_df)"
   ]
  },
  {
   "cell_type": "code",
   "execution_count": null,
   "metadata": {
    "colab": {
     "base_uri": "https://localhost:8080/"
    },
    "executionInfo": {
     "elapsed": 759,
     "status": "ok",
     "timestamp": 1749757946665,
     "user": {
      "displayName": "Mrinal Das",
      "userId": "10512190126354830840"
     },
     "user_tz": -330
    },
    "id": "zRGnbkVsrLTQ",
    "outputId": "b6c57d94-27d9-4148-9d9d-d413d89c5ebc"
   },
   "outputs": [
    {
     "name": "stdout",
     "output_type": "stream",
     "text": [
      "Object dtype:\n",
      " Index          132\n",
      "Status    65666083\n",
      "dtype: int64\n",
      "\n",
      "Categorical dtype:\n",
      " Index         132\n",
      "Status    1000305\n",
      "dtype: int64\n"
     ]
    }
   ],
   "source": [
    "# Memory Optimization with Categoricals\n",
    "# Comparing memory usage before and after conversion\n",
    "\n",
    "import pandas as pd\n",
    "import numpy as np\n",
    "\n",
    "# Simulate a large dataset with repeated strings\n",
    "n = 1_000_000\n",
    "statuses = np.random.choice(['Delivered', 'In Transit', 'Delayed'], size=n)\n",
    "\n",
    "df_obj = pd.DataFrame({'Status': statuses})\n",
    "df_cat = df_obj.copy()\n",
    "df_cat['Status'] = df_cat['Status'].astype('category')\n",
    "\n",
    "# Compare memory usage\n",
    "print(\"Object dtype:\\n\", df_obj.memory_usage(deep=True))\n",
    "print(\"\\nCategorical dtype:\\n\", df_cat.memory_usage(deep=True))"
   ]
  },
  {
   "cell_type": "markdown",
   "metadata": {
    "id": "dZ9IkqGEr835"
   },
   "source": [
    "## **Handling missing data**"
   ]
  },
  {
   "cell_type": "code",
   "execution_count": null,
   "metadata": {
    "colab": {
     "base_uri": "https://localhost:8080/"
    },
    "executionInfo": {
     "elapsed": 20,
     "status": "ok",
     "timestamp": 1749759052249,
     "user": {
      "displayName": "Mrinal Das",
      "userId": "10512190126354830840"
     },
     "user_tz": -330
    },
    "id": "aQ2iE2ZzukL6",
    "outputId": "b2845b6c-043c-447a-8b23-918da881fe44"
   },
   "outputs": [
    {
     "name": "stdout",
     "output_type": "stream",
     "text": [
      "  PatientID  Temperature_C Blood_Pressure  Heart_Rate  Respiratory_Rate\n",
      "0      P001           36.6         120/80        72.0              18.0\n",
      "1      P002            NaN         130/85        85.0               NaN\n",
      "2      P003           38.1            NaN        88.0              20.0\n",
      "3      P004           37.5         110/70         NaN              19.0\n",
      "4      P005            NaN         125/82         NaN              21.0\n"
     ]
    }
   ],
   "source": [
    "# Create Patient Vitals Monitoring (5 patients × 4 vitals)\n",
    "\n",
    "import pandas as pd\n",
    "import numpy as np\n",
    "\n",
    "# Create a simulated hospital vitals dataset\n",
    "data = {\n",
    "    'PatientID': ['P001', 'P002', 'P003', 'P004', 'P005'],\n",
    "    'Temperature_C': [36.6, np.nan, 38.1, 37.5, np.nan],\n",
    "    'Blood_Pressure': ['120/80', '130/85', np.nan, '110/70', '125/82'],\n",
    "    'Heart_Rate': [72, 85, 88, np.nan, np.nan],\n",
    "    'Respiratory_Rate': [18, np.nan, 20, 19, 21]\n",
    "}\n",
    "\n",
    "df = pd.DataFrame(data)\n",
    "print(df)"
   ]
  },
  {
   "cell_type": "code",
   "execution_count": null,
   "metadata": {
    "colab": {
     "base_uri": "https://localhost:8080/"
    },
    "executionInfo": {
     "elapsed": 21,
     "status": "ok",
     "timestamp": 1749759320664,
     "user": {
      "displayName": "Mrinal Das",
      "userId": "10512190126354830840"
     },
     "user_tz": -330
    },
    "id": "A50Y9U31xEfC",
    "outputId": "7163b343-11c6-42df-d63b-2c63139cb4fd"
   },
   "outputs": [
    {
     "name": "stdout",
     "output_type": "stream",
     "text": [
      "Missing matrix:\n",
      "    PatientID  Temperature_C  Blood_Pressure  Heart_Rate  Respiratory_Rate\n",
      "0      False          False           False       False             False\n",
      "1      False           True           False       False              True\n",
      "2      False          False            True       False             False\n",
      "3      False          False           False        True             False\n",
      "4      False           True           False        True             False\n",
      "\n",
      "Missing counts:\n",
      " PatientID           0\n",
      "Temperature_C       2\n",
      "Blood_Pressure      1\n",
      "Heart_Rate          2\n",
      "Respiratory_Rate    1\n",
      "dtype: int64\n"
     ]
    }
   ],
   "source": [
    "# Detecting Missing Values\n",
    "\n",
    "# Detecting missing values in each column\n",
    "missing_values = df.isna()\n",
    "\n",
    "# Count of missing values per column\n",
    "missing_counts = df.isna().sum()\n",
    "\n",
    "print(\"Missing matrix:\\n\", missing_values)\n",
    "print(\"\\nMissing counts:\\n\", missing_counts)"
   ]
  },
  {
   "cell_type": "code",
   "execution_count": null,
   "metadata": {
    "colab": {
     "base_uri": "https://localhost:8080/"
    },
    "executionInfo": {
     "elapsed": 74,
     "status": "ok",
     "timestamp": 1749759345512,
     "user": {
      "displayName": "Mrinal Das",
      "userId": "10512190126354830840"
     },
     "user_tz": -330
    },
    "id": "gar540kRyGBD",
    "outputId": "aa95f179-b31f-4577-913a-2edc62ebda85"
   },
   "outputs": [
    {
     "name": "stdout",
     "output_type": "stream",
     "text": [
      "\n",
      "After filling missing values:\n",
      "   PatientID  Temperature_C Blood_Pressure  Heart_Rate  Respiratory_Rate\n",
      "0      P001           36.6         120/80        72.0              18.0\n",
      "1      P002           37.4         130/85        85.0               NaN\n",
      "2      P003           38.1            NaN        88.0              20.0\n",
      "3      P004           37.5         110/70        75.0              19.0\n",
      "4      P005           37.4         125/82        75.0              21.0\n"
     ]
    }
   ],
   "source": [
    "# Filling Missing Values (fillna)\n",
    "\n",
    "# Fill missing temperature with mean of existing temperatures\n",
    "df['Temperature_C'] = df['Temperature_C'].fillna(df['Temperature_C'].mean())\n",
    "\n",
    "# Fill missing heart rate with a constant value (e.g., 75)\n",
    "df['Heart_Rate'] = df['Heart_Rate'].fillna(75)\n",
    "\n",
    "print(\"\\nAfter filling missing values:\\n\", df)"
   ]
  },
  {
   "cell_type": "code",
   "execution_count": null,
   "metadata": {
    "colab": {
     "base_uri": "https://localhost:8080/"
    },
    "executionInfo": {
     "elapsed": 16,
     "status": "ok",
     "timestamp": 1749759364819,
     "user": {
      "displayName": "Mrinal Das",
      "userId": "10512190126354830840"
     },
     "user_tz": -330
    },
    "id": "fffSPcARyME8",
    "outputId": "2224ef3f-6d77-4c22-ed8e-3216e44a2ee2"
   },
   "outputs": [
    {
     "name": "stdout",
     "output_type": "stream",
     "text": [
      "\n",
      "After dropping rows with all vitals missing:\n",
      "   PatientID  Temperature_C Blood_Pressure  Heart_Rate  Respiratory_Rate\n",
      "0      P001           36.6         120/80        72.0              18.0\n",
      "1      P002           37.4         130/85        85.0               NaN\n",
      "2      P003           38.1            NaN        88.0              20.0\n",
      "3      P004           37.5         110/70        75.0              19.0\n",
      "4      P005           37.4         125/82        75.0              21.0\n"
     ]
    }
   ],
   "source": [
    "# Dropping Rows/Columns with Missing Data (dropna)\n",
    "\n",
    "# Drop rows where all vitals are missing\n",
    "df_dropped = df.dropna(how='all', subset=['Temperature_C', 'Blood_Pressure', 'Heart_Rate', 'Respiratory_Rate'])\n",
    "\n",
    "print(\"\\nAfter dropping rows with all vitals missing:\\n\", df_dropped)"
   ]
  },
  {
   "cell_type": "code",
   "execution_count": null,
   "metadata": {
    "colab": {
     "base_uri": "https://localhost:8080/"
    },
    "executionInfo": {
     "elapsed": 63,
     "status": "ok",
     "timestamp": 1749759384464,
     "user": {
      "displayName": "Mrinal Das",
      "userId": "10512190126354830840"
     },
     "user_tz": -330
    },
    "id": "JmqWS9xVyQy3",
    "outputId": "445d060f-dd31-4491-e254-a44c70f82e1d"
   },
   "outputs": [
    {
     "name": "stdout",
     "output_type": "stream",
     "text": [
      "\n",
      "After interpolation:\n",
      "   PatientID  Temperature_C Blood_Pressure  Heart_Rate  Respiratory_Rate\n",
      "0      P001           36.6         120/80        72.0              18.0\n",
      "1      P002           37.4         130/85        85.0              19.0\n",
      "2      P003           38.1            NaN        88.0              20.0\n",
      "3      P004           37.5         110/70        75.0              19.0\n",
      "4      P005           37.4         125/82        75.0              21.0\n"
     ]
    }
   ],
   "source": [
    "# Interpolation (Time-Series Friendly)\n",
    "\n",
    "# Interpolate missing values in Respiratory Rate\n",
    "df['Respiratory_Rate'] = df['Respiratory_Rate'].interpolate()\n",
    "\n",
    "print(\"\\nAfter interpolation:\\n\", df)"
   ]
  },
  {
   "cell_type": "code",
   "execution_count": null,
   "metadata": {
    "colab": {
     "base_uri": "https://localhost:8080/"
    },
    "executionInfo": {
     "elapsed": 16,
     "status": "ok",
     "timestamp": 1749760204843,
     "user": {
      "displayName": "Mrinal Das",
      "userId": "10512190126354830840"
     },
     "user_tz": -330
    },
    "id": "OUHqkbYtyVlT",
    "outputId": "df794ad8-f4ad-4938-f7b1-27638f86cd50"
   },
   "outputs": [
    {
     "name": "stdout",
     "output_type": "stream",
     "text": [
      "  PatientID  Temperature_C Blood_Pressure  Heart_Rate  Respiratory_Rate\n",
      "0      P001           36.6         120/80        72.0              18.0\n",
      "1      P002           37.4         130/85        85.0              19.0\n",
      "2      P003           38.1            N/A        88.0              20.0\n",
      "3      P004           37.5         110/70        75.0              19.0\n",
      "4      P005           37.4         125/82        75.0              21.0\n"
     ]
    }
   ],
   "source": [
    "# Replacing NaN with Custom Placeholders\n",
    "\n",
    "# Replace NaN (if any) with custom placeholders ('N/A')\n",
    "df.replace({'Blood_Pressure': {np.nan : 'N/A'}}, inplace=True)\n",
    "print(df)"
   ]
  },
  {
   "cell_type": "code",
   "execution_count": null,
   "metadata": {
    "colab": {
     "base_uri": "https://localhost:8080/"
    },
    "executionInfo": {
     "elapsed": 18,
     "status": "ok",
     "timestamp": 1749761330313,
     "user": {
      "displayName": "Mrinal Das",
      "userId": "10512190126354830840"
     },
     "user_tz": -330
    },
    "id": "tcMehzweyZ8U",
    "outputId": "40aa1914-17dd-4cc9-f046-15f418ee4812"
   },
   "outputs": [
    {
     "name": "stdout",
     "output_type": "stream",
     "text": [
      "\n",
      "Vitals with Patient-wise Average:\n",
      "   PatientID  Temperature_C Blood_Pressure  Heart_Rate  Respiratory_Rate  \\\n",
      "0      P001           36.6         120/80        72.0              18.0   \n",
      "1      P002           37.4         130/85        85.0              19.0   \n",
      "2      P003           38.1            N/A        88.0              20.0   \n",
      "3      P004           37.5         110/70        75.0              19.0   \n",
      "4      P005           37.4         125/82        75.0              21.0   \n",
      "\n",
      "   Avg_Vitals  \n",
      "0        45.0  \n",
      "1        52.0  \n",
      "2        54.0  \n",
      "3        47.0  \n",
      "4        48.0  \n"
     ]
    }
   ],
   "source": [
    "# Row-wise Calculations with axis=1\n",
    "\n",
    "# Calculate average of vitals for each patient (row-wise), ignoring NaN\n",
    "df['Avg_Vitals'] = df[['Heart_Rate', 'Respiratory_Rate']].mean(axis=1)\n",
    "\n",
    "print(\"\\nVitals with Patient-wise Average:\\n\", df)"
   ]
  },
  {
   "cell_type": "markdown",
   "metadata": {
    "id": "9o6S7nok5wp3"
   },
   "source": [
    "## **Handling duplicates**"
   ]
  },
  {
   "cell_type": "code",
   "execution_count": null,
   "metadata": {
    "colab": {
     "base_uri": "https://localhost:8080/"
    },
    "executionInfo": {
     "elapsed": 17,
     "status": "ok",
     "timestamp": 1749762420083,
     "user": {
      "displayName": "Mrinal Das",
      "userId": "10512190126354830840"
     },
     "user_tz": -330
    },
    "id": "1YFx9G-17JpZ",
    "outputId": "e6bd6d2f-872b-42e3-a3a1-838eb1c88134"
   },
   "outputs": [
    {
     "name": "stdout",
     "output_type": "stream",
     "text": [
      "  Container_ID Origin_Port Destination_Port  Weight_Tons\n",
      "0         C001    Shanghai      Los Angeles           20\n",
      "1         C002   Rotterdam         New York           25\n",
      "2         C003       Dubai          Hamburg           18\n",
      "3         C001    Shanghai      Los Angeles           20\n",
      "4         C004   Singapore            Tokyo           30\n",
      "5         C002   Rotterdam         New York           25\n"
     ]
    }
   ],
   "source": [
    "# Create logistics dataset\n",
    "\n",
    "import pandas as pd\n",
    "\n",
    "# Create sample dataset representing cargo shipments\n",
    "data = {\n",
    "    'Container_ID': ['C001', 'C002', 'C003', 'C001', 'C004', 'C002'],\n",
    "    'Origin_Port': ['Shanghai', 'Rotterdam', 'Dubai', 'Shanghai', 'Singapore', 'Rotterdam'],\n",
    "    'Destination_Port': ['Los Angeles', 'New York', 'Hamburg', 'Los Angeles', 'Tokyo', 'New York'],\n",
    "    'Weight_Tons': [20, 25, 18, 20, 30, 25]\n",
    "}\n",
    "\n",
    "df = pd.DataFrame(data)\n",
    "print(df)"
   ]
  },
  {
   "cell_type": "code",
   "execution_count": null,
   "metadata": {
    "colab": {
     "base_uri": "https://localhost:8080/"
    },
    "executionInfo": {
     "elapsed": 21,
     "status": "ok",
     "timestamp": 1749762444572,
     "user": {
      "displayName": "Mrinal Das",
      "userId": "10512190126354830840"
     },
     "user_tz": -330
    },
    "id": "SoZxucbf96tD",
    "outputId": "9367adf8-e577-4815-b06c-2125caec5ae6"
   },
   "outputs": [
    {
     "name": "stdout",
     "output_type": "stream",
     "text": [
      "0    False\n",
      "1    False\n",
      "2    False\n",
      "3     True\n",
      "4    False\n",
      "5     True\n",
      "dtype: bool\n",
      "  Container_ID Origin_Port Destination_Port  Weight_Tons\n",
      "0         C001    Shanghai      Los Angeles           20\n",
      "1         C002   Rotterdam         New York           25\n",
      "2         C003       Dubai          Hamburg           18\n",
      "4         C004   Singapore            Tokyo           30\n",
      "  Container_ID Origin_Port Destination_Port  Weight_Tons\n",
      "0         C001    Shanghai      Los Angeles           20\n",
      "1         C002   Rotterdam         New York           25\n",
      "2         C003       Dubai          Hamburg           18\n",
      "4         C004   Singapore            Tokyo           30\n"
     ]
    }
   ],
   "source": [
    "# Detect and Remove Duplicates\n",
    "\n",
    "# Detect duplicated rows (entire row)\n",
    "print(df.duplicated())  # Returns boolean mask\n",
    "\n",
    "# Drop duplicate rows (keep='first' is default)\n",
    "df_dedup = df.drop_duplicates()\n",
    "print(df_dedup)\n",
    "\n",
    "# Drop duplicates based only on specific columns (e.g., Container_ID)\n",
    "df_unique_containers = df.drop_duplicates(subset=['Container_ID'])\n",
    "print(df_unique_containers)"
   ]
  },
  {
   "cell_type": "code",
   "execution_count": null,
   "metadata": {
    "colab": {
     "base_uri": "https://localhost:8080/"
    },
    "executionInfo": {
     "elapsed": 21,
     "status": "ok",
     "timestamp": 1749762919677,
     "user": {
      "displayName": "Mrinal Das",
      "userId": "10512190126354830840"
     },
     "user_tz": -330
    },
    "id": "8EpRfkfS-Ar-",
    "outputId": "e5353d61-5ed0-44a9-c1f8-8710abfc17ea"
   },
   "outputs": [
    {
     "name": "stdout",
     "output_type": "stream",
     "text": [
      "Unique Destination Ports: 4\n",
      "Unique Container IDs: ['C001' 'C002' 'C003' 'C004']\n",
      "Origin Port Frequency:\n",
      " Origin_Port\n",
      "Shanghai     2\n",
      "Rotterdam    2\n",
      "Dubai        1\n",
      "Singapore    1\n",
      "Name: count, dtype: int64\n"
     ]
    }
   ],
   "source": [
    "# Retrieve and Count Unique Elements\n",
    "\n",
    "# Count of unique destination ports\n",
    "unique_dest_ports = df['Destination_Port'].nunique()\n",
    "print(\"Unique Destination Ports:\", unique_dest_ports)\n",
    "\n",
    "# Unique container IDs\n",
    "print(\"Unique Container IDs:\", df['Container_ID'].unique())\n",
    "\n",
    "# Frequency of each origin port\n",
    "print(\"Origin Port Frequency:\\n\", df['Origin_Port'].value_counts())"
   ]
  },
  {
   "cell_type": "code",
   "execution_count": null,
   "metadata": {
    "colab": {
     "base_uri": "https://localhost:8080/"
    },
    "executionInfo": {
     "elapsed": 17,
     "status": "ok",
     "timestamp": 1749762942638,
     "user": {
      "displayName": "Mrinal Das",
      "userId": "10512190126354830840"
     },
     "user_tz": -330
    },
    "id": "Pzr_QX1o_0qr",
    "outputId": "21c2afd7-f750-4ea1-d018-6004c1667e49"
   },
   "outputs": [
    {
     "name": "stdout",
     "output_type": "stream",
     "text": [
      "Duplicate Columns:\n",
      " [False False  True]\n",
      "Duplicate Index:\n",
      " [False False  True]\n"
     ]
    }
   ],
   "source": [
    "# Handling Duplicated Index or Column Labels\n",
    "\n",
    "# Create sample dataframe with duplicate column labels\n",
    "df_dup_cols = pd.DataFrame([[1, 2, 3], [4, 5, 6]], columns=['A', 'B', 'A'])\n",
    "print(\"Duplicate Columns:\\n\", df_dup_cols.columns.duplicated())  # Detect duplicate columns\n",
    "\n",
    "# Create sample dataframe with duplicate row indices\n",
    "df_dup_index = pd.DataFrame({\n",
    "    'Shipment': ['Box1', 'Box2', 'Box3'],\n",
    "    'Weight': [10, 15, 12]\n",
    "}, index=[0, 1, 1])  # duplicate index 1\n",
    "\n",
    "print(\"Duplicate Index:\\n\", df_dup_index.index.duplicated())  # Detect duplicate indices"
   ]
  },
  {
   "cell_type": "code",
   "execution_count": null,
   "metadata": {
    "colab": {
     "base_uri": "https://localhost:8080/"
    },
    "executionInfo": {
     "elapsed": 649,
     "status": "ok",
     "timestamp": 1749792499145,
     "user": {
      "displayName": "Mrinal Das",
      "userId": "10512190126354830840"
     },
     "user_tz": -330
    },
    "id": "JP45JCpO_6R4",
    "outputId": "22691762-4cc6-42a2-be61-764803b87379"
   },
   "outputs": [
    {
     "name": "stdout",
     "output_type": "stream",
     "text": [
      "Duplicate Columns:\n",
      " [False False  True]\n",
      "Duplicate Index:\n",
      " [False False  True]\n"
     ]
    }
   ],
   "source": [
    "# Handling Duplicated Labels (Row/Column Indexes)\n",
    "import pandas as pd\n",
    "# Create sample dataframe with duplicate column labels\n",
    "df_dup_cols = pd.DataFrame([[1, 2, 3], [4, 5, 6]], columns=['A', 'B', 'A'])\n",
    "print(\"Duplicate Columns:\\n\", df_dup_cols.columns.duplicated())  # Detect duplicate columns\n",
    "\n",
    "# Create sample dataframe with duplicate row indices\n",
    "df_dup_index = pd.DataFrame({\n",
    "    'Shipment': ['Box1', 'Box2', 'Box3'],\n",
    "    'Weight': [10, 15, 12]\n",
    "}, index=[0, 1, 1])  # duplicate index 1\n",
    "\n",
    "print(\"Duplicate Index:\\n\", df_dup_index.index.duplicated())  # Detect duplicate indices"
   ]
  },
  {
   "cell_type": "markdown",
   "metadata": {
    "id": "Td0Q9yFZCtzn"
   },
   "source": [
    "# Session 04"
   ]
  },
  {
   "cell_type": "markdown",
   "metadata": {
    "id": "9g9Dxm5Yo42Z"
   },
   "source": [
    "## **Combining and Reshaping Data**"
   ]
  },
  {
   "cell_type": "code",
   "execution_count": null,
   "metadata": {
    "colab": {
     "base_uri": "https://localhost:8080/"
    },
    "executionInfo": {
     "elapsed": 783,
     "status": "ok",
     "timestamp": 1749807556913,
     "user": {
      "displayName": "Mrinal Das",
      "userId": "10512190126354830840"
     },
     "user_tz": -330
    },
    "id": "euXthmKGo6ln",
    "outputId": "99bc45a2-e612-484b-a0c8-28622add0de2"
   },
   "outputs": [
    {
     "name": "stdout",
     "output_type": "stream",
     "text": [
      "   PassengerID Origin Destination  FareUSD\n",
      "0          101    JFK         CDG      520\n",
      "1          102    LHR         DEL      690\n",
      "2          103    DXB         HND      830\n",
      "3          104    SIN         SYD      720\n",
      "4          105    SFO         ICN      640\n"
     ]
    }
   ],
   "source": [
    "# concat() – Combine OTA and Airline Bookings\n",
    "\n",
    "import pandas as pd\n",
    "\n",
    "# Create OTA bookings DataFrame\n",
    "ota_data = pd.DataFrame({\n",
    "    'PassengerID': [101, 102, 103],\n",
    "    'Origin': ['JFK', 'LHR', 'DXB'],\n",
    "    'Destination': ['CDG', 'DEL', 'HND'],\n",
    "    'FareUSD': [520, 690, 830]\n",
    "})\n",
    "\n",
    "# Create Airline website bookings DataFrame\n",
    "airline_data = pd.DataFrame({\n",
    "    'PassengerID': [104, 105],\n",
    "    'Origin': ['SIN', 'SFO'],\n",
    "    'Destination': ['SYD', 'ICN'],\n",
    "    'FareUSD': [720, 640]\n",
    "})\n",
    "\n",
    "# Combine both datasets vertically (row-wise)\n",
    "combined_data = pd.concat([ota_data, airline_data], ignore_index=True)\n",
    "\n",
    "print(combined_data)"
   ]
  },
  {
   "cell_type": "code",
   "execution_count": null,
   "metadata": {
    "colab": {
     "base_uri": "https://localhost:8080/"
    },
    "executionInfo": {
     "elapsed": 5,
     "status": "ok",
     "timestamp": 1749824334282,
     "user": {
      "displayName": "Mrinal Das",
      "userId": "10512190126354830840"
     },
     "user_tz": -330
    },
    "id": "JL57g4PmqCnY",
    "outputId": "6ba4e0d3-d6d7-47e3-926c-24fd29d17d80"
   },
   "outputs": [
    {
     "name": "stdout",
     "output_type": "stream",
     "text": [
      "   PassengerID Origin Destination AirportCode Country\n",
      "0          101    JFK         CDG         JFK     USA\n",
      "1          102    LHR         DEL         LHR      UK\n",
      "2          103    DXB         HND         DXB     UAE\n"
     ]
    }
   ],
   "source": [
    "# merge() - Add Airport Metadata\n",
    "\n",
    "import pandas as pd\n",
    "# Main ticket data\n",
    "tickets = pd.DataFrame({\n",
    "    'PassengerID': [101, 102, 103],\n",
    "    'Origin': ['JFK', 'LHR', 'DXB'],\n",
    "    'Destination': ['CDG', 'DEL', 'HND']\n",
    "})\n",
    "\n",
    "# Airport metadata\n",
    "airports = pd.DataFrame({\n",
    "    'AirportCode': ['JFK', 'LHR', 'DXB', 'CDG', 'DEL', 'HND'],\n",
    "    'Country': ['USA', 'UK', 'UAE', 'France', 'India', 'Japan']\n",
    "})\n",
    "\n",
    "# Merge ticket data with airport info on Origin code\n",
    "merged = tickets.merge(airports, how='left', left_on='Origin', right_on='AirportCode')\n",
    "\n",
    "print(merged)"
   ]
  },
  {
   "cell_type": "code",
   "execution_count": null,
   "metadata": {
    "colab": {
     "base_uri": "https://localhost:8080/"
    },
    "executionInfo": {
     "elapsed": 436,
     "status": "ok",
     "timestamp": 1749826652390,
     "user": {
      "displayName": "Mrinal Das",
      "userId": "10512190126354830840"
     },
     "user_tz": -330
    },
    "id": "Ug7Hm473p-FW",
    "outputId": "138ff618-1874-48aa-cc10-147bdfd4ff9e"
   },
   "outputs": [
    {
     "name": "stdout",
     "output_type": "stream",
     "text": [
      "=== Left Join ===\n",
      "             Origin Destination  FareUSD\n",
      "FlightNo                                \n",
      "AI101         Delhi    New York    850.0\n",
      "BA204        London      Mumbai    920.0\n",
      "LH789     Frankfurt       Tokyo      NaN\n",
      "EK501         Dubai   Singapore    730.0 \n",
      "\n",
      "=== Right Join ===\n",
      "          Origin Destination  FareUSD\n",
      "FlightNo                             \n",
      "AI101      Delhi    New York      850\n",
      "BA204     London      Mumbai      920\n",
      "SQ802        NaN         NaN      780\n",
      "EK501      Dubai   Singapore      730 \n",
      "\n",
      "=== Inner Join ===\n",
      "          Origin Destination  FareUSD\n",
      "FlightNo                             \n",
      "AI101      Delhi    New York      850\n",
      "BA204     London      Mumbai      920\n",
      "EK501      Dubai   Singapore      730 \n",
      "\n",
      "=== Outer Join ===\n",
      "             Origin Destination  FareUSD\n",
      "FlightNo                                \n",
      "AI101         Delhi    New York    850.0\n",
      "BA204        London      Mumbai    920.0\n",
      "EK501         Dubai   Singapore    730.0\n",
      "LH789     Frankfurt       Tokyo      NaN\n",
      "SQ802           NaN         NaN    780.0\n"
     ]
    }
   ],
   "source": [
    "# join() – Combine Passenger Info with Booking Logs (via index)\n",
    "# Combining DataFrames on Index with Different Join Types\n",
    "\n",
    "import pandas as pd\n",
    "\n",
    "# Schedule DataFrame: flight details\n",
    "schedule_df = pd.DataFrame({\n",
    "    'FlightNo': ['AI101', 'BA204', 'LH789', 'EK501'],\n",
    "    'Origin': ['Delhi', 'London', 'Frankfurt', 'Dubai'],\n",
    "    'Destination': ['New York', 'Mumbai', 'Tokyo', 'Singapore']\n",
    "}).set_index('FlightNo')\n",
    "\n",
    "# Prices DataFrame: ticket prices\n",
    "prices_df = pd.DataFrame({\n",
    "    'FlightNo': ['AI101', 'BA204', 'SQ802', 'EK501'],\n",
    "    'FareUSD': [850, 920, 780, 730]\n",
    "}).set_index('FlightNo')\n",
    "\n",
    "# Different join types\n",
    "# keeps all rows from the left (schedule), fills missing prices as NaN\n",
    "left_join = schedule_df.join(prices_df, how='left')\n",
    "\n",
    "# keeps all rows from the right (prices), fills missing schedule data as NaN\n",
    "right_join = schedule_df.join(prices_df, how='right')\n",
    "\n",
    "# keeps only common index keys\n",
    "inner_join = schedule_df.join(prices_df, how='inner')\n",
    "\n",
    "# keeps all keys from both, fills missing values with NaN.\n",
    "outer_join = schedule_df.join(prices_df, how='outer')\n",
    "\n",
    "print(\"=== Left Join ===\")\n",
    "print(left_join, '\\n')\n",
    "print(\"=== Right Join ===\")\n",
    "print(right_join, '\\n')\n",
    "print(\"=== Inner Join ===\")\n",
    "print(inner_join, '\\n')\n",
    "print(\"=== Outer Join ===\")\n",
    "print(outer_join)"
   ]
  },
  {
   "cell_type": "code",
   "execution_count": null,
   "metadata": {
    "colab": {
     "base_uri": "https://localhost:8080/"
    },
    "executionInfo": {
     "elapsed": 461,
     "status": "ok",
     "timestamp": 1749825073494,
     "user": {
      "displayName": "Mrinal Das",
      "userId": "10512190126354830840"
     },
     "user_tz": -330
    },
    "id": "2RKYIMPLq6cT",
    "outputId": "3f07904e-05d2-4dc1-cf68-f09c70f3b632"
   },
   "outputs": [
    {
     "name": "stdout",
     "output_type": "stream",
     "text": [
      "     Route Month  Bookings\n",
      "0  JFK-CDG   Jan       120\n",
      "1  LHR-DEL   Jan       140\n",
      "2  DXB-HND   Jan       160\n",
      "3  JFK-CDG   Feb       130\n",
      "4  LHR-DEL   Feb       150\n",
      "5  DXB-HND   Feb       170\n",
      "6  JFK-CDG   Mar       125\n",
      "7  LHR-DEL   Mar       145\n",
      "8  DXB-HND   Mar       165\n"
     ]
    }
   ],
   "source": [
    "# melt() – Monthly Flight Bookings to Long Format\n",
    "\n",
    "import pandas as pd\n",
    "\n",
    "# Wide-format flight booking data\n",
    "booking_wide = pd.DataFrame({\n",
    "    'Route': ['JFK-CDG', 'LHR-DEL', 'DXB-HND'],\n",
    "    'Jan': [120, 140, 160],\n",
    "    'Feb': [130, 150, 170],\n",
    "    'Mar': [125, 145, 165]\n",
    "})\n",
    "\n",
    "# Melt to long format\n",
    "booking_long = pd.melt(booking_wide, id_vars=['Route'],\n",
    "                       var_name='Month', value_name='Bookings')\n",
    "\n",
    "print(booking_long)"
   ]
  },
  {
   "cell_type": "code",
   "execution_count": null,
   "metadata": {
    "colab": {
     "base_uri": "https://localhost:8080/"
    },
    "executionInfo": {
     "elapsed": 448,
     "status": "ok",
     "timestamp": 1749825960096,
     "user": {
      "displayName": "Mrinal Das",
      "userId": "10512190126354830840"
     },
     "user_tz": -330
    },
    "id": "yGJFAVvKwQlF",
    "outputId": "d0d902f4-7029-4b88-865f-4b3d50e64cc4"
   },
   "outputs": [
    {
     "name": "stdout",
     "output_type": "stream",
     "text": [
      "Class    Business  Economy  First\n",
      "Route                            \n",
      "DEL-TYO      1100      450   2100\n",
      "NYC-LON      1200      500   2200\n"
     ]
    }
   ],
   "source": [
    "# pivot() – Reshape flight fare data from long to wide format\n",
    "\n",
    "import pandas as pd\n",
    "\n",
    "# Long-form fare data\n",
    "fare_data = pd.DataFrame({\n",
    "    'Route': ['NYC-LON', 'NYC-LON', 'NYC-LON', 'DEL-TYO', 'DEL-TYO', 'DEL-TYO'],\n",
    "    'Class': ['Economy', 'Business', 'First', 'Economy', 'Business', 'First'],\n",
    "    'FareUSD': [500, 1200, 2200, 450, 1100, 2100]\n",
    "})\n",
    "\n",
    "# Pivot the data: one row per route, one column per class\n",
    "pivoted_fares = fare_data.pivot(index='Route', columns='Class', values='FareUSD')\n",
    "\n",
    "print(pivoted_fares)"
   ]
  },
  {
   "cell_type": "code",
   "execution_count": null,
   "metadata": {
    "colab": {
     "base_uri": "https://localhost:8080/"
    },
    "executionInfo": {
     "elapsed": 485,
     "status": "ok",
     "timestamp": 1749825589166,
     "user": {
      "displayName": "Mrinal Das",
      "userId": "10512190126354830840"
     },
     "user_tz": -330
    },
    "id": "-EsvcAF8s6y7",
    "outputId": "d25e2b16-630a-4cb6-f6ea-7f7c28500c12"
   },
   "outputs": [
    {
     "name": "stdout",
     "output_type": "stream",
     "text": [
      "Class   Business  Economy\n",
      "Origin                   \n",
      "DXB        900.0    430.0\n",
      "JFK       1120.0    520.0\n",
      "LHR        980.0    480.0\n"
     ]
    }
   ],
   "source": [
    "# pivot_table() – Average Fare by Origin and Class\n",
    "\n",
    "# Flight ticket records\n",
    "tickets = pd.DataFrame({\n",
    "    'Origin': ['JFK', 'JFK', 'LHR', 'LHR', 'DXB', 'DXB'],\n",
    "    'Class': ['Economy', 'Business', 'Economy', 'Business', 'Economy', 'Business'],\n",
    "    'FareUSD': [520, 1120, 480, 980, 430, 900]\n",
    "})\n",
    "\n",
    "# Create a pivot table showing average fare by origin and class\n",
    "fare_pivot = tickets.pivot_table(values='FareUSD',\n",
    "                                  index='Origin',\n",
    "                                  columns='Class',\n",
    "                                  aggfunc='mean')\n",
    "\n",
    "print(fare_pivot)"
   ]
  },
  {
   "cell_type": "markdown",
   "metadata": {
    "id": "Ivz-ZX2-uuyV"
   },
   "source": [
    "## **Exploring & Summarizing Data**"
   ]
  },
  {
   "cell_type": "code",
   "execution_count": null,
   "metadata": {
    "colab": {
     "base_uri": "https://localhost:8080/"
    },
    "executionInfo": {
     "elapsed": 15,
     "status": "ok",
     "timestamp": 1749827899258,
     "user": {
      "displayName": "Mrinal Das",
      "userId": "10512190126354830840"
     },
     "user_tz": -330
    },
    "id": "v93t8UNk3iHg",
    "outputId": "2cfd4763-09e7-4fbc-cab2-047a9dc05718"
   },
   "outputs": [
    {
     "name": "stdout",
     "output_type": "stream",
     "text": [
      "   Country         Region  Year  Electricity_Consumption_TWh  \\\n",
      "0      USA  North America  2022                         4100   \n",
      "1    China           Asia  2022                         8100   \n",
      "2    India           Asia  2022                         1600   \n",
      "3  Germany         Europe  2022                          520   \n",
      "4   Brazil  South America  2022                          580   \n",
      "\n",
      "   Renewable_Share_Percent  \n",
      "0                     20.1  \n",
      "1                     28.5  \n",
      "2                     16.3  \n",
      "3                     42.0  \n",
      "4                     83.2  \n"
     ]
    }
   ],
   "source": [
    "# Sample Dataset: Electricity Usage\n",
    "import pandas as pd\n",
    "\n",
    "# Sample dataset: Electricity usage in Terawatt-hours (TWh)\n",
    "data = {\n",
    "    'Country': ['USA', 'China', 'India', 'Germany', 'Brazil'],\n",
    "    'Region': ['North America', 'Asia', 'Asia', 'Europe', 'South America'],\n",
    "    'Year': [2022, 2022, 2022, 2022, 2022],\n",
    "    'Electricity_Consumption_TWh': [4100, 8100, 1600, 520, 580],\n",
    "    'Renewable_Share_Percent': [20.1, 28.5, 16.3, 42.0, 83.2]\n",
    "}\n",
    "df = pd.DataFrame(data)\n",
    "print(df)"
   ]
  },
  {
   "cell_type": "code",
   "execution_count": null,
   "metadata": {
    "colab": {
     "base_uri": "https://localhost:8080/"
    },
    "executionInfo": {
     "elapsed": 469,
     "status": "ok",
     "timestamp": 1749827945091,
     "user": {
      "displayName": "Mrinal Das",
      "userId": "10512190126354830840"
     },
     "user_tz": -330
    },
    "id": "EvsZxEx53sX4",
    "outputId": "b760af45-6891-4576-ab52-aec68b5490b8"
   },
   "outputs": [
    {
     "name": "stdout",
     "output_type": "stream",
     "text": [
      "<class 'pandas.core.frame.DataFrame'>\n",
      "RangeIndex: 5 entries, 0 to 4\n",
      "Data columns (total 5 columns):\n",
      " #   Column                       Non-Null Count  Dtype  \n",
      "---  ------                       --------------  -----  \n",
      " 0   Country                      5 non-null      object \n",
      " 1   Region                       5 non-null      object \n",
      " 2   Year                         5 non-null      int64  \n",
      " 3   Electricity_Consumption_TWh  5 non-null      int64  \n",
      " 4   Renewable_Share_Percent      5 non-null      float64\n",
      "dtypes: float64(1), int64(2), object(2)\n",
      "memory usage: 332.0+ bytes\n"
     ]
    }
   ],
   "source": [
    "# info() – Dataset Structure\n",
    "# Display concise summary of the DataFrame\n",
    "df.info()"
   ]
  },
  {
   "cell_type": "code",
   "execution_count": null,
   "metadata": {
    "colab": {
     "base_uri": "https://localhost:8080/",
     "height": 300
    },
    "executionInfo": {
     "elapsed": 736,
     "status": "ok",
     "timestamp": 1749827961821,
     "user": {
      "displayName": "Mrinal Das",
      "userId": "10512190126354830840"
     },
     "user_tz": -330
    },
    "id": "jI2l25G_33l9",
    "outputId": "3d220767-5048-4f8c-b5c7-701493365159"
   },
   "outputs": [
    {
     "data": {
      "application/vnd.google.colaboratory.intrinsic+json": {
       "summary": "{\n  \"name\": \"df\",\n  \"rows\": 8,\n  \"fields\": [\n    {\n      \"column\": \"Year\",\n      \"properties\": {\n        \"dtype\": \"number\",\n        \"std\": 934.8478008287154,\n        \"min\": 0.0,\n        \"max\": 2022.0,\n        \"num_unique_values\": 3,\n        \"samples\": [\n          5.0,\n          2022.0,\n          0.0\n        ],\n        \"semantic_type\": \"\",\n        \"description\": \"\"\n      }\n    },\n    {\n      \"column\": \"Electricity_Consumption_TWh\",\n      \"properties\": {\n        \"dtype\": \"number\",\n        \"std\": 2649.664060524131,\n        \"min\": 5.0,\n        \"max\": 8100.0,\n        \"num_unique_values\": 8,\n        \"samples\": [\n          2980.0,\n          1600.0,\n          5.0\n        ],\n        \"semantic_type\": \"\",\n        \"description\": \"\"\n      }\n    },\n    {\n      \"column\": \"Renewable_Share_Percent\",\n      \"properties\": {\n        \"dtype\": \"number\",\n        \"std\": 23.630086586964122,\n        \"min\": 5.0,\n        \"max\": 83.2,\n        \"num_unique_values\": 8,\n        \"samples\": [\n          38.02,\n          28.5,\n          5.0\n        ],\n        \"semantic_type\": \"\",\n        \"description\": \"\"\n      }\n    }\n  ]\n}",
       "type": "dataframe"
      },
      "text/html": [
       "\n",
       "  <div id=\"df-fe283061-2dee-4ed7-b561-ea46687af268\" class=\"colab-df-container\">\n",
       "    <div>\n",
       "<style scoped>\n",
       "    .dataframe tbody tr th:only-of-type {\n",
       "        vertical-align: middle;\n",
       "    }\n",
       "\n",
       "    .dataframe tbody tr th {\n",
       "        vertical-align: top;\n",
       "    }\n",
       "\n",
       "    .dataframe thead th {\n",
       "        text-align: right;\n",
       "    }\n",
       "</style>\n",
       "<table border=\"1\" class=\"dataframe\">\n",
       "  <thead>\n",
       "    <tr style=\"text-align: right;\">\n",
       "      <th></th>\n",
       "      <th>Year</th>\n",
       "      <th>Electricity_Consumption_TWh</th>\n",
       "      <th>Renewable_Share_Percent</th>\n",
       "    </tr>\n",
       "  </thead>\n",
       "  <tbody>\n",
       "    <tr>\n",
       "      <th>count</th>\n",
       "      <td>5.0</td>\n",
       "      <td>5.000000</td>\n",
       "      <td>5.000000</td>\n",
       "    </tr>\n",
       "    <tr>\n",
       "      <th>mean</th>\n",
       "      <td>2022.0</td>\n",
       "      <td>2980.000000</td>\n",
       "      <td>38.020000</td>\n",
       "    </tr>\n",
       "    <tr>\n",
       "      <th>std</th>\n",
       "      <td>0.0</td>\n",
       "      <td>3208.769234</td>\n",
       "      <td>27.113594</td>\n",
       "    </tr>\n",
       "    <tr>\n",
       "      <th>min</th>\n",
       "      <td>2022.0</td>\n",
       "      <td>520.000000</td>\n",
       "      <td>16.300000</td>\n",
       "    </tr>\n",
       "    <tr>\n",
       "      <th>25%</th>\n",
       "      <td>2022.0</td>\n",
       "      <td>580.000000</td>\n",
       "      <td>20.100000</td>\n",
       "    </tr>\n",
       "    <tr>\n",
       "      <th>50%</th>\n",
       "      <td>2022.0</td>\n",
       "      <td>1600.000000</td>\n",
       "      <td>28.500000</td>\n",
       "    </tr>\n",
       "    <tr>\n",
       "      <th>75%</th>\n",
       "      <td>2022.0</td>\n",
       "      <td>4100.000000</td>\n",
       "      <td>42.000000</td>\n",
       "    </tr>\n",
       "    <tr>\n",
       "      <th>max</th>\n",
       "      <td>2022.0</td>\n",
       "      <td>8100.000000</td>\n",
       "      <td>83.200000</td>\n",
       "    </tr>\n",
       "  </tbody>\n",
       "</table>\n",
       "</div>\n",
       "    <div class=\"colab-df-buttons\">\n",
       "\n",
       "  <div class=\"colab-df-container\">\n",
       "    <button class=\"colab-df-convert\" onclick=\"convertToInteractive('df-fe283061-2dee-4ed7-b561-ea46687af268')\"\n",
       "            title=\"Convert this dataframe to an interactive table.\"\n",
       "            style=\"display:none;\">\n",
       "\n",
       "  <svg xmlns=\"http://www.w3.org/2000/svg\" height=\"24px\" viewBox=\"0 -960 960 960\">\n",
       "    <path d=\"M120-120v-720h720v720H120Zm60-500h600v-160H180v160Zm220 220h160v-160H400v160Zm0 220h160v-160H400v160ZM180-400h160v-160H180v160Zm440 0h160v-160H620v160ZM180-180h160v-160H180v160Zm440 0h160v-160H620v160Z\"/>\n",
       "  </svg>\n",
       "    </button>\n",
       "\n",
       "  <style>\n",
       "    .colab-df-container {\n",
       "      display:flex;\n",
       "      gap: 12px;\n",
       "    }\n",
       "\n",
       "    .colab-df-convert {\n",
       "      background-color: #E8F0FE;\n",
       "      border: none;\n",
       "      border-radius: 50%;\n",
       "      cursor: pointer;\n",
       "      display: none;\n",
       "      fill: #1967D2;\n",
       "      height: 32px;\n",
       "      padding: 0 0 0 0;\n",
       "      width: 32px;\n",
       "    }\n",
       "\n",
       "    .colab-df-convert:hover {\n",
       "      background-color: #E2EBFA;\n",
       "      box-shadow: 0px 1px 2px rgba(60, 64, 67, 0.3), 0px 1px 3px 1px rgba(60, 64, 67, 0.15);\n",
       "      fill: #174EA6;\n",
       "    }\n",
       "\n",
       "    .colab-df-buttons div {\n",
       "      margin-bottom: 4px;\n",
       "    }\n",
       "\n",
       "    [theme=dark] .colab-df-convert {\n",
       "      background-color: #3B4455;\n",
       "      fill: #D2E3FC;\n",
       "    }\n",
       "\n",
       "    [theme=dark] .colab-df-convert:hover {\n",
       "      background-color: #434B5C;\n",
       "      box-shadow: 0px 1px 3px 1px rgba(0, 0, 0, 0.15);\n",
       "      filter: drop-shadow(0px 1px 2px rgba(0, 0, 0, 0.3));\n",
       "      fill: #FFFFFF;\n",
       "    }\n",
       "  </style>\n",
       "\n",
       "    <script>\n",
       "      const buttonEl =\n",
       "        document.querySelector('#df-fe283061-2dee-4ed7-b561-ea46687af268 button.colab-df-convert');\n",
       "      buttonEl.style.display =\n",
       "        google.colab.kernel.accessAllowed ? 'block' : 'none';\n",
       "\n",
       "      async function convertToInteractive(key) {\n",
       "        const element = document.querySelector('#df-fe283061-2dee-4ed7-b561-ea46687af268');\n",
       "        const dataTable =\n",
       "          await google.colab.kernel.invokeFunction('convertToInteractive',\n",
       "                                                    [key], {});\n",
       "        if (!dataTable) return;\n",
       "\n",
       "        const docLinkHtml = 'Like what you see? Visit the ' +\n",
       "          '<a target=\"_blank\" href=https://colab.research.google.com/notebooks/data_table.ipynb>data table notebook</a>'\n",
       "          + ' to learn more about interactive tables.';\n",
       "        element.innerHTML = '';\n",
       "        dataTable['output_type'] = 'display_data';\n",
       "        await google.colab.output.renderOutput(dataTable, element);\n",
       "        const docLink = document.createElement('div');\n",
       "        docLink.innerHTML = docLinkHtml;\n",
       "        element.appendChild(docLink);\n",
       "      }\n",
       "    </script>\n",
       "  </div>\n",
       "\n",
       "\n",
       "    <div id=\"df-b12a97a5-6631-4e55-a9ec-0114fc164d14\">\n",
       "      <button class=\"colab-df-quickchart\" onclick=\"quickchart('df-b12a97a5-6631-4e55-a9ec-0114fc164d14')\"\n",
       "                title=\"Suggest charts\"\n",
       "                style=\"display:none;\">\n",
       "\n",
       "<svg xmlns=\"http://www.w3.org/2000/svg\" height=\"24px\"viewBox=\"0 0 24 24\"\n",
       "     width=\"24px\">\n",
       "    <g>\n",
       "        <path d=\"M19 3H5c-1.1 0-2 .9-2 2v14c0 1.1.9 2 2 2h14c1.1 0 2-.9 2-2V5c0-1.1-.9-2-2-2zM9 17H7v-7h2v7zm4 0h-2V7h2v10zm4 0h-2v-4h2v4z\"/>\n",
       "    </g>\n",
       "</svg>\n",
       "      </button>\n",
       "\n",
       "<style>\n",
       "  .colab-df-quickchart {\n",
       "      --bg-color: #E8F0FE;\n",
       "      --fill-color: #1967D2;\n",
       "      --hover-bg-color: #E2EBFA;\n",
       "      --hover-fill-color: #174EA6;\n",
       "      --disabled-fill-color: #AAA;\n",
       "      --disabled-bg-color: #DDD;\n",
       "  }\n",
       "\n",
       "  [theme=dark] .colab-df-quickchart {\n",
       "      --bg-color: #3B4455;\n",
       "      --fill-color: #D2E3FC;\n",
       "      --hover-bg-color: #434B5C;\n",
       "      --hover-fill-color: #FFFFFF;\n",
       "      --disabled-bg-color: #3B4455;\n",
       "      --disabled-fill-color: #666;\n",
       "  }\n",
       "\n",
       "  .colab-df-quickchart {\n",
       "    background-color: var(--bg-color);\n",
       "    border: none;\n",
       "    border-radius: 50%;\n",
       "    cursor: pointer;\n",
       "    display: none;\n",
       "    fill: var(--fill-color);\n",
       "    height: 32px;\n",
       "    padding: 0;\n",
       "    width: 32px;\n",
       "  }\n",
       "\n",
       "  .colab-df-quickchart:hover {\n",
       "    background-color: var(--hover-bg-color);\n",
       "    box-shadow: 0 1px 2px rgba(60, 64, 67, 0.3), 0 1px 3px 1px rgba(60, 64, 67, 0.15);\n",
       "    fill: var(--button-hover-fill-color);\n",
       "  }\n",
       "\n",
       "  .colab-df-quickchart-complete:disabled,\n",
       "  .colab-df-quickchart-complete:disabled:hover {\n",
       "    background-color: var(--disabled-bg-color);\n",
       "    fill: var(--disabled-fill-color);\n",
       "    box-shadow: none;\n",
       "  }\n",
       "\n",
       "  .colab-df-spinner {\n",
       "    border: 2px solid var(--fill-color);\n",
       "    border-color: transparent;\n",
       "    border-bottom-color: var(--fill-color);\n",
       "    animation:\n",
       "      spin 1s steps(1) infinite;\n",
       "  }\n",
       "\n",
       "  @keyframes spin {\n",
       "    0% {\n",
       "      border-color: transparent;\n",
       "      border-bottom-color: var(--fill-color);\n",
       "      border-left-color: var(--fill-color);\n",
       "    }\n",
       "    20% {\n",
       "      border-color: transparent;\n",
       "      border-left-color: var(--fill-color);\n",
       "      border-top-color: var(--fill-color);\n",
       "    }\n",
       "    30% {\n",
       "      border-color: transparent;\n",
       "      border-left-color: var(--fill-color);\n",
       "      border-top-color: var(--fill-color);\n",
       "      border-right-color: var(--fill-color);\n",
       "    }\n",
       "    40% {\n",
       "      border-color: transparent;\n",
       "      border-right-color: var(--fill-color);\n",
       "      border-top-color: var(--fill-color);\n",
       "    }\n",
       "    60% {\n",
       "      border-color: transparent;\n",
       "      border-right-color: var(--fill-color);\n",
       "    }\n",
       "    80% {\n",
       "      border-color: transparent;\n",
       "      border-right-color: var(--fill-color);\n",
       "      border-bottom-color: var(--fill-color);\n",
       "    }\n",
       "    90% {\n",
       "      border-color: transparent;\n",
       "      border-bottom-color: var(--fill-color);\n",
       "    }\n",
       "  }\n",
       "</style>\n",
       "\n",
       "      <script>\n",
       "        async function quickchart(key) {\n",
       "          const quickchartButtonEl =\n",
       "            document.querySelector('#' + key + ' button');\n",
       "          quickchartButtonEl.disabled = true;  // To prevent multiple clicks.\n",
       "          quickchartButtonEl.classList.add('colab-df-spinner');\n",
       "          try {\n",
       "            const charts = await google.colab.kernel.invokeFunction(\n",
       "                'suggestCharts', [key], {});\n",
       "          } catch (error) {\n",
       "            console.error('Error during call to suggestCharts:', error);\n",
       "          }\n",
       "          quickchartButtonEl.classList.remove('colab-df-spinner');\n",
       "          quickchartButtonEl.classList.add('colab-df-quickchart-complete');\n",
       "        }\n",
       "        (() => {\n",
       "          let quickchartButtonEl =\n",
       "            document.querySelector('#df-b12a97a5-6631-4e55-a9ec-0114fc164d14 button');\n",
       "          quickchartButtonEl.style.display =\n",
       "            google.colab.kernel.accessAllowed ? 'block' : 'none';\n",
       "        })();\n",
       "      </script>\n",
       "    </div>\n",
       "\n",
       "    </div>\n",
       "  </div>\n"
      ],
      "text/plain": [
       "         Year  Electricity_Consumption_TWh  Renewable_Share_Percent\n",
       "count     5.0                     5.000000                 5.000000\n",
       "mean   2022.0                  2980.000000                38.020000\n",
       "std       0.0                  3208.769234                27.113594\n",
       "min    2022.0                   520.000000                16.300000\n",
       "25%    2022.0                   580.000000                20.100000\n",
       "50%    2022.0                  1600.000000                28.500000\n",
       "75%    2022.0                  4100.000000                42.000000\n",
       "max    2022.0                  8100.000000                83.200000"
      ]
     },
     "execution_count": 11,
     "metadata": {},
     "output_type": "execute_result"
    }
   ],
   "source": [
    "# describe() – Descriptive Statistics\n",
    "# Summary statistics for numerical columns\n",
    "df.describe()"
   ]
  },
  {
   "cell_type": "code",
   "execution_count": null,
   "metadata": {
    "colab": {
     "base_uri": "https://localhost:8080/",
     "height": 241
    },
    "executionInfo": {
     "elapsed": 8,
     "status": "ok",
     "timestamp": 1749827980633,
     "user": {
      "displayName": "Mrinal Das",
      "userId": "10512190126354830840"
     },
     "user_tz": -330
    },
    "id": "UTrmLyxx37n0",
    "outputId": "b3c38bc2-c6f3-4638-e8bf-e90af26a313a"
   },
   "outputs": [
    {
     "data": {
      "text/html": [
       "<div>\n",
       "<style scoped>\n",
       "    .dataframe tbody tr th:only-of-type {\n",
       "        vertical-align: middle;\n",
       "    }\n",
       "\n",
       "    .dataframe tbody tr th {\n",
       "        vertical-align: top;\n",
       "    }\n",
       "\n",
       "    .dataframe thead th {\n",
       "        text-align: right;\n",
       "    }\n",
       "</style>\n",
       "<table border=\"1\" class=\"dataframe\">\n",
       "  <thead>\n",
       "    <tr style=\"text-align: right;\">\n",
       "      <th></th>\n",
       "      <th>count</th>\n",
       "    </tr>\n",
       "    <tr>\n",
       "      <th>Region</th>\n",
       "      <th></th>\n",
       "    </tr>\n",
       "  </thead>\n",
       "  <tbody>\n",
       "    <tr>\n",
       "      <th>Asia</th>\n",
       "      <td>2</td>\n",
       "    </tr>\n",
       "    <tr>\n",
       "      <th>North America</th>\n",
       "      <td>1</td>\n",
       "    </tr>\n",
       "    <tr>\n",
       "      <th>Europe</th>\n",
       "      <td>1</td>\n",
       "    </tr>\n",
       "    <tr>\n",
       "      <th>South America</th>\n",
       "      <td>1</td>\n",
       "    </tr>\n",
       "  </tbody>\n",
       "</table>\n",
       "</div><br><label><b>dtype:</b> int64</label>"
      ],
      "text/plain": [
       "Region\n",
       "Asia             2\n",
       "North America    1\n",
       "Europe           1\n",
       "South America    1\n",
       "Name: count, dtype: int64"
      ]
     },
     "execution_count": 12,
     "metadata": {},
     "output_type": "execute_result"
    }
   ],
   "source": [
    "# value_counts() – Count of Unique Value\n",
    "# Count occurrences of regions\n",
    "df['Region'].value_counts()"
   ]
  },
  {
   "cell_type": "code",
   "execution_count": null,
   "metadata": {
    "colab": {
     "base_uri": "https://localhost:8080/"
    },
    "executionInfo": {
     "elapsed": 636,
     "status": "ok",
     "timestamp": 1749827998610,
     "user": {
      "displayName": "Mrinal Das",
      "userId": "10512190126354830840"
     },
     "user_tz": -330
    },
    "id": "EQx7TzWL4AUP",
    "outputId": "fc35318e-3496-45fd-eab8-1cb9de6f123a"
   },
   "outputs": [
    {
     "data": {
      "text/plain": [
       "array(['North America', 'Asia', 'Europe', 'South America'], dtype=object)"
      ]
     },
     "execution_count": 13,
     "metadata": {},
     "output_type": "execute_result"
    }
   ],
   "source": [
    "# unique() – List of Unique Values\n",
    "# Unique regions\n",
    "df['Region'].unique()"
   ]
  },
  {
   "cell_type": "code",
   "execution_count": null,
   "metadata": {
    "colab": {
     "base_uri": "https://localhost:8080/"
    },
    "executionInfo": {
     "elapsed": 451,
     "status": "ok",
     "timestamp": 1749828011320,
     "user": {
      "displayName": "Mrinal Das",
      "userId": "10512190126354830840"
     },
     "user_tz": -330
    },
    "id": "pqRBn3ac4E5g",
    "outputId": "68532512-2213-4e09-ca78-9d4afb100a56"
   },
   "outputs": [
    {
     "data": {
      "text/plain": [
       "4"
      ]
     },
     "execution_count": 14,
     "metadata": {},
     "output_type": "execute_result"
    }
   ],
   "source": [
    "# nunique() – Count of Unique Values\n",
    "# Number of unique regions\n",
    "df['Region'].nunique()"
   ]
  },
  {
   "cell_type": "code",
   "execution_count": null,
   "metadata": {
    "colab": {
     "base_uri": "https://localhost:8080/"
    },
    "executionInfo": {
     "elapsed": 491,
     "status": "ok",
     "timestamp": 1749829723933,
     "user": {
      "displayName": "Mrinal Das",
      "userId": "10512190126354830840"
     },
     "user_tz": -330
    },
    "id": "4-j9O9914IC4",
    "outputId": "a3887ade-f9cc-460f-97ab-59f02349e0d4"
   },
   "outputs": [
    {
     "name": "stdout",
     "output_type": "stream",
     "text": [
      "Mean: 2980.0\n",
      "Median: 1600.0\n",
      "Standard Deviation: 3208.769234457349\n",
      "Variance: 10296200.0\n",
      "Skewness: 1.315193089735927\n",
      "Kurtosis: 0.987147657123078\n"
     ]
    }
   ],
   "source": [
    "# Summary statistics\n",
    "mean_consumption = df['Electricity_Consumption_TWh'].mean()\n",
    "median_consumption = df['Electricity_Consumption_TWh'].median()\n",
    "std_consumption = df['Electricity_Consumption_TWh'].std()\n",
    "var_consumption = df['Electricity_Consumption_TWh'].var()\n",
    "skew_consumption = df['Electricity_Consumption_TWh'].skew()\n",
    "kurt_consumption = df['Electricity_Consumption_TWh'].kurt()\n",
    "\n",
    "# Display all together\n",
    "print(\"Mean:\", mean_consumption)\n",
    "print(\"Median:\", median_consumption)\n",
    "print(\"Standard Deviation:\", std_consumption)\n",
    "print(\"Variance:\", var_consumption)\n",
    "print(\"Skewness:\", skew_consumption)\n",
    "print(\"Kurtosis:\", kurt_consumption)"
   ]
  },
  {
   "cell_type": "markdown",
   "metadata": {
    "id": "JPlaWYN74MiD"
   },
   "source": [
    "## **Data Transformation & Manipulation**"
   ]
  },
  {
   "cell_type": "code",
   "execution_count": null,
   "metadata": {
    "colab": {
     "base_uri": "https://localhost:8080/"
    },
    "executionInfo": {
     "elapsed": 427,
     "status": "ok",
     "timestamp": 1749831901084,
     "user": {
      "displayName": "Mrinal Das",
      "userId": "10512190126354830840"
     },
     "user_tz": -330
    },
    "id": "E90ItQ4KEDFF",
    "outputId": "1449f7d0-fb77-4bfd-a7cd-91b99432f072"
   },
   "outputs": [
    {
     "name": "stdout",
     "output_type": "stream",
     "text": [
      "           Station  PM2.5  PM10  NO2    Status\n",
      "0        Delhi-IGI    180   250   95      High\n",
      "1  London-Heathrow     22    40   28       Low\n",
      "2     Tokyo-Haneda     30    55   33  Moderate\n",
      "3     New York-JFK     28    45   40       Low\n",
      "4      Beijing-PEK    305   410  105      High\n"
     ]
    }
   ],
   "source": [
    "# Environmental Air Quality Monitoring\n",
    "# Dataset: Simulated air quality data from 5 monitoring stations in international cities.\n",
    "\n",
    "import pandas as pd\n",
    "import numpy as np\n",
    "\n",
    "# Create a dictionary with air quality data\n",
    "data = {\n",
    "    'Station': ['Delhi-IGI', 'London-Heathrow', 'Tokyo-Haneda', 'New York-JFK', 'Beijing-PEK'],\n",
    "    'PM2.5': [180, 22, 30, 28, 305],   # PM2.5 values (airborne particles)\n",
    "    'PM10': [250, 40, 55, 45, 410],    # PM10 values (larger airborne particles)\n",
    "    'NO2': [95, 28, 33, 40, 105],      # Nitrogen dioxide levels\n",
    "    'Status': ['High', 'Low', 'Moderate', 'Low', 'High']  # Air quality label\n",
    "}\n",
    "\n",
    "# Convert dictionary to DataFrame\n",
    "df = pd.DataFrame(data)\n",
    "\n",
    "# Print initial dataset\n",
    "print(df)"
   ]
  },
  {
   "cell_type": "code",
   "execution_count": null,
   "metadata": {
    "colab": {
     "base_uri": "https://localhost:8080/"
    },
    "executionInfo": {
     "elapsed": 468,
     "status": "ok",
     "timestamp": 1749831888158,
     "user": {
      "displayName": "Mrinal Das",
      "userId": "10512190126354830840"
     },
     "user_tz": -330
    },
    "id": "CW3OVCJmEa7K",
    "outputId": "c270bc0c-8414-472d-eb65-3cd2c7c260cf"
   },
   "outputs": [
    {
     "name": "stdout",
     "output_type": "stream",
     "text": [
      "           Station  PM2.5  PM10  NO2    Status\n",
      "0        Delhi-IGI   30.0   250   95      High\n",
      "1  London-Heathrow   22.0    40   28       Low\n",
      "2     Tokyo-Haneda   30.0    55   33  Moderate\n",
      "3     New York-JFK   28.0    45   40       Low\n",
      "4      Beijing-PEK   30.0   410  105      High\n"
     ]
    }
   ],
   "source": [
    "# apply()\n",
    "# Task: Replace PM2.5 values > 150 with column median\n",
    "\n",
    "# Compute the median of the PM2.5 column\n",
    "pm25_median = df['PM2.5'].median()  # This will be used to replace outliers\n",
    "\n",
    "# Define a function to check and replace outliers\n",
    "def handle_outliers(x):\n",
    "    # If value is greater than 150, it's considered an outlier; replace with median\n",
    "    return pm25_median if x > 150 else x\n",
    "\n",
    "# Apply the function to the 'PM2.5' column\n",
    "df['PM2.5'] = df['PM2.5'].apply(handle_outliers)\n",
    "\n",
    "print(df)"
   ]
  },
  {
   "cell_type": "code",
   "execution_count": null,
   "metadata": {
    "colab": {
     "base_uri": "https://localhost:8080/"
    },
    "executionInfo": {
     "elapsed": 467,
     "status": "ok",
     "timestamp": 1749831941264,
     "user": {
      "displayName": "Mrinal Das",
      "userId": "10512190126354830840"
     },
     "user_tz": -330
    },
    "id": "wBqQXb5VEzN0",
    "outputId": "a357e8d4-c84a-43c1-8003-d1444473d72a"
   },
   "outputs": [
    {
     "name": "stdout",
     "output_type": "stream",
     "text": [
      "           Station  PM2.5  PM10  NO2    Status  Status_Score\n",
      "0        Delhi-IGI    180   250   95      High             3\n",
      "1  London-Heathrow     22    40   28       Low             1\n",
      "2     Tokyo-Haneda     30    55   33  Moderate             2\n",
      "3     New York-JFK     28    45   40       Low             1\n",
      "4      Beijing-PEK    305   410  105      High             3\n"
     ]
    }
   ],
   "source": [
    "# map()\n",
    "# Task: Map \"High\" → 3, \"Moderate\" → 2, \"Low\" → 1 in Status\n",
    "\n",
    "# Create a dictionary mapping for the status labels\n",
    "status_map = {'High': 3, 'Moderate': 2, 'Low': 1}\n",
    "\n",
    "# Use map() to create a new column 'Status_Score' with numeric codes\n",
    "df['Status_Score'] = df['Status'].map(status_map)\n",
    "print(df)"
   ]
  },
  {
   "cell_type": "code",
   "execution_count": null,
   "metadata": {
    "colab": {
     "base_uri": "https://localhost:8080/"
    },
    "executionInfo": {
     "elapsed": 439,
     "status": "ok",
     "timestamp": 1749832002311,
     "user": {
      "displayName": "Mrinal Das",
      "userId": "10512190126354830840"
     },
     "user_tz": -330
    },
    "id": "wDPoyL1SFMD2",
    "outputId": "0ef21a7d-8f8f-43f8-d799-203298848980"
   },
   "outputs": [
    {
     "name": "stdout",
     "output_type": "stream",
     "text": [
      "           Station  PM2.5  PM10  NO2    Status  Status_Score\n",
      "0        Delhi-IGI    180   250   95      High             3\n",
      "1  London-Heathrow     22    40   28       Low             1\n",
      "2     Tokyo-Haneda     30    55   33  Moderate             2\n",
      "3     New York-JFK     28    45   40       Low             1\n",
      "4      Beijing-PEK    305   410  105      High             3\n"
     ]
    },
    {
     "name": "stderr",
     "output_type": "stream",
     "text": [
      "<ipython-input-34-1980104014>:8: FutureWarning: DataFrame.applymap has been deprecated. Use DataFrame.map instead.\n",
      "  df[numeric_columns] = df[numeric_columns].applymap(lambda x: int(x))\n"
     ]
    }
   ],
   "source": [
    "# applymap()\n",
    "# Task: Format all numeric values to integers (simulate cleanup)\n",
    "\n",
    "# Select only numeric columns: PM2.5, PM10, and NO2\n",
    "numeric_columns = ['PM2.5', 'PM10', 'NO2']\n",
    "\n",
    "# Apply an element-wise lambda function to convert float to int\n",
    "df[numeric_columns] = df[numeric_columns].applymap(lambda x: int(x))\n",
    "\n",
    "print(df)"
   ]
  },
  {
   "cell_type": "code",
   "execution_count": null,
   "metadata": {
    "colab": {
     "base_uri": "https://localhost:8080/"
    },
    "executionInfo": {
     "elapsed": 463,
     "status": "ok",
     "timestamp": 1749832053336,
     "user": {
      "displayName": "Mrinal Das",
      "userId": "10512190126354830840"
     },
     "user_tz": -330
    },
    "id": "0JF31FYzFV1y",
    "outputId": "b8a5f1d3-cdae-4a1f-b4a3-6124205cf9a5"
   },
   "outputs": [
    {
     "name": "stdout",
     "output_type": "stream",
     "text": [
      "Sorted by NO2\n",
      "            Station  PM2.5  PM10  NO2    Status  Status_Score\n",
      "4      Beijing-PEK    305   410  105      High             3\n",
      "0        Delhi-IGI    180   250   95      High             3\n",
      "3     New York-JFK     28    45   40       Low             1\n",
      "2     Tokyo-Haneda     30    55   33  Moderate             2\n",
      "1  London-Heathrow     22    40   28       Low             1\n",
      "\n",
      "Sorted by index\n",
      "            Station  PM2.5  PM10  NO2    Status  Status_Score\n",
      "0        Delhi-IGI    180   250   95      High             3\n",
      "1  London-Heathrow     22    40   28       Low             1\n",
      "2     Tokyo-Haneda     30    55   33  Moderate             2\n",
      "3     New York-JFK     28    45   40       Low             1\n",
      "4      Beijing-PEK    305   410  105      High             3\n"
     ]
    }
   ],
   "source": [
    "# Sorting: sort_values() & sort_index()\n",
    "\n",
    "# Sort DataFrame by 'NO2' values in descending order (highest to lowest)\n",
    "df_sorted = df.sort_values(by='NO2', ascending=False)\n",
    "print(\"Sorted by NO2\\n\", df_sorted)\n",
    "\n",
    "# Sort the resulting DataFrame by index to restore original row order\n",
    "df_sorted_index = df_sorted.sort_index()\n",
    "print(\"\\nSorted by index\\n\", df_sorted_index)"
   ]
  },
  {
   "cell_type": "code",
   "execution_count": null,
   "metadata": {
    "colab": {
     "base_uri": "https://localhost:8080/"
    },
    "executionInfo": {
     "elapsed": 469,
     "status": "ok",
     "timestamp": 1749832128318,
     "user": {
      "displayName": "Mrinal Das",
      "userId": "10512190126354830840"
     },
     "user_tz": -330
    },
    "id": "MWCsayB-Fkau",
    "outputId": "8b396dbf-2e09-47f0-cd5d-3a841039b8a3"
   },
   "outputs": [
    {
     "name": "stdout",
     "output_type": "stream",
     "text": [
      "       Station  PM2.5  PM10  NO2 Status  Status_Score\n",
      "0    Delhi-IGI    180   250   95   High             3\n",
      "4  Beijing-PEK    305   410  105   High             3\n"
     ]
    }
   ],
   "source": [
    "# Filtering & Boolean Indexing\n",
    "# Task: Get stations with PM10 > 100 and NO2 > 50\n",
    "\n",
    "# Define condition for filtering - PM10 > 100 AND NO2 > 50\n",
    "condition = (df['PM10'] > 100) & (df['NO2'] > 50)\n",
    "\n",
    "# Apply the Boolean mask to filter rows\n",
    "high_pollution_df = df[condition]\n",
    "print(high_pollution_df)"
   ]
  },
  {
   "cell_type": "code",
   "execution_count": null,
   "metadata": {
    "colab": {
     "base_uri": "https://localhost:8080/"
    },
    "executionInfo": {
     "elapsed": 6,
     "status": "ok",
     "timestamp": 1749832177254,
     "user": {
      "displayName": "Mrinal Das",
      "userId": "10512190126354830840"
     },
     "user_tz": -330
    },
    "id": "u0ssSO8EF5w0",
    "outputId": "13e7bfd8-e309-4364-e2c9-bdce3ffffdfe"
   },
   "outputs": [
    {
     "name": "stdout",
     "output_type": "stream",
     "text": [
      "Replace values using dict\n",
      "            Station  PM2.5  PM10  NO2     Status  Status_Score\n",
      "0        Delhi-Igi    180   250   95  Hazardous             3\n",
      "1  London-Heathrow     22    40   28       Safe             1\n",
      "2     Tokyo-Haneda     30    55   33   Moderate             2\n",
      "3     New York-Jfk     28    45   40       Safe             1\n",
      "4      Beijing-Pek    305   410  105  Hazardous             3\n",
      "\n",
      "Replace values using function\n",
      "            Station  PM2.5  PM10  NO2     Status  Status_Score\n",
      "0        Delhi-Igi    180   250   95  Hazardous             3\n",
      "1  London-Heathrow     22    40   28       Safe             1\n",
      "2     Tokyo-Haneda     30    55   33   Moderate             2\n",
      "3     New York-Jfk     28    45   40       Safe             1\n",
      "4      Beijing-Pek    305   410  105  Hazardous             3\n"
     ]
    }
   ],
   "source": [
    "# Replace values using dict\n",
    "\n",
    "# Replace categorical labels using dictionary\n",
    "df['Status'] = df['Status'].replace({'High': 'Hazardous', 'Low': 'Safe'})\n",
    "print(\"Replace values using dict\\n\", df)\n",
    "\n",
    "# Apply a string function to title-case the station names using apply()\n",
    "df['Station'] = df['Station'].apply(lambda x: x.title())\n",
    "print(\"\\nReplace values using function\\n\", df)"
   ]
  },
  {
   "cell_type": "code",
   "execution_count": null,
   "metadata": {
    "colab": {
     "base_uri": "https://localhost:8080/"
    },
    "executionInfo": {
     "elapsed": 440,
     "status": "ok",
     "timestamp": 1749832248296,
     "user": {
      "displayName": "Mrinal Das",
      "userId": "10512190126354830840"
     },
     "user_tz": -330
    },
    "id": "mcBrFYM1GKrP",
    "outputId": "ff9b5343-d2aa-45b8-a460-925d958c7d03"
   },
   "outputs": [
    {
     "name": "stdout",
     "output_type": "stream",
     "text": [
      "           Station  Status_Score  PM2.5  PM10  NO2     Status\n",
      "0        Delhi-Igi             3    180   250   95  Hazardous\n",
      "1  London-Heathrow             1     22    40   28       Safe\n",
      "2     Tokyo-Haneda             2     30    55   33   Moderate\n",
      "3     New York-Jfk             1     28    45   40       Safe\n",
      "4      Beijing-Pek             3    305   410  105  Hazardous\n"
     ]
    }
   ],
   "source": [
    "# Change Column Order\n",
    "# Reorder columns to bring 'Status_Score' ahead\n",
    "\n",
    "# Define the desired order of columns manually\n",
    "desired_order = ['Station', 'Status_Score', 'PM2.5', 'PM10', 'NO2', 'Status']\n",
    "\n",
    "# Reorder the DataFrame columns using the list\n",
    "df = df[desired_order]\n",
    "print(df)"
   ]
  },
  {
   "cell_type": "code",
   "execution_count": null,
   "metadata": {
    "colab": {
     "base_uri": "https://localhost:8080/"
    },
    "executionInfo": {
     "elapsed": 473,
     "status": "ok",
     "timestamp": 1749832290376,
     "user": {
      "displayName": "Mrinal Das",
      "userId": "10512190126354830840"
     },
     "user_tz": -330
    },
    "id": "hkqb-1KoGUP6",
    "outputId": "df5c6710-cddd-4f8b-ef27-600f68a0734a"
   },
   "outputs": [
    {
     "name": "stdout",
     "output_type": "stream",
     "text": [
      "           Station  Status_Score  PM2.5  PM10  NO2     Status\n",
      "0        Delhi-Igi             3    180   250   95  Hazardous\n",
      "1  London-Heathrow             1     22    40   28       Safe\n",
      "2     Tokyo-Haneda             2     30    55   33   Moderate\n",
      "3     New York-Jfk             1     28    45   40       Safe\n",
      "4      Beijing-Pek             3    305   410  105   Critical\n"
     ]
    }
   ],
   "source": [
    "# Conditional Replacement\n",
    "# Task: If NO2 > 100, set Status to 'Critical'\n",
    "\n",
    "# Define the condition - NO2 value greater than 100\n",
    "condition = df['NO2'] > 100\n",
    "\n",
    "# Use loc[] to update 'Status' where condition is met\n",
    "df.loc[condition, 'Status'] = 'Critical'\n",
    "print(df)"
   ]
  },
  {
   "cell_type": "markdown",
   "metadata": {
    "id": "jmyWvx5QGZJG"
   },
   "source": [
    "## **GroupBy & Aggregation**"
   ]
  },
  {
   "cell_type": "code",
   "execution_count": null,
   "metadata": {
    "colab": {
     "base_uri": "https://localhost:8080/"
    },
    "executionInfo": {
     "elapsed": 437,
     "status": "ok",
     "timestamp": 1749838079665,
     "user": {
      "displayName": "Mrinal Das",
      "userId": "10512190126354830840"
     },
     "user_tz": -330
    },
    "id": "QE8zttoqeR6q",
    "outputId": "3f571340-a958-4e82-9722-c4eb42e336ea"
   },
   "outputs": [
    {
     "name": "stdout",
     "output_type": "stream",
     "text": [
      "          dt  Country  AverageTemperature  AvgTempUncertainty  Year\n",
      "0 2000-01-01    India                24.3                0.50  2000\n",
      "1 2000-01-01  Germany                 4.5                0.40  2000\n",
      "2 2001-01-01    India                24.5                0.51  2001\n",
      "3 2001-01-01  Germany                 4.7                0.42  2001\n",
      "4 2002-01-01    India                24.6                0.49  2002\n",
      "5 2002-01-01  Germany                 4.8                0.43  2002\n"
     ]
    }
   ],
   "source": [
    "# Dataset: Berkeley Earth “GlobalLandTemperaturesByCountry”\n",
    "\n",
    "import pandas as pd\n",
    "\n",
    "# Sample data simulating real dataset\n",
    "data = {\n",
    "    'dt': ['2000-01-01', '2000-01-01', '2001-01-01', '2001-01-01', '2002-01-01', '2002-01-01'],\n",
    "    'Country': ['India', 'Germany', 'India', 'Germany', 'India', 'Germany'],\n",
    "    'AverageTemperature': [24.3, 4.5, 24.5, 4.7, 24.6, 4.8],\n",
    "    'AvgTempUncertainty': [0.5, 0.4, 0.51, 0.42, 0.49, 0.43]\n",
    "}\n",
    "df = pd.DataFrame(data)\n",
    "\n",
    "# Convert dt to datetime and extract Year\n",
    "df['dt'] = pd.to_datetime(df['dt'])\n",
    "df['Year'] = df['dt'].dt.year\n",
    "print(df)"
   ]
  },
  {
   "cell_type": "code",
   "execution_count": null,
   "metadata": {
    "colab": {
     "base_uri": "https://localhost:8080/"
    },
    "executionInfo": {
     "elapsed": 1552,
     "status": "ok",
     "timestamp": 1749838123042,
     "user": {
      "displayName": "Mrinal Das",
      "userId": "10512190126354830840"
     },
     "user_tz": -330
    },
    "id": "q-yH6bJveh4D",
    "outputId": "1730679e-014b-4d98-bc52-8314a1a2d615"
   },
   "outputs": [
    {
     "name": "stdout",
     "output_type": "stream",
     "text": [
      "      AverageTemperature  AvgTempUncertainty\n",
      "Year                                        \n",
      "2000                14.4               0.450\n",
      "2001                14.6               0.465\n",
      "2002                14.7               0.460\n"
     ]
    }
   ],
   "source": [
    "# groupby() Mechanics - Group by Year\n",
    "\n",
    "grouped = df.groupby('Year')\n",
    "yearly_means = grouped[['AverageTemperature', 'AvgTempUncertainty']].mean()\n",
    "print(yearly_means)"
   ]
  },
  {
   "cell_type": "code",
   "execution_count": null,
   "metadata": {
    "colab": {
     "base_uri": "https://localhost:8080/"
    },
    "executionInfo": {
     "elapsed": 441,
     "status": "ok",
     "timestamp": 1749838251523,
     "user": {
      "displayName": "Mrinal Das",
      "userId": "10512190126354830840"
     },
     "user_tz": -330
    },
    "id": "OFJrXbkResMK",
    "outputId": "d95dca23-9012-4a18-9c01-ade4d5a13fcb"
   },
   "outputs": [
    {
     "name": "stdout",
     "output_type": "stream",
     "text": [
      "     AverageTemperature                                   AvgTempUncertainty  \\\n",
      "                    sum  mean  min   max        std count                sum   \n",
      "Year                                                                           \n",
      "2000               28.8  14.4  4.5  24.3  14.000714     2               0.90   \n",
      "2001               29.2  14.6  4.7  24.5  14.000714     2               0.93   \n",
      "2002               29.4  14.7  4.8  24.6  14.000714     2               0.92   \n",
      "\n",
      "                                         \n",
      "       mean   min   max       std count  \n",
      "Year                                     \n",
      "2000  0.450  0.40  0.50  0.070711     2  \n",
      "2001  0.465  0.42  0.51  0.063640     2  \n",
      "2002  0.460  0.43  0.49  0.042426     2  \n"
     ]
    }
   ],
   "source": [
    "# agg() - Aggregations: sum, mean, min, max, std, count\n",
    "\n",
    "# Convert dt column to datetime and extract year\n",
    "df['dt'] = pd.to_datetime(df['dt'])\n",
    "df['Year'] = df['dt'].dt.year\n",
    "\n",
    "# Group by Year and apply all aggregations\n",
    "aggregated = df.groupby('Year').agg({\n",
    "    'AverageTemperature': ['sum', 'mean', 'min', 'max', 'std', 'count'],\n",
    "    'AvgTempUncertainty': ['sum', 'mean', 'min', 'max', 'std', 'count']\n",
    "})\n",
    "\n",
    "print(aggregated)"
   ]
  },
  {
   "cell_type": "code",
   "execution_count": null,
   "metadata": {
    "colab": {
     "base_uri": "https://localhost:8080/"
    },
    "executionInfo": {
     "elapsed": 480,
     "status": "ok",
     "timestamp": 1749838300374,
     "user": {
      "displayName": "Mrinal Das",
      "userId": "10512190126354830840"
     },
     "user_tz": -330
    },
    "id": "EVVj4s00fEy7",
    "outputId": "5430aad7-0405-4c2f-86d9-80e1148a8f96"
   },
   "outputs": [
    {
     "name": "stdout",
     "output_type": "stream",
     "text": [
      "              AverageTemperature  AvgTempUncertainty\n",
      "Year Country                                        \n",
      "2000 Germany                 4.5                0.40\n",
      "     India                  24.3                0.50\n",
      "2001 Germany                 4.7                0.42\n",
      "     India                  24.5                0.51\n",
      "2002 Germany                 4.8                0.43\n",
      "     India                  24.6                0.49\n"
     ]
    }
   ],
   "source": [
    "# Grouping with Multiple Keys - Year + Country\n",
    "\n",
    "grouped_multi = df.groupby(['Year', 'Country']).agg({\n",
    "    'AverageTemperature': 'mean',\n",
    "    'AvgTempUncertainty': 'mean'\n",
    "})\n",
    "print(grouped_multi)"
   ]
  },
  {
   "cell_type": "markdown",
   "metadata": {
    "id": "myZ919f6fXs2"
   },
   "source": [
    "## **Date Handling**"
   ]
  },
  {
   "cell_type": "code",
   "execution_count": null,
   "metadata": {
    "colab": {
     "base_uri": "https://localhost:8080/"
    },
    "executionInfo": {
     "elapsed": 450,
     "status": "ok",
     "timestamp": 1749859753998,
     "user": {
      "displayName": "Mrinal Das",
      "userId": "10512190126354830840"
     },
     "user_tz": -330
    },
    "id": "ognAiYJIoXx3",
    "outputId": "b94bec09-d939-4543-b2e9-2be48e4d4d96"
   },
   "outputs": [
    {
     "name": "stdout",
     "output_type": "stream",
     "text": [
      "        Station  Load_kW           Timestamp\n",
      "0  Substation-A      340 2023-05-01 08:00:00\n",
      "1  Substation-B      512 2023-05-01 08:00:00\n",
      "2  Substation-A      360 2023-05-01 09:00:00\n",
      "3  Substation-B      530 2023-05-01 09:00:00\n",
      "4  Substation-A      370 2023-05-01 10:00:00\n",
      "5  Substation-B      550 2023-05-01 10:00:00\n"
     ]
    }
   ],
   "source": [
    "# Simulate data from multiple substations reporting hourly load (kW) values.\n",
    "#  Parsing Dates During Import\n",
    "\n",
    "import pandas as pd\n",
    "from io import StringIO\n",
    "\n",
    "# Simulated CSV data with load readings and timestamps\n",
    "csv_data = StringIO(\"\"\"\n",
    "Station,Load_kW,Timestamp\n",
    "Substation-A,340,\"2023-05-01 08:00\"\n",
    "Substation-B,512,\"2023-05-01 08:00\"\n",
    "Substation-A,360,\"2023-05-01 09:00\"\n",
    "Substation-B,530,\"2023-05-01 09:00\"\n",
    "Substation-A,370,\"2023-05-01 10:00\"\n",
    "Substation-B,550,\"2023-05-01 10:00\"\n",
    "\"\"\")\n",
    "\n",
    "# Parsing the 'Timestamp' column as datetime during import\n",
    "df = pd.read_csv(csv_data, parse_dates=['Timestamp'])\n",
    "\n",
    "# Display the dataframe\n",
    "print(df)"
   ]
  },
  {
   "cell_type": "code",
   "execution_count": null,
   "metadata": {
    "colab": {
     "base_uri": "https://localhost:8080/"
    },
    "executionInfo": {
     "elapsed": 9,
     "status": "ok",
     "timestamp": 1749859759991,
     "user": {
      "displayName": "Mrinal Das",
      "userId": "10512190126354830840"
     },
     "user_tz": -330
    },
    "id": "RaHNX5mqofRT",
    "outputId": "01d90a41-4754-4608-8011-d35bfebd2f78"
   },
   "outputs": [
    {
     "name": "stdout",
     "output_type": "stream",
     "text": [
      "                          Station  Load_kW\n",
      "Timestamp                                 \n",
      "2023-05-01 08:00:00  Substation-A      340\n",
      "2023-05-01 08:00:00  Substation-B      512\n",
      "2023-05-01 09:00:00  Substation-A      360\n",
      "2023-05-01 09:00:00  Substation-B      530\n",
      "2023-05-01 10:00:00  Substation-A      370\n",
      "2023-05-01 10:00:00  Substation-B      550\n"
     ]
    }
   ],
   "source": [
    "# Datetime Conversion and Indexing\n",
    "\n",
    "# Ensure Timestamp column is datetime (if not parsed earlier)\n",
    "df['Timestamp'] = pd.to_datetime(df['Timestamp'])\n",
    "\n",
    "# Set datetime column as index\n",
    "df = df.set_index('Timestamp')\n",
    "\n",
    "# Sort by datetime index\n",
    "df = df.sort_index()\n",
    "\n",
    "print(df)"
   ]
  },
  {
   "cell_type": "code",
   "execution_count": null,
   "metadata": {
    "colab": {
     "base_uri": "https://localhost:8080/"
    },
    "executionInfo": {
     "elapsed": 7,
     "status": "ok",
     "timestamp": 1749859759991,
     "user": {
      "displayName": "Mrinal Das",
      "userId": "10512190126354830840"
     },
     "user_tz": -330
    },
    "id": "EUdZO56EoorA",
    "outputId": "16d73368-e43b-4147-82de-772f84ef8b5b"
   },
   "outputs": [
    {
     "name": "stdout",
     "output_type": "stream",
     "text": [
      "Downsampled (2H average):\n",
      "                                   Load_kW\n",
      "Station      Timestamp                   \n",
      "Substation-A 2023-05-01 08:00:00    350.0\n",
      "             2023-05-01 10:00:00    370.0\n",
      "Substation-B 2023-05-01 08:00:00    521.0\n",
      "             2023-05-01 10:00:00    550.0\n",
      "\n",
      "Upsampled (30min with forward fill):\n",
      "                                        Station  Load_kW\n",
      "Station      Timestamp                                 \n",
      "Substation-A 2023-05-01 08:00:00  Substation-A      340\n",
      "             2023-05-01 08:30:00  Substation-A      340\n",
      "             2023-05-01 09:00:00  Substation-A      360\n",
      "             2023-05-01 09:30:00  Substation-A      360\n",
      "             2023-05-01 10:00:00  Substation-A      370\n",
      "Substation-B 2023-05-01 08:00:00  Substation-B      512\n",
      "             2023-05-01 08:30:00  Substation-B      512\n",
      "             2023-05-01 09:00:00  Substation-B      530\n",
      "             2023-05-01 09:30:00  Substation-B      530\n",
      "             2023-05-01 10:00:00  Substation-B      550\n"
     ]
    },
    {
     "name": "stderr",
     "output_type": "stream",
     "text": [
      "<ipython-input-4-2385574611>:4: FutureWarning: 'H' is deprecated and will be removed in a future version, please use 'h' instead.\n",
      "  downsampled = df.groupby('Station').resample('2H').mean(numeric_only=True)\n"
     ]
    }
   ],
   "source": [
    "# Resampling: Upsampling & Downsampling\n",
    "\n",
    "# Downsampling: Resample hourly data to 2-hour average load per station\n",
    "downsampled = df.groupby('Station').resample('2H').mean(numeric_only=True)\n",
    "\n",
    "# Upsampling: Resample hourly data to 30-minute intervals (with forward fill)\n",
    "upsampled = df.groupby('Station').resample('30min').ffill()\n",
    "\n",
    "print(\"Downsampled (2H average):\\n\", downsampled)\n",
    "print(\"\\nUpsampled (30min with forward fill):\\n\", upsampled)\n"
   ]
  },
  {
   "cell_type": "code",
   "execution_count": null,
   "metadata": {
    "colab": {
     "base_uri": "https://localhost:8080/"
    },
    "executionInfo": {
     "elapsed": 444,
     "status": "ok",
     "timestamp": 1749859789527,
     "user": {
      "displayName": "Mrinal Das",
      "userId": "10512190126354830840"
     },
     "user_tz": -330
    },
    "id": "QfcHbTDgousA",
    "outputId": "99515ce2-2a48-4313-fce7-41fbcfe1c6f5"
   },
   "outputs": [
    {
     "name": "stdout",
     "output_type": "stream",
     "text": [
      "Generated Forecast Frame:\n",
      "                      Predicted_Load\n",
      "2023-05-02 00:00:00      400.000000\n",
      "2023-05-02 01:00:00      401.360980\n",
      "2023-05-02 02:00:00      402.696634\n",
      "2023-05-02 03:00:00      403.982105\n",
      "2023-05-02 04:00:00      405.193473\n"
     ]
    },
    {
     "name": "stderr",
     "output_type": "stream",
     "text": [
      "<ipython-input-6-1603349205>:6: FutureWarning: 'H' is deprecated and will be removed in a future version, please use 'h' instead.\n",
      "  date_range = pd.date_range(start='2023-05-02', periods=24, freq='H')\n"
     ]
    }
   ],
   "source": [
    "# Date Range Generation\n",
    "\n",
    "import pandas as pd\n",
    "import numpy as np\n",
    "# Generate a date range for 24 hours at 1-hour frequency\n",
    "date_range = pd.date_range(start='2023-05-02', periods=24, freq='H')\n",
    "\n",
    "# Create empty DataFrame using this index for forecasting\n",
    "forecast_df = pd.DataFrame(index=date_range)\n",
    "forecast_df['Predicted_Load'] = 400 + (10 * np.sin(np.linspace(0, 3.14, 24)))\n",
    "\n",
    "print(\"Generated Forecast Frame:\\n\", forecast_df.head())"
   ]
  },
  {
   "cell_type": "code",
   "execution_count": null,
   "metadata": {
    "colab": {
     "base_uri": "https://localhost:8080/"
    },
    "executionInfo": {
     "elapsed": 468,
     "status": "ok",
     "timestamp": 1749859793906,
     "user": {
      "displayName": "Mrinal Das",
      "userId": "10512190126354830840"
     },
     "user_tz": -330
    },
    "id": "kmZ1lkupozme",
    "outputId": "1fde8dfd-fc4e-4d03-fc52-3c183f9baba8"
   },
   "outputs": [
    {
     "name": "stdout",
     "output_type": "stream",
     "text": [
      "        Station           Timestamp       Time_Diff        Shifted_Time\n",
      "0  Substation-A 2023-05-01 08:00:00             NaT 2023-05-01 10:00:00\n",
      "1  Substation-B 2023-05-01 08:00:00             NaT 2023-05-01 10:00:00\n",
      "2  Substation-A 2023-05-01 09:00:00 0 days 01:00:00 2023-05-01 11:00:00\n",
      "3  Substation-B 2023-05-01 09:00:00 0 days 01:00:00 2023-05-01 11:00:00\n",
      "4  Substation-A 2023-05-01 10:00:00 0 days 01:00:00 2023-05-01 12:00:00\n",
      "5  Substation-B 2023-05-01 10:00:00 0 days 01:00:00 2023-05-01 12:00:00\n"
     ]
    }
   ],
   "source": [
    "# Working with Timedelta\n",
    "\n",
    "# Calculate time since last reading per station\n",
    "df = df.reset_index()\n",
    "df['Time_Diff'] = df.groupby('Station')['Timestamp'].diff()\n",
    "\n",
    "# Add 2 hours to each timestamp (e.g., projected shift)\n",
    "df['Shifted_Time'] = df['Timestamp'] + pd.Timedelta(hours=2)\n",
    "\n",
    "print(df[['Station', 'Timestamp', 'Time_Diff', 'Shifted_Time']])"
   ]
  },
  {
   "cell_type": "markdown",
   "metadata": {
    "id": "RK7UFY_Nw_s0"
   },
   "source": [
    "## **Visualization with Pandas & matplotlib**"
   ]
  },
  {
   "cell_type": "code",
   "execution_count": null,
   "metadata": {
    "colab": {
     "base_uri": "https://localhost:8080/"
    },
    "executionInfo": {
     "elapsed": 9138,
     "status": "ok",
     "timestamp": 1749860531043,
     "user": {
      "displayName": "Mrinal Das",
      "userId": "10512190126354830840"
     },
     "user_tz": -330
    },
    "id": "mB23cwek0HFT",
    "outputId": "951b4928-5fea-42ba-d232-4e52fb95c29d"
   },
   "outputs": [
    {
     "name": "stdout",
     "output_type": "stream",
     "text": [
      "Requirement already satisfied: matplotlib in /usr/local/lib/python3.11/dist-packages (3.10.0)\n",
      "Requirement already satisfied: contourpy>=1.0.1 in /usr/local/lib/python3.11/dist-packages (from matplotlib) (1.3.2)\n",
      "Requirement already satisfied: cycler>=0.10 in /usr/local/lib/python3.11/dist-packages (from matplotlib) (0.12.1)\n",
      "Requirement already satisfied: fonttools>=4.22.0 in /usr/local/lib/python3.11/dist-packages (from matplotlib) (4.58.1)\n",
      "Requirement already satisfied: kiwisolver>=1.3.1 in /usr/local/lib/python3.11/dist-packages (from matplotlib) (1.4.8)\n",
      "Requirement already satisfied: numpy>=1.23 in /usr/local/lib/python3.11/dist-packages (from matplotlib) (2.0.2)\n",
      "Requirement already satisfied: packaging>=20.0 in /usr/local/lib/python3.11/dist-packages (from matplotlib) (24.2)\n",
      "Requirement already satisfied: pillow>=8 in /usr/local/lib/python3.11/dist-packages (from matplotlib) (11.2.1)\n",
      "Requirement already satisfied: pyparsing>=2.3.1 in /usr/local/lib/python3.11/dist-packages (from matplotlib) (3.2.3)\n",
      "Requirement already satisfied: python-dateutil>=2.7 in /usr/local/lib/python3.11/dist-packages (from matplotlib) (2.9.0.post0)\n",
      "Requirement already satisfied: six>=1.5 in /usr/local/lib/python3.11/dist-packages (from python-dateutil>=2.7->matplotlib) (1.17.0)\n"
     ]
    }
   ],
   "source": [
    "!pip install matplotlib"
   ]
  },
  {
   "cell_type": "code",
   "execution_count": null,
   "metadata": {
    "colab": {
     "base_uri": "https://localhost:8080/"
    },
    "executionInfo": {
     "elapsed": 441,
     "status": "ok",
     "timestamp": 1749861790771,
     "user": {
      "displayName": "Mrinal Das",
      "userId": "10512190126354830840"
     },
     "user_tz": -330
    },
    "id": "DzPH4V7v0JTW",
    "outputId": "b6c7c601-a73a-4568-b231-1f01bf349db9"
   },
   "outputs": [
    {
     "name": "stdout",
     "output_type": "stream",
     "text": [
      "             Avg_Temperature  Avg_BP  Avg_Heart_Rate  Patient_Count\n",
      "Department                                                         \n",
      "Cardiology              98.6     120              74            200\n",
      "Neurology               98.2     125              76            180\n",
      "Oncology                99.1     130              82            150\n",
      "Pediatrics              98.9     115              88            220\n",
      "Orthopedics             98.7     118              85            160\n"
     ]
    }
   ],
   "source": [
    "# Import Libraries and Prepare Dataset\n",
    "\n",
    "import pandas as pd\n",
    "import matplotlib.pyplot as plt\n",
    "\n",
    "# Sample healthcare dataset: patient vitals across departments\n",
    "data = {\n",
    "    'Department': ['Cardiology', 'Neurology', 'Oncology', 'Pediatrics', 'Orthopedics'],\n",
    "    'Avg_Temperature': [98.6, 98.2, 99.1, 98.9, 98.7],  # in Fahrenheit\n",
    "    'Avg_BP': [120, 125, 130, 115, 118],                # average systolic BP\n",
    "    'Avg_Heart_Rate': [74, 76, 82, 88, 85],             # in beats per minute\n",
    "    'Patient_Count': [200, 180, 150, 220, 160]          # number of patients visited\n",
    "}\n",
    "\n",
    "# Create a DataFrame\n",
    "df = pd.DataFrame(data)\n",
    "\n",
    "# Set 'Department' as index for easier plotting\n",
    "df.set_index('Department', inplace=True)\n",
    "\n",
    "# Display the DataFrame\n",
    "print(df)"
   ]
  },
  {
   "cell_type": "code",
   "execution_count": null,
   "metadata": {
    "colab": {
     "base_uri": "https://localhost:8080/",
     "height": 234
    },
    "executionInfo": {
     "elapsed": 609,
     "status": "ok",
     "timestamp": 1749862138856,
     "user": {
      "displayName": "Mrinal Das",
      "userId": "10512190126354830840"
     },
     "user_tz": -330
    },
    "id": "72KowZS61vKu",
    "outputId": "69c2076b-c312-4feb-deeb-4071664a9775"
   },
   "outputs": [
    {
     "data": {
      "image/png": "[encoded data removed]",
      "text/plain": [
       "<Figure size 500x200 with 1 Axes>"
      ]
     },
     "metadata": {},
     "output_type": "display_data"
    }
   ],
   "source": [
    "# Line plot of average temperature\n",
    "df['Avg_Temperature'].plot(figsize=(5,2))\n",
    "\n",
    "# Show the plot\n",
    "plt.show()"
   ]
  },
  {
   "cell_type": "code",
   "execution_count": null,
   "metadata": {
    "colab": {
     "base_uri": "https://localhost:8080/",
     "height": 304
    },
    "executionInfo": {
     "elapsed": 715,
     "status": "ok",
     "timestamp": 1749861794939,
     "user": {
      "displayName": "Mrinal Das",
      "userId": "10512190126354830840"
     },
     "user_tz": -330
    },
    "id": "oV2kUR9C14kJ",
    "outputId": "455c1488-fae4-474b-de04-6e3e8aa0e0b4"
   },
   "outputs": [
    {
     "data": {
      "image/png": "[encoded data removed]",
      "text/plain": [
       "<Figure size 500x200 with 1 Axes>"
      ]
     },
     "metadata": {},
     "output_type": "display_data"
    }
   ],
   "source": [
    "# Bar plot of patient count (using kind='bar')\n",
    "df['Patient_Count'].plot(figsize=(5,2), kind='bar')\n",
    "\n",
    "plt.show()"
   ]
  },
  {
   "cell_type": "code",
   "execution_count": null,
   "metadata": {
    "colab": {
     "base_uri": "https://localhost:8080/",
     "height": 214
    },
    "executionInfo": {
     "elapsed": 5,
     "status": "ok",
     "timestamp": 1749861795526,
     "user": {
      "displayName": "Mrinal Das",
      "userId": "10512190126354830840"
     },
     "user_tz": -330
    },
    "id": "6U5D32zq4jkd",
    "outputId": "b1d82dcb-aaa4-4169-b4bd-330a33052b52"
   },
   "outputs": [
    {
     "data": {
      "image/png": "[encoded data removed]",
      "text/plain": [
       "<Figure size 500x200 with 1 Axes>"
      ]
     },
     "metadata": {},
     "output_type": "display_data"
    }
   ],
   "source": [
    "# Histogram of average heart rate (kind='hist')\n",
    "df['Avg_Heart_Rate'].plot(kind='hist', figsize=(5,2))\n",
    "\n",
    "plt.show()"
   ]
  },
  {
   "cell_type": "code",
   "execution_count": null,
   "metadata": {
    "colab": {
     "base_uri": "https://localhost:8080/",
     "height": 291
    },
    "executionInfo": {
     "elapsed": 545,
     "status": "ok",
     "timestamp": 1749861829121,
     "user": {
      "displayName": "Mrinal Das",
      "userId": "10512190126354830840"
     },
     "user_tz": -330
    },
    "id": "TFlqPJZ84sa_",
    "outputId": "eb99d408-c21c-4fe3-b32b-6bd8453cf883"
   },
   "outputs": [
    {
     "data": {
      "image/png": "[encoded data removed]",
      "text/plain": [
       "<Figure size 500x300 with 1 Axes>"
      ]
     },
     "metadata": {},
     "output_type": "display_data"
    }
   ],
   "source": [
    "# Boxplot for temperature, BP, and heart rate\n",
    "df[['Avg_Temperature', 'Avg_BP', 'Avg_Heart_Rate']].plot(kind='box', figsize=(5,3))\n",
    "\n",
    "plt.show()"
   ]
  },
  {
   "cell_type": "code",
   "execution_count": null,
   "metadata": {
    "colab": {
     "base_uri": "https://localhost:8080/",
     "height": 333
    },
    "executionInfo": {
     "elapsed": 754,
     "status": "ok",
     "timestamp": 1749862718549,
     "user": {
      "displayName": "Mrinal Das",
      "userId": "10512190126354830840"
     },
     "user_tz": -330
    },
    "id": "8_Jhqrdg5FOC",
    "outputId": "79167fda-6f42-417b-c121-c2ef1c002835"
   },
   "outputs": [
    {
     "data": {
      "image/png": "[encoded data removed]",
      "text/plain": [
       "<Figure size 600x300 with 1 Axes>"
      ]
     },
     "metadata": {},
     "output_type": "display_data"
    }
   ],
   "source": [
    "# Line Plot with Full Customization\n",
    "\n",
    "# Plot average temperature with full styling options\n",
    "ax = df['Avg_Temperature'].plot(\n",
    "    kind='line',\n",
    "    color='darkblue',           # line color\n",
    "    linestyle='-.',             # dash-dot line\n",
    "    linewidth=2.5,              # line thickness\n",
    "    marker='o',                 # marker shape\n",
    "    markersize=8,               # marker size\n",
    "    alpha=0.8,                  # transparency\n",
    "    title='Avg Temperature by Department',  # plot title\n",
    "    xlabel='Department',        # label for x-axis\n",
    "    ylabel='Temperature (°F)',  # label for y-axis\n",
    "    grid=True,                  # enable gridlines\n",
    "    figsize=(6, 3),             # chart size\n",
    "    ylim=(98.0, 99.5)           # y-axis limits\n",
    ")\n",
    "\n",
    "# Display the customized line chart\n",
    "plt.show()"
   ]
  },
  {
   "cell_type": "code",
   "execution_count": null,
   "metadata": {
    "colab": {
     "base_uri": "https://localhost:8080/",
     "height": 373
    },
    "executionInfo": {
     "elapsed": 743,
     "status": "ok",
     "timestamp": 1749862760243,
     "user": {
      "displayName": "Mrinal Das",
      "userId": "10512190126354830840"
     },
     "user_tz": -330
    },
    "id": "d6Y_qZdd8cof",
    "outputId": "d71d1f1c-fd71-483d-a9ba-2e3b38befa7e"
   },
   "outputs": [
    {
     "data": {
      "image/png": "[encoded data removed]",
      "text/plain": [
       "<Figure size 600x300 with 1 Axes>"
      ]
     },
     "metadata": {},
     "output_type": "display_data"
    }
   ],
   "source": [
    "# Bar Plot with Label Rotation, Transparency and Axis Control\n",
    "\n",
    "df['Patient_Count'].plot(\n",
    "    kind='bar',\n",
    "    color='coral',\n",
    "    title='Patient Count by Department',\n",
    "    xlabel='Department',\n",
    "    ylabel='Number of Patients',\n",
    "    figsize=(6, 3),\n",
    "    alpha=0.75,\n",
    "    grid=True,\n",
    "    ylim=(100, 250),\n",
    "    rot=30  # rotate x-axis labels for readability\n",
    ")\n",
    "\n",
    "plt.show()"
   ]
  },
  {
   "cell_type": "code",
   "execution_count": null,
   "metadata": {
    "colab": {
     "base_uri": "https://localhost:8080/",
     "height": 337
    },
    "executionInfo": {
     "elapsed": 743,
     "status": "ok",
     "timestamp": 1749864012079,
     "user": {
      "displayName": "Mrinal Das",
      "userId": "10512190126354830840"
     },
     "user_tz": -330
    },
    "id": "h64aBmaK8o8W",
    "outputId": "78f93b06-0989-46fa-fa56-81597d6633b0"
   },
   "outputs": [
    {
     "data": {
      "image/png": "[encoded data removed]",
      "text/plain": [
       "<Figure size 500x300 with 1 Axes>"
      ]
     },
     "metadata": {},
     "output_type": "display_data"
    }
   ],
   "source": [
    "# Histogram with bins, color, grid, title, alpha\n",
    "\n",
    "import pandas as pd\n",
    "import matplotlib.pyplot as plt\n",
    "\n",
    "# Sample health care dataset: 100 synthetic patient records\n",
    "import numpy as np\n",
    "np.random.seed(42)  # reproducibility\n",
    "\n",
    "data = {\n",
    "    'Avg_BP': np.random.normal(loc=120, scale=10, size=100),\n",
    "    'Avg_Heart_Rate': np.random.normal(loc=80, scale=5, size=100),\n",
    "    'Avg_Temperature': np.random.normal(loc=98.6, scale=0.5, size=100)\n",
    "}\n",
    "\n",
    "df = pd.DataFrame(data)\n",
    "\n",
    "# Histogram for Average Blood Pressure\n",
    "ax = df['Avg_BP'].plot(\n",
    "    kind='hist',\n",
    "    bins=15,                        # number of bins (intervals)\n",
    "    color='skyblue',                # fill color of bars\n",
    "    edgecolor='black',              # outline color for bars\n",
    "    alpha=0.75,                     # transparency (0.0 to 1.0)\n",
    "    figsize=(5, 3),                 # figure size\n",
    "    title='Distribution of Average Blood Pressure'\n",
    ")\n",
    "\n",
    "# Axis customizations\n",
    "ax.set_xlabel(\"Blood Pressure (mm Hg)\", fontsize=12)\n",
    "ax.set_ylabel(\"Number of Patients\", fontsize=12)\n",
    "ax.grid(True, linestyle='--', linewidth=0.5, alpha=0.7)\n",
    "ax.set_xlim(80, 160)               # restrict x-axis range\n",
    "ax.set_ylim(0, 25)                 # restrict y-axis range\n",
    "\n",
    "plt.show()"
   ]
  },
  {
   "cell_type": "code",
   "execution_count": null,
   "metadata": {
    "colab": {
     "base_uri": "https://localhost:8080/",
     "height": 414
    },
    "executionInfo": {
     "elapsed": 845,
     "status": "ok",
     "timestamp": 1749863042192,
     "user": {
      "displayName": "Mrinal Das",
      "userId": "10512190126354830840"
     },
     "user_tz": -330
    },
    "id": "zPYOS8fg80ue",
    "outputId": "f1d56e7e-c0e2-4850-d7f7-6461b2204e19"
   },
   "outputs": [
    {
     "data": {
      "image/png": "[encoded data removed]",
      "text/plain": [
       "<Figure size 600x400 with 1 Axes>"
      ]
     },
     "metadata": {},
     "output_type": "display_data"
    }
   ],
   "source": [
    "# Boxplot with Gridlines, Color Customization\n",
    "# Boxplot comparing BP and Heart Rate\n",
    "\n",
    "# Plotting with enhanced customization\n",
    "ax = df[['Avg_BP', 'Avg_Heart_Rate']].plot(\n",
    "    kind='box',\n",
    "    notch=True,                           # draw a notch to show median confidence interval\n",
    "    widths=0.5,                           # control the width of boxes\n",
    "    patch_artist=True,                   # enable face color filling\n",
    "    boxprops=dict(facecolor='lightgreen', color='green'),     # box face and edge color\n",
    "    whiskerprops=dict(color='sienna', linewidth=2),           # whisker color & width\n",
    "    capprops=dict(color='gray'),                             # cap line color\n",
    "    medianprops=dict(color='black', linewidth=2),             # median line styling\n",
    "    flierprops=dict(marker='o', color='red', markersize=8),   # outlier marker style\n",
    "    figsize=(6, 4),\n",
    "    grid=True,\n",
    "    title='Boxplot of Avg BP and Avg Heart Rate by Department'\n",
    ")\n",
    "\n",
    "# Enhancing labels and grid style\n",
    "ax.set_xlabel(\"Metrics\", fontsize=12)\n",
    "ax.set_ylabel(\"Values\", fontsize=12)\n",
    "ax.grid(which='major', linestyle='--', linewidth=0.5, alpha=0.7)\n",
    "\n",
    "plt.show()"
   ]
  },
  {
   "cell_type": "markdown",
   "metadata": {
    "id": "iqwmzxMT9EqQ"
   },
   "source": [
    "**Handling time series visualization**"
   ]
  },
  {
   "cell_type": "code",
   "execution_count": null,
   "metadata": {
    "colab": {
     "base_uri": "https://localhost:8080/"
    },
    "executionInfo": {
     "elapsed": 460,
     "status": "ok",
     "timestamp": 1749865790908,
     "user": {
      "displayName": "Mrinal Das",
      "userId": "10512190126354830840"
     },
     "user_tz": -330
    },
    "id": "6V1-ZUSZHo3Q",
    "outputId": "54a37ac4-a667-4ca1-c597-5b6bf5020b10"
   },
   "outputs": [
    {
     "name": "stdout",
     "output_type": "stream",
     "text": [
      "            Hospital_Admissions\n",
      "2024-01-01                   18\n",
      "2024-01-02                   22\n",
      "2024-01-03                   19\n",
      "2024-01-04                   20\n",
      "2024-01-05                   13\n",
      "...                         ...\n",
      "2024-03-26                   21\n",
      "2024-03-27                   14\n",
      "2024-03-28                   20\n",
      "2024-03-29                   16\n",
      "2024-03-30                   16\n",
      "\n",
      "[90 rows x 1 columns]\n"
     ]
    }
   ],
   "source": [
    "# Simulating Time Series Data Using Poisson Distribution\n",
    "\n",
    "\n",
    "import numpy as np                  # NumPy is used here for random number generation\n",
    "import pandas as pd                 # Pandas is used for handling tabular and time series data\n",
    "\n",
    "# Generate a sequence of 90 dates\n",
    "date_range = pd.date_range(start='2024-01-01', periods=90, freq='D')\n",
    "# pd.date_range() creates a datetime index from Jan 1 to Mar 30, 2024 (90 days)\n",
    "# 'D' means daily frequency\n",
    "\n",
    "# Simulate hospital admissions using Poisson distribution\n",
    "admissions = np.random.poisson(lam=20, size=90)\n",
    "# np.random.poisson() generates 90 random integers based on average rate λ = 20\n",
    "\n",
    "# Create a DataFrame with time-indexed admissions\n",
    "df = pd.DataFrame({'Hospital_Admissions': admissions}, index=date_range)\n",
    "# The DataFrame now has daily patient admission counts indexed by date\n",
    "\n",
    "print(df)"
   ]
  },
  {
   "cell_type": "code",
   "execution_count": null,
   "metadata": {
    "colab": {
     "base_uri": "https://localhost:8080/",
     "height": 505
    },
    "executionInfo": {
     "elapsed": 2977,
     "status": "ok",
     "timestamp": 1749865890056,
     "user": {
      "displayName": "Mrinal Das",
      "userId": "10512190126354830840"
     },
     "user_tz": -330
    },
    "id": "cVIoblRBILVi",
    "outputId": "dec29ea0-e4c4-4250-84e1-4aa4f10dd571"
   },
   "outputs": [
    {
     "data": {
      "text/plain": [
       "<Figure size 1200x600 with 0 Axes>"
      ]
     },
     "metadata": {},
     "output_type": "display_data"
    },
    {
     "data": {
      "image/png": "[encoded data removed]",
      "text/plain": [
       "<Figure size 640x480 with 1 Axes>"
      ]
     },
     "metadata": {},
     "output_type": "display_data"
    }
   ],
   "source": [
    "# Plotting the Basic Time Series Line Chart\n",
    "\n",
    "# Plot raw time series data\n",
    "import matplotlib.pyplot as plt     # Import matplotlib for plotting\n",
    "\n",
    "# Set plot size and style\n",
    "plt.figure(figsize=(12, 6))        # Width = 12 inches, Height = 6 inches\n",
    "\n",
    "# Plot the hospital admissions time series\n",
    "df.plot(title='Daily Hospital Admissions (Raw Time Series)', legend=True)\n",
    "\n",
    "# Improve spacing to prevent clipping\n",
    "plt.tight_layout()\n",
    "plt.grid(True)                     # Add grid lines for readability\n",
    "plt.show()"
   ]
  },
  {
   "cell_type": "code",
   "execution_count": null,
   "metadata": {
    "colab": {
     "base_uri": "https://localhost:8080/",
     "height": 567
    },
    "executionInfo": {
     "elapsed": 1370,
     "status": "ok",
     "timestamp": 1749865946250,
     "user": {
      "displayName": "Mrinal Das",
      "userId": "10512190126354830840"
     },
     "user_tz": -330
    },
    "id": "Rblx8wWtIm4k",
    "outputId": "97a4cf06-7685-4f6a-fcf5-58028337f07c"
   },
   "outputs": [
    {
     "data": {
      "image/png": "[encoded data removed]",
      "text/plain": [
       "<Figure size 1200x600 with 1 Axes>"
      ]
     },
     "metadata": {},
     "output_type": "display_data"
    }
   ],
   "source": [
    "# Plotting Smoothed Time Series Using Rolling Averages\n",
    "\n",
    "#  Apply rolling mean for 7-day smoothing\n",
    "df['7_day_avg'] = df['Hospital_Admissions'].rolling(window=7).mean()\n",
    "# rolling(window=7) calculates the average of the current and past 6 days\n",
    "# Useful for removing daily noise and highlighting trends\n",
    "\n",
    "#  Plot both original and rolling average\n",
    "plt.figure(figsize=(12, 6))        # New plot canvas\n",
    "\n",
    "# Plot original data\n",
    "plt.plot(df.index, df['Hospital_Admissions'], label='Daily Admissions', alpha=0.5)\n",
    "\n",
    "# Plot smoothed data\n",
    "plt.plot(df.index, df['7_day_avg'], label='7-Day Rolling Avg', color='red', linewidth=2)\n",
    "\n",
    "# Add title and legend\n",
    "plt.title('Hospital Admissions with 7-Day Rolling Average')\n",
    "plt.xlabel('Date')\n",
    "plt.ylabel('Number of Admissions')\n",
    "plt.legend()\n",
    "\n",
    "plt.grid(True)\n",
    "plt.tight_layout()\n",
    "plt.show()"
   ]
  },
  {
   "cell_type": "code",
   "execution_count": null,
   "metadata": {
    "colab": {
     "base_uri": "https://localhost:8080/",
     "height": 996
    },
    "executionInfo": {
     "elapsed": 1935,
     "status": "ok",
     "timestamp": 1749866109357,
     "user": {
      "displayName": "Mrinal Das",
      "userId": "10512190126354830840"
     },
     "user_tz": -330
    },
    "id": "4chnCuHZI1AD",
    "outputId": "4e0abd96-7a18-440c-a61b-fde52fd92278"
   },
   "outputs": [
    {
     "data": {
      "image/png": "[encoded data removed]",
      "text/plain": [
       "<Figure size 1000x500 with 1 Axes>"
      ]
     },
     "metadata": {},
     "output_type": "display_data"
    },
    {
     "data": {
      "image/png": "[encoded data removed]",
      "text/plain": [
       "<Figure size 1000x500 with 1 Axes>"
      ]
     },
     "metadata": {},
     "output_type": "display_data"
    }
   ],
   "source": [
    "# Time-based Slicing and Resampling Visualization\n",
    "\n",
    "# Time Slicing — Filter February Data\n",
    "feb_df = df.loc['2024-02']  # Slicing using string notation works on DatetimeIndex\n",
    "\n",
    "# Plot only February data\n",
    "plt.figure(figsize=(10, 5))\n",
    "feb_df['Hospital_Admissions'].plot(title='February 2024 Admissions')\n",
    "plt.grid(True)\n",
    "plt.tight_layout()\n",
    "plt.show()\n",
    "\n",
    "# Resampling — Convert Daily to Weekly Total\n",
    "weekly_df = df['Hospital_Admissions'].resample('W').sum()\n",
    "# 'W' = Weekly frequency; data is aggregated by week using sum()\n",
    "\n",
    "# Plot weekly aggregated data\n",
    "plt.figure(figsize=(10, 5))\n",
    "weekly_df.plot(kind='bar', color='skyblue', title='Weekly Hospital Admissions')\n",
    "plt.ylabel('Total Weekly Admissions')\n",
    "plt.grid(axis='y')\n",
    "plt.tight_layout()\n",
    "plt.show()"
   ]
  },
  {
   "cell_type": "code",
   "execution_count": null,
   "metadata": {
    "colab": {
     "base_uri": "https://localhost:8080/",
     "height": 507
    },
    "executionInfo": {
     "elapsed": 3190,
     "status": "ok",
     "timestamp": 1749867827781,
     "user": {
      "displayName": "Mrinal Das",
      "userId": "10512190126354830840"
     },
     "user_tz": -330
    },
    "id": "RPC8futkJFKc",
    "outputId": "24245d36-242e-4b0c-8c3f-d0a3e5159492"
   },
   "outputs": [
    {
     "data": {
      "image/png": "[encoded data removed]",
      "text/plain": [
       "<Figure size 1000x500 with 1 Axes>"
      ]
     },
     "metadata": {},
     "output_type": "display_data"
    }
   ],
   "source": [
    "# Exporting a Time Series Plot as PNG and PDF\n",
    "\n",
    "# Plot daily admissions again, and save it to file\n",
    "plt.figure(figsize=(10, 5))\n",
    "df['Hospital_Admissions'].plot(title='Daily Hospital Admissions (2024)')\n",
    "plt.xlabel('Date')\n",
    "plt.ylabel('Number of Admissions')\n",
    "plt.grid(True)\n",
    "plt.tight_layout()\n",
    "\n",
    "# Export to PNG (for web use)\n",
    "plt.savefig('daily_admissions_2024.png', dpi=300)\n",
    "\n",
    "# Export to PDF (for print-quality reports)\n",
    "plt.savefig('daily_admissions_2024.pdf')\n",
    "\n",
    "# Show the plot\n",
    "plt.show()"
   ]
  }
 ],
 "metadata": {
  "colab": {
   "authorship_tag": "ABX9TyP15TZogLONx/MwY7b01URN",
   "collapsed_sections": [
    "BfFEAzZOficQ"
   ],
   "provenance": []
  },
  "kernelspec": {
   "display_name": "Python 3 (ipykernel)",
   "language": "python",
   "name": "python3"
  },
  "language_info": {
   "codemirror_mode": {
    "name": "ipython",
    "version": 3
   },
   "file_extension": ".py",
   "mimetype": "text/x-python",
   "name": "python",
   "nbconvert_exporter": "python",
   "pygments_lexer": "ipython3",
   "version": "3.8.6rc1"
  }
 },
 "nbformat": 4,
 "nbformat_minor": 4
}
