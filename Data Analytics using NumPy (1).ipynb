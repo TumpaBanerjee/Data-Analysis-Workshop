{
 "cells": [
  {
   "cell_type": "markdown",
   "metadata": {
    "id": "UF0EPO4uv9Zm"
   },
   "source": [
    "# **Hour 1: Foundations of NumPy**\n",
    "\n",
    "Welcome to Hour 1 of our NumPy workshop! In this notebook, you’ll learn:\n",
    "- How to create NumPy arrays\n",
    "- How to inspect array attributes (shape, type, size)\n",
    "- How to index and slice arrays\n",
    "- How arrays can represent structured datasets\n",
    "\n",
    "Let’s begin!"
   ]
  },
  {
   "cell_type": "markdown",
   "metadata": {},
   "source": [
    "## This notebook was prepared by Mr. Mrinal Das, and this session was delivered by him.\n",
    "Mr Mrinal Das, Sr. Technical Assistant, Department of MCA, Siliguri Intitute of Technology\n",
    "\n",
    "\n",
    "email id:mrinal.subscribe@gmail.com\n",
    "\n",
    "\n",
    "Contact No: +91 76797 74508\n"
   ]
  },
  {
   "cell_type": "markdown",
   "metadata": {
    "id": "mhKdyH3twuS8"
   },
   "source": [
    "### **Creating NumPy Arrays**\n",
    "We'll create arrays from Python lists and with built-in NumPy functions."
   ]
  },
  {
   "cell_type": "code",
   "execution_count": 2,
   "metadata": {
    "colab": {
     "base_uri": "https://localhost:8080/"
    },
    "executionInfo": {
     "elapsed": 723,
     "status": "ok",
     "timestamp": 1750381121346,
     "user": {
      "displayName": "Mrinal Das",
      "userId": "10512190126354830840"
     },
     "user_tz": -330
    },
    "id": "q66DT4JwxT2v",
    "outputId": "635a2300-8d12-4425-cb76-f11d21050352"
   },
   "outputs": [
    {
     "name": "stdout",
     "output_type": "stream",
     "text": [
      "Array from list: [1 2 3 4 5]\n",
      "1D Array: [10 20 30]\n",
      "2D Array:\n",
      " [[1 2 3]\n",
      " [4 5 6]]\n",
      "Range Array: [0 2 4 6 8]\n",
      "Linspace Array: [0.   0.25 0.5  0.75 1.  ]\n",
      "Zeros Array:\n",
      " [[0. 0. 0.]\n",
      " [0. 0. 0.]]\n",
      "Ones Array:\n",
      " [[1. 1.]\n",
      " [1. 1.]\n",
      " [1. 1.]]\n",
      "Full Array:\n",
      " [[7 7]\n",
      " [7 7]]\n"
     ]
    }
   ],
   "source": [
    "import numpy as np\n",
    "\n",
    "# Creating a NumPy array from a Python list\n",
    "list_data = [1, 2, 3, 4, 5]\n",
    "array_from_list = np.array(list_data)  # Converts list to ndarray\n",
    "print(\"Array from list:\", array_from_list)\n",
    "\n",
    "# Creating a 1D array\n",
    "array_1d = np.array([10, 20, 30])\n",
    "print(\"1D Array:\", array_1d)\n",
    "\n",
    "# Creating a 2D array (matrix-like)\n",
    "array_2d = np.array([[1, 2, 3], [4, 5, 6]])  # 2 rows, 3 columns\n",
    "print(\"2D Array:\\n\", array_2d)\n",
    "\n",
    "# Create evenly spaced integers with arange (like Python range)\n",
    "array_range = np.arange(0, 10, 2)  # From 0 to 8 with step size of 2\n",
    "print(\"Range Array:\", array_range)\n",
    "\n",
    "# Create evenly spaced floats using linspace\n",
    "array_linspace = np.linspace(0, 1, 5)  # 5 values from 0 to 1 (inclusive)\n",
    "print(\"Linspace Array:\", array_linspace)\n",
    "\n",
    "# Create a 2x3 array of all zeros\n",
    "zeros_array = np.zeros((2, 3))\n",
    "print(\"Zeros Array:\\n\", zeros_array)\n",
    "\n",
    "# Create a 3x2 array of all ones\n",
    "ones_array = np.ones((3, 2))\n",
    "print(\"Ones Array:\\n\", ones_array)\n",
    "\n",
    "# Create a 2x2 array filled with value 7\n",
    "full_array = np.full((2, 2), 7)\n",
    "print(\"Full Array:\\n\", full_array)"
   ]
  },
  {
   "cell_type": "markdown",
   "metadata": {
    "id": "PsT2j68IxWDk"
   },
   "source": [
    "- `np.array()` turns a list into a NumPy array.\n",
    "- `np.arange(start, stop, step)` creates ranges of integers.\n",
    "- `np.linspace(start, stop, num)` gives evenly spaced float values.\n",
    "- `np.zeros()`, `np.ones()`, and `np.full()` are useful for initializing fixed-shape arrays."
   ]
  },
  {
   "cell_type": "markdown",
   "metadata": {
    "id": "MbH96HhOxxiM"
   },
   "source": [
    "### **Exploring Array Attributes**\n",
    "We'll now inspect the shape, size, data type, and dimensions of arrays."
   ]
  },
  {
   "cell_type": "code",
   "execution_count": null,
   "metadata": {
    "colab": {
     "base_uri": "https://localhost:8080/"
    },
    "executionInfo": {
     "elapsed": 511,
     "status": "ok",
     "timestamp": 1750380094094,
     "user": {
      "displayName": "Mrinal Das",
      "userId": "10512190126354830840"
     },
     "user_tz": -330
    },
    "id": "yO1z2MftyDvR",
    "outputId": "330163cd-0a42-4df8-9473-451c8a902790"
   },
   "outputs": [
    {
     "name": "stdout",
     "output_type": "stream",
     "text": [
      "Sample Array:\n",
      " [[1 2 3]\n",
      " [4 5 6]]\n",
      "Shape: (2, 3)\n",
      "Number of Dimensions: 2\n",
      "Data Type: int64\n",
      "Total Elements: 6\n"
     ]
    }
   ],
   "source": [
    "# Define a 2D array (2 rows, 3 columns)\n",
    "sample_array = np.array([[1, 2, 3], [4, 5, 6]])\n",
    "\n",
    "print(\"Sample Array:\\n\", sample_array)\n",
    "\n",
    "# Shape: tuple of (rows, columns)\n",
    "print(\"Shape:\", sample_array.shape)\n",
    "\n",
    "# ndim: number of dimensions (axes). 1D, 2D, etc.\n",
    "print(\"Number of Dimensions:\", sample_array.ndim)\n",
    "\n",
    "# dtype: data type of the elements (int32, float64, etc.)\n",
    "print(\"Data Type:\", sample_array.dtype)\n",
    "\n",
    "# size: total number of elements in the array\n",
    "print(\"Total Elements:\", sample_array.size)"
   ]
  },
  {
   "cell_type": "markdown",
   "metadata": {
    "id": "0pLJjQqOyJm4"
   },
   "source": [
    "- Use `.shape` to understand how data is structured (rows x columns).\n",
    "- `.ndim` helps identify if it's a flat, tabular, or higher-dimensional array.\n",
    "- `.dtype` matters for memory and performance.\n",
    "- `.size` is total number of elements (rows × columns)."
   ]
  },
  {
   "cell_type": "markdown",
   "metadata": {
    "id": "zn70dwsSyQe3"
   },
   "source": [
    "### **Representing Structured Data**\n",
    "Let's build a matrix representing sales for 3 products across 3 months.\n"
   ]
  },
  {
   "cell_type": "code",
   "execution_count": null,
   "metadata": {
    "colab": {
     "base_uri": "https://localhost:8080/"
    },
    "executionInfo": {
     "elapsed": 468,
     "status": "ok",
     "timestamp": 1750380150077,
     "user": {
      "displayName": "Mrinal Das",
      "userId": "10512190126354830840"
     },
     "user_tz": -330
    },
    "id": "ln4tIT0RyVi-",
    "outputId": "66cf3adf-414e-4cb3-a2e3-12ea32640e75"
   },
   "outputs": [
    {
     "name": "stdout",
     "output_type": "stream",
     "text": [
      "Sales Data:\n",
      " [[250 300 400]\n",
      " [150 200 250]\n",
      " [100 120 130]]\n"
     ]
    }
   ],
   "source": [
    "# Each row = a product; each column = a month (Jan to Mar)\n",
    "sales_data = np.array([\n",
    "    [250, 300, 400],  # Product A\n",
    "    [150, 200, 250],  # Product B\n",
    "    [100, 120, 130]   # Product C\n",
    "])\n",
    "print(\"Sales Data:\\n\", sales_data)"
   ]
  },
  {
   "cell_type": "markdown",
   "metadata": {
    "id": "-rFvb0-ZyXid"
   },
   "source": [
    "- Row 0: Product A’s sales in Jan, Feb, Mar.\n",
    "- Columns = months, Rows = products.\n",
    "- This layout mimics real-world data structures like spreadsheets."
   ]
  },
  {
   "cell_type": "markdown",
   "metadata": {
    "id": "HHnzy8sSyh3n"
   },
   "source": [
    "### **Indexing and Slicing Arrays**\n",
    "Extract elements, rows, columns, and blocks using slice notation."
   ]
  },
  {
   "cell_type": "code",
   "execution_count": null,
   "metadata": {
    "colab": {
     "base_uri": "https://localhost:8080/"
    },
    "executionInfo": {
     "elapsed": 632,
     "status": "ok",
     "timestamp": 1750380252081,
     "user": {
      "displayName": "Mrinal Das",
      "userId": "10512190126354830840"
     },
     "user_tz": -330
    },
    "id": "kSMNWZmDynZP",
    "outputId": "4e05416d-9e40-4240-a5c3-98f123732a36"
   },
   "outputs": [
    {
     "name": "stdout",
     "output_type": "stream",
     "text": [
      "Element at [0,1]: 300\n",
      "First row: [250 300 400]\n",
      "Last column: [400 250 130]\n",
      "Block (first 2 rows, first 2 columns):\n",
      " [[250 300]\n",
      " [150 200]]\n",
      "Reversed Rows:\n",
      " [[100 120 130]\n",
      " [150 200 250]\n",
      " [250 300 400]]\n",
      "Every other column:\n",
      " [[250 400]\n",
      " [150 250]\n",
      " [100 130]]\n"
     ]
    }
   ],
   "source": [
    "# Element at row 0, column 1 (Product A in Feb)\n",
    "print(\"Element at [0,1]:\", sales_data[0, 1])\n",
    "\n",
    "# Entire first row (Product A)\n",
    "print(\"First row:\", sales_data[0])\n",
    "\n",
    "# Last column (March for all products)\n",
    "print(\"Last column:\", sales_data[:, -1])\n",
    "\n",
    "# Subarray: First 2 rows and first 2 columns\n",
    "print(\"Block (first 2 rows, first 2 columns):\\n\", sales_data[:2, :2])\n",
    "\n",
    "# Reverse the order of rows (Products C, B, A)\n",
    "print(\"Reversed Rows:\\n\", sales_data[::-1])\n",
    "\n",
    "# Every other column (Jan and Mar)\n",
    "print(\"Every other column:\\n\", sales_data[:, ::2])"
   ]
  },
  {
   "cell_type": "markdown",
   "metadata": {
    "id": "GufWkpkIywZo"
   },
   "source": [
    "- `arr[i, j]` fetches a single item.\n",
    "- `arr[i]` selects a row; `arr[:, j]` selects a column.\n",
    "- `arr[a:b, c:d]` slices out a block.\n",
    "- `[::-1]` and `::2` control stepping and reversing."
   ]
  },
  {
   "cell_type": "markdown",
   "metadata": {
    "id": "FxwTCdMjy1_B"
   },
   "source": [
    "### **Exercise – Time-Series Array**\n",
    "Simulate a time-series-like matrix and practice slicing rows and columns."
   ]
  },
  {
   "cell_type": "code",
   "execution_count": null,
   "metadata": {
    "colab": {
     "base_uri": "https://localhost:8080/"
    },
    "executionInfo": {
     "elapsed": 519,
     "status": "ok",
     "timestamp": 1750380612167,
     "user": {
      "displayName": "Mrinal Das",
      "userId": "10512190126354830840"
     },
     "user_tz": -330
    },
    "id": "OsCa6Raey7f4",
    "outputId": "3c98761b-d669-42d6-b795-6a76c8879c28"
   },
   "outputs": [
    {
     "name": "stdout",
     "output_type": "stream",
     "text": [
      "Time-Series Data:\n",
      " [[ 1  2  3  4]\n",
      " [ 5  6  7  8]\n",
      " [ 9 10 11 12]]\n",
      "Q1 (first column): [1 5 9]\n",
      "Last 2 months:\n",
      " [[ 3  4]\n",
      " [ 7  8]\n",
      " [11 12]]\n",
      "Reversed rows:\n",
      " [[ 9 10 11 12]\n",
      " [ 5  6  7  8]\n",
      " [ 1  2  3  4]]\n"
     ]
    }
   ],
   "source": [
    "# Create a 3x4 array with values 1–12\n",
    "time_series = np.arange(1, 13).reshape(3, 4)\n",
    "\n",
    "print(\"Time-Series Data:\\n\", time_series)\n",
    "\n",
    "# First column (Q1 for all entities)\n",
    "print(\"Q1 (first column):\", time_series[:, 0])\n",
    "\n",
    "# Last 2 columns (e.g., Q3 and Q4)\n",
    "print(\"Last 2 months:\\n\", time_series[:, -2:])\n",
    "\n",
    "# Reverse the order of entities (rows)\n",
    "print(\"Reversed rows:\\n\", time_series[::-1])"
   ]
  },
  {
   "cell_type": "markdown",
   "metadata": {
    "id": "bevQbuuDzFzv"
   },
   "source": [
    "- Simulates data for 3 items over 4 time periods.\n",
    "- Slicing columns lets you get specific time ranges.\n",
    "- Reversing rows is helpful for ranking or order-based analysis."
   ]
  },
  {
   "cell_type": "markdown",
   "metadata": {
    "id": "PoG0G60SzPTq"
   },
   "source": [
    "### **Summary: Hour 1 Highlights**\n",
    "\n",
    "You learned how to:\n",
    "- Create arrays using lists and functions like `arange()` and `zeros()`\n",
    "- Use attributes like `.shape`, `.ndim`, `.dtype`, and `.size`\n",
    "- Extract data via indexing and slicing\n",
    "- Conceptualize arrays for real-world applications like sales or time-series data\n",
    "\n",
    "Up next: Arithmetic, aggregations, and conditional logic in **Hour 2**"
   ]
  },
  {
   "cell_type": "markdown",
   "metadata": {
    "id": "8X3xJ4mwza9N"
   },
   "source": [
    "# **Hour 2: Numerical Operations & Conditional Logic**\n",
    "\n",
    "In this session, you will learn how to:\n",
    "- Perform arithmetic and element-wise operations\n",
    "- Use aggregation functions like sum, mean, std\n",
    "- Apply Boolean logic and filters to arrays\n",
    "- Handle missing values (NaN) in numerical data"
   ]
  },
  {
   "cell_type": "markdown",
   "metadata": {
    "id": "Ov4tua7y0huB"
   },
   "source": [
    "### **Arithmetic Operations**\n",
    "\n",
    "NumPy supports fast, element-wise arithmetic between arrays or between an array and a scalar.\n"
   ]
  },
  {
   "cell_type": "code",
   "execution_count": null,
   "metadata": {
    "colab": {
     "base_uri": "https://localhost:8080/"
    },
    "executionInfo": {
     "elapsed": 457,
     "status": "ok",
     "timestamp": 1750380878324,
     "user": {
      "displayName": "Mrinal Das",
      "userId": "10512190126354830840"
     },
     "user_tz": -330
    },
    "id": "TleFmbw01Gpd",
    "outputId": "3ed90cbc-4d78-473a-c693-4921f4d72c4c"
   },
   "outputs": [
    {
     "name": "stdout",
     "output_type": "stream",
     "text": [
      "Addition: [11 22 33 44]\n",
      "Subtraction: [ 9 18 27 36]\n",
      "Multiplication: [ 10  40  90 160]\n",
      "Division: [10. 10. 10. 10.]\n",
      "Add 100 to arr1: [110 120 130 140]\n"
     ]
    }
   ],
   "source": [
    "import numpy as np\n",
    "\n",
    "# Define two simple arrays of the same shape\n",
    "arr1 = np.array([10, 20, 30, 40])\n",
    "arr2 = np.array([1, 2, 3, 4])\n",
    "\n",
    "# Perform basic arithmetic operations\n",
    "print(\"Addition:\", arr1 + arr2)          # [11 22 33 44]\n",
    "print(\"Subtraction:\", arr1 - arr2)       # [ 9 18 27 36]\n",
    "print(\"Multiplication:\", arr1 * arr2)    # [ 10  40  90 160]\n",
    "print(\"Division:\", arr1 / arr2)          # [10. 10. 10. 10.]\n",
    "\n",
    "# Array and scalar operation\n",
    "print(\"Add 100 to arr1:\", arr1 + 100)    # [110 120 130 140]"
   ]
  },
  {
   "cell_type": "markdown",
   "metadata": {
    "id": "GwtW9CGb1JVd"
   },
   "source": [
    "- Arithmetic operations are applied element-by-element.\n",
    "- Arrays must have the same shape or be broadcast-compatible.\n",
    "- Scalars are automatically broadcasted across the array."
   ]
  },
  {
   "cell_type": "markdown",
   "metadata": {
    "id": "cG_oA4Dz1ObO"
   },
   "source": [
    "### **Aggregation Functions**\n",
    "\n",
    "Use NumPy functions to summarize arrays using metrics like sum, mean, standard deviation.\n"
   ]
  },
  {
   "cell_type": "code",
   "execution_count": null,
   "metadata": {
    "colab": {
     "base_uri": "https://localhost:8080/"
    },
    "executionInfo": {
     "elapsed": 506,
     "status": "ok",
     "timestamp": 1750380945374,
     "user": {
      "displayName": "Mrinal Das",
      "userId": "10512190126354830840"
     },
     "user_tz": -330
    },
    "id": "QAiJDbYB1TSB",
    "outputId": "46dca543-87ac-4654-8abb-1eac4e7acfea"
   },
   "outputs": [
    {
     "name": "stdout",
     "output_type": "stream",
     "text": [
      "Total Sum: 105\n",
      "Mean Value: 17.5\n",
      "Standard Deviation: 8.539125638299666\n",
      "Sum by column (axis=0): [25 35 45]\n",
      "Mean by row (axis=1): [10. 25.]\n"
     ]
    }
   ],
   "source": [
    "# 2D array example\n",
    "matrix = np.array([\n",
    "    [5, 10, 15],\n",
    "    [20, 25, 30]\n",
    "])\n",
    "\n",
    "# Full-array aggregations\n",
    "print(\"Total Sum:\", np.sum(matrix))\n",
    "print(\"Mean Value:\", np.mean(matrix))\n",
    "print(\"Standard Deviation:\", np.std(matrix))\n",
    "\n",
    "# Axis-wise aggregations\n",
    "print(\"Sum by column (axis=0):\", np.sum(matrix, axis=0))\n",
    "print(\"Mean by row (axis=1):\", np.mean(matrix, axis=1))"
   ]
  },
  {
   "cell_type": "markdown",
   "metadata": {
    "id": "6foUti4q1Zqu"
   },
   "source": [
    "- `axis=0` → down columns (vertically)\n",
    "- `axis=1` → across rows (horizontally)\n",
    "- Aggregation functions also include `min()`, `max()`, `median()`, etc."
   ]
  },
  {
   "cell_type": "markdown",
   "metadata": {
    "id": "CI2Tu2mU1eFP"
   },
   "source": [
    "### **Boolean Masking and Filtering**\n",
    "Boolean conditions allow you to create masks and use them to filter or transform arrays."
   ]
  },
  {
   "cell_type": "code",
   "execution_count": null,
   "metadata": {
    "colab": {
     "base_uri": "https://localhost:8080/"
    },
    "executionInfo": {
     "elapsed": 493,
     "status": "ok",
     "timestamp": 1750381228001,
     "user": {
      "displayName": "Mrinal Das",
      "userId": "10512190126354830840"
     },
     "user_tz": -330
    },
    "id": "woMPfbRk1lc9",
    "outputId": "744729f0-697f-4bef-ce15-640ec613b53e"
   },
   "outputs": [
    {
     "name": "stdout",
     "output_type": "stream",
     "text": [
      "Pass mask: [False  True  True  True False]\n",
      "Passing scores: [75 85 90]\n",
      "Scores between 70 and 90: [75 85 90]\n"
     ]
    }
   ],
   "source": [
    "scores = np.array([60, 75, 85, 90, 45])\n",
    "\n",
    "# Create a boolean mask for scores >= 70\n",
    "pass_mask = scores >= 70\n",
    "print(\"Pass mask:\", pass_mask)\n",
    "\n",
    "# Filter values using the mask\n",
    "print(\"Passing scores:\", scores[pass_mask])\n",
    "\n",
    "# Combine conditions: select scores between 70 and 90 (inclusive)\n",
    "print(\"Scores between 70 and 90:\", scores[(scores >= 70) & (scores <= 90)])"
   ]
  },
  {
   "cell_type": "markdown",
   "metadata": {
    "id": "g-KjdqO_2esU"
   },
   "source": [
    "- `scores >= 70` returns a Boolean array (True/False per element).\n",
    "- Use this mask to index and filter the original array.\n",
    "- Combine multiple conditions using `&`, `|`, and `~`."
   ]
  },
  {
   "cell_type": "markdown",
   "metadata": {
    "id": "hu6vcrH_2l5C"
   },
   "source": [
    "### **Conditional Logic with np.where()**\n",
    "\n",
    "Use `np.where()` to apply if/else logic across arrays."
   ]
  },
  {
   "cell_type": "code",
   "execution_count": null,
   "metadata": {
    "colab": {
     "base_uri": "https://localhost:8080/"
    },
    "executionInfo": {
     "elapsed": 563,
     "status": "ok",
     "timestamp": 1750381293226,
     "user": {
      "displayName": "Mrinal Das",
      "userId": "10512190126354830840"
     },
     "user_tz": -330
    },
    "id": "HcZ36sys2rEs",
    "outputId": "53e6d154-3cb9-40a7-fc2d-eda824e59518"
   },
   "outputs": [
    {
     "name": "stdout",
     "output_type": "stream",
     "text": [
      "Labels for scores: ['Fail' 'Pass' 'Pass' 'Pass' 'Fail']\n"
     ]
    }
   ],
   "source": [
    "# Use np.where to assign labels\n",
    "labels = np.where(scores >= 70, \"Pass\", \"Fail\")\n",
    "print(\"Labels for scores:\", labels)"
   ]
  },
  {
   "cell_type": "markdown",
   "metadata": {
    "id": "CLOE47ZD2umD"
   },
   "source": [
    "- `np.where(condition, value_if_true, value_if_false)` is vectorized if-else logic.\n",
    "- Can return strings, numbers, or even other arrays."
   ]
  },
  {
   "cell_type": "markdown",
   "metadata": {
    "id": "kyRW_o_F2x33"
   },
   "source": [
    "### **Handling Missing Values (NaNs)**\n",
    "\n",
    "NumPy provides special functions to deal with NaN (not-a-number) values in arrays."
   ]
  },
  {
   "cell_type": "code",
   "execution_count": null,
   "metadata": {
    "colab": {
     "base_uri": "https://localhost:8080/"
    },
    "executionInfo": {
     "elapsed": 450,
     "status": "ok",
     "timestamp": 1750381342717,
     "user": {
      "displayName": "Mrinal Das",
      "userId": "10512190126354830840"
     },
     "user_tz": -330
    },
    "id": "-Fk54saY24wx",
    "outputId": "ef87c191-c9c2-4347-f15a-f426eb86bc30"
   },
   "outputs": [
    {
     "name": "stdout",
     "output_type": "stream",
     "text": [
      "NaN mask: [False  True False  True False]\n",
      "Mean ignoring NaNs: 5.0\n",
      "Replaced NaNs with 0: [3. 0. 7. 0. 5.]\n"
     ]
    }
   ],
   "source": [
    "# Create an array with NaN values\n",
    "data_with_nan = np.array([3.0, np.nan, 7.0, np.nan, 5.0])\n",
    "\n",
    "# Detect NaN positions\n",
    "print(\"NaN mask:\", np.isnan(data_with_nan))\n",
    "\n",
    "# Aggregate safely while ignoring NaNs\n",
    "print(\"Mean ignoring NaNs:\", np.nanmean(data_with_nan))\n",
    "\n",
    "# Replace NaNs with 0\n",
    "filled_data = np.nan_to_num(data_with_nan, nan=0.0)\n",
    "print(\"Replaced NaNs with 0:\", filled_data)"
   ]
  },
  {
   "cell_type": "markdown",
   "metadata": {
    "id": "-jhWVuOx26r6"
   },
   "source": [
    "- `np.isnan()` identifies missing values.\n",
    "- `np.nanmean()`, `np.nansum()`, etc., compute results while ignoring NaNs.\n",
    "- `np.nan_to_num()` replaces NaNs with specified values."
   ]
  },
  {
   "cell_type": "markdown",
   "metadata": {
    "id": "9H4RmThR3AZs"
   },
   "source": [
    "### **Summary: Hour 2 Key Concepts**\n",
    "\n",
    "- Arrays support fast vectorized arithmetic and logical operations.\n",
    "- Use aggregation functions to compute statistics across arrays or dimensions.\n",
    "- Boolean masks are powerful for filtering data conditionally.\n",
    "- `np.where()` implements element-wise if-else logic.\n",
    "- Handle missing values carefully using NaN-aware NumPy functions."
   ]
  },
  {
   "cell_type": "markdown",
   "metadata": {
    "id": "L_NPho9W3I8-"
   },
   "source": [
    "# **Hour 3: Reshaping, Combining and Sorting Data**\n",
    "\n",
    "In this session, you'll learn to:\n",
    "- Reshape and flatten arrays\n",
    "- Combine and split arrays\n",
    "- Use advanced indexing\n",
    "- Sort arrays and retrieve orderings"
   ]
  },
  {
   "cell_type": "markdown",
   "metadata": {
    "id": "YqiAzNFj3zl4"
   },
   "source": [
    "### **Reshaping and Flattening Arrays**\n",
    "\n",
    "You can change the shape of arrays without changing their data using `reshape()`, `flatten()`, and `ravel()`.\n"
   ]
  },
  {
   "cell_type": "code",
   "execution_count": null,
   "metadata": {
    "colab": {
     "base_uri": "https://localhost:8080/"
    },
    "executionInfo": {
     "elapsed": 496,
     "status": "ok",
     "timestamp": 1750381643438,
     "user": {
      "displayName": "Mrinal Das",
      "userId": "10512190126354830840"
     },
     "user_tz": -330
    },
    "id": "Y84FPzqM3-8H",
    "outputId": "8a5395a0-fbf9-434c-8a74-4a6de2b48b15"
   },
   "outputs": [
    {
     "name": "stdout",
     "output_type": "stream",
     "text": [
      "Original array: [ 0  1  2  3  4  5  6  7  8  9 10 11]\n",
      "Reshaped (3x4):\n",
      " [[ 0  1  2  3]\n",
      " [ 4  5  6  7]\n",
      " [ 8  9 10 11]]\n",
      "Raveled (1D view): [ 0  1  2  3  4  5  6  7  8  9 10 11]\n",
      "Flattened (1D copy): [ 0  1  2  3  4  5  6  7  8  9 10 11]\n"
     ]
    }
   ],
   "source": [
    "import numpy as np\n",
    "\n",
    "# Create a 1D array of 12 elements\n",
    "arr = np.arange(12)\n",
    "print(\"Original array:\", arr)\n",
    "\n",
    "# Reshape into 3x4 (3 rows, 4 columns)\n",
    "reshaped = arr.reshape(3, 4)\n",
    "print(\"Reshaped (3x4):\\n\", reshaped)\n",
    "\n",
    "# Flatten using ravel (view) and flatten (copy)\n",
    "raveled = reshaped.ravel()\n",
    "flattened = reshaped.flatten()\n",
    "\n",
    "print(\"Raveled (1D view):\", raveled)\n",
    "print(\"Flattened (1D copy):\", flattened)"
   ]
  },
  {
   "cell_type": "markdown",
   "metadata": {
    "id": "z9mPfg-X4EHH"
   },
   "source": [
    "- `reshape()` changes the shape but not the data.\n",
    "- `ravel()` returns a view (changes affect original).\n",
    "- `flatten()` returns a copy (changes don’t affect original)."
   ]
  },
  {
   "cell_type": "markdown",
   "metadata": {
    "id": "ZYlZPMUQ4LrQ"
   },
   "source": [
    "### **Combining Arrays**\n",
    "\n",
    "You can combine arrays horizontally or vertically using stacking functions."
   ]
  },
  {
   "cell_type": "code",
   "execution_count": null,
   "metadata": {
    "colab": {
     "base_uri": "https://localhost:8080/"
    },
    "executionInfo": {
     "elapsed": 562,
     "status": "ok",
     "timestamp": 1750381715111,
     "user": {
      "displayName": "Mrinal Das",
      "userId": "10512190126354830840"
     },
     "user_tz": -330
    },
    "id": "3C71_WWN4RkD",
    "outputId": "b41eed5e-1ba0-48aa-dff7-7f5db2a837a8"
   },
   "outputs": [
    {
     "name": "stdout",
     "output_type": "stream",
     "text": [
      "Horizontal Stack:\n",
      " [[1 2 5 6]\n",
      " [3 4 7 8]]\n",
      "Vertical Stack:\n",
      " [[1 2]\n",
      " [3 4]\n",
      " [5 6]\n",
      " [7 8]]\n",
      "Concatenate axis=0:\n",
      " [[1 2]\n",
      " [3 4]\n",
      " [5 6]\n",
      " [7 8]]\n",
      "Concatenate axis=1:\n",
      " [[1 2 5 6]\n",
      " [3 4 7 8]]\n"
     ]
    }
   ],
   "source": [
    "a = np.array([[1, 2], [3, 4]])\n",
    "b = np.array([[5, 6], [7, 8]])\n",
    "\n",
    "# Horizontal stack (along columns)\n",
    "h_stack = np.hstack((a, b))\n",
    "print(\"Horizontal Stack:\\n\", h_stack)\n",
    "\n",
    "# Vertical stack (along rows)\n",
    "v_stack = np.vstack((a, b))\n",
    "print(\"Vertical Stack:\\n\", v_stack)\n",
    "\n",
    "# Generic concatenate: axis=0 (rows), axis=1 (columns)\n",
    "concat_axis0 = np.concatenate((a, b), axis=0)\n",
    "concat_axis1 = np.concatenate((a, b), axis=1)\n",
    "print(\"Concatenate axis=0:\\n\", concat_axis0)\n",
    "print(\"Concatenate axis=1:\\n\", concat_axis1)"
   ]
  },
  {
   "cell_type": "markdown",
   "metadata": {
    "id": "upPIi1vW4VmY"
   },
   "source": [
    "- `hstack()` appends columns, `vstack()` appends rows.\n",
    "- `concatenate()` gives more control with axis.\n",
    "- All arrays must match shape along the axis you're *not* stacking."
   ]
  },
  {
   "cell_type": "markdown",
   "metadata": {
    "id": "5UKOK6wo4fp_"
   },
   "source": [
    "### **Splitting Arrays**\n",
    "\n",
    "Use splitting functions to divide arrays into parts."
   ]
  },
  {
   "cell_type": "code",
   "execution_count": null,
   "metadata": {
    "colab": {
     "base_uri": "https://localhost:8080/"
    },
    "executionInfo": {
     "elapsed": 7,
     "status": "ok",
     "timestamp": 1750381806324,
     "user": {
      "displayName": "Mrinal Das",
      "userId": "10512190126354830840"
     },
     "user_tz": -330
    },
    "id": "i0izn3dv4m4a",
    "outputId": "65418e09-fb47-4f3d-d381-fd58f1c2c4d7"
   },
   "outputs": [
    {
     "name": "stdout",
     "output_type": "stream",
     "text": [
      "Original Array:\n",
      " [[ 0  1  2  3]\n",
      " [ 4  5  6  7]\n",
      " [ 8  9 10 11]\n",
      " [12 13 14 15]]\n",
      "Vertical Split (2x4 each):\n",
      "[[0 1 2 3]\n",
      " [4 5 6 7]]\n",
      "[[ 8  9 10 11]\n",
      " [12 13 14 15]]\n",
      "Horizontal Split (4x2 each):\n",
      "[[ 0  1]\n",
      " [ 4  5]\n",
      " [ 8  9]\n",
      " [12 13]]\n",
      "[[ 2  3]\n",
      " [ 6  7]\n",
      " [10 11]\n",
      " [14 15]]\n"
     ]
    }
   ],
   "source": [
    "# Create a 2D array\n",
    "arr = np.arange(16).reshape(4, 4)\n",
    "print(\"Original Array:\\n\", arr)\n",
    "\n",
    "# Split horizontally into two 2x4 arrays\n",
    "split_vert = np.vsplit(arr, 2)\n",
    "print(\"Vertical Split (2x4 each):\")\n",
    "for s in split_vert:\n",
    "  print(s)\n",
    "\n",
    "# Split vertically into two 4x2 arrays\n",
    "split_horiz = np.hsplit(arr, 2)\n",
    "print(\"Horizontal Split (4x2 each):\")\n",
    "for s in split_horiz:\n",
    "  print(s)"
   ]
  },
  {
   "cell_type": "markdown",
   "metadata": {
    "id": "THzaPYjC4rp1"
   },
   "source": [
    "- `vsplit()` splits rows, `hsplit()` splits columns.\n",
    "- You must split into equal parts (or use `array_split()` to allow uneven splits)."
   ]
  },
  {
   "cell_type": "markdown",
   "metadata": {
    "id": "8CqHE3e_4wE5"
   },
   "source": [
    "### **Advanced Indexing**\n",
    "\n",
    "Use arrays of indices (fancy indexing) to select or reorder specific rows/columns."
   ]
  },
  {
   "cell_type": "code",
   "execution_count": null,
   "metadata": {
    "colab": {
     "base_uri": "https://localhost:8080/"
    },
    "executionInfo": {
     "elapsed": 930,
     "status": "ok",
     "timestamp": 1750381853946,
     "user": {
      "displayName": "Mrinal Das",
      "userId": "10512190126354830840"
     },
     "user_tz": -330
    },
    "id": "NAISjuMx4zgJ",
    "outputId": "5062205f-a7c9-465d-88b9-a7f5092ab8f7"
   },
   "outputs": [
    {
     "name": "stdout",
     "output_type": "stream",
     "text": [
      "Selected rows 0, 2, 3:\n",
      " [[100 101 102]\n",
      " [120 121 122]\n",
      " [130 131 132]]\n",
      "Reordered columns (2, 0, 1):\n",
      " [[102 100 101]\n",
      " [112 110 111]\n",
      " [122 120 121]\n",
      " [132 130 131]]\n"
     ]
    }
   ],
   "source": [
    "arr = np.array([\n",
    "    [100, 101, 102],\n",
    "    [110, 111, 112],\n",
    "    [120, 121, 122],\n",
    "    [130, 131, 132]\n",
    "])\n",
    "\n",
    "# Select rows 0, 2 and 3\n",
    "selected_rows = arr[[0, 2, 3]]\n",
    "print(\"Selected rows 0, 2, 3:\\n\", selected_rows)\n",
    "\n",
    "# Reorder columns\n",
    "reordered_cols = arr[:, [2, 0, 1]]\n",
    "print(\"Reordered columns (2, 0, 1):\\n\", reordered_cols)"
   ]
  },
  {
   "cell_type": "markdown",
   "metadata": {
    "id": "Yx21gw_b43ZY"
   },
   "source": [
    "- Fancy indexing allows selection/reordering using integer arrays.\n",
    "- Unlike slicing, this creates a new copy."
   ]
  },
  {
   "cell_type": "markdown",
   "metadata": {
    "id": "gqbtz3PS45_A"
   },
   "source": [
    "### **Sorting and Ranking**\n",
    "\n",
    "Use `np.sort()` to sort values and `np.argsort()` to get the index order."
   ]
  },
  {
   "cell_type": "code",
   "execution_count": null,
   "metadata": {
    "colab": {
     "base_uri": "https://localhost:8080/"
    },
    "executionInfo": {
     "elapsed": 510,
     "status": "ok",
     "timestamp": 1750381894720,
     "user": {
      "displayName": "Mrinal Das",
      "userId": "10512190126354830840"
     },
     "user_tz": -330
    },
    "id": "qVbPkgiW4_Zp",
    "outputId": "c6fbe5ed-2071-41f0-89ce-3e15a06d4e3a"
   },
   "outputs": [
    {
     "name": "stdout",
     "output_type": "stream",
     "text": [
      "Sorted Data: [12 33 45 89]\n",
      "Sort Order Indices: [1 3 0 2]\n",
      "Data sorted using indices: [12 33 45 89]\n"
     ]
    }
   ],
   "source": [
    "data = np.array([45, 12, 89, 33])\n",
    "\n",
    "# Sorted values\n",
    "sorted_data = np.sort(data)\n",
    "print(\"Sorted Data:\", sorted_data)\n",
    "\n",
    "# Indices that would sort the array\n",
    "sort_order = np.argsort(data)\n",
    "print(\"Sort Order Indices:\", sort_order)\n",
    "\n",
    "# Use sort_order to reorder the array manually\n",
    "print(\"Data sorted using indices:\", data[sort_order])"
   ]
  },
  {
   "cell_type": "markdown",
   "metadata": {
    "id": "N12KUbim5Bc1"
   },
   "source": [
    "- `np.sort()` returns a sorted copy.\n",
    "- `np.argsort()` returns the index positions for sorting.\n",
    "- You can use `argsort` to sort multiple arrays in parallel."
   ]
  },
  {
   "cell_type": "markdown",
   "metadata": {
    "id": "Aky8faww5Hwo"
   },
   "source": [
    "### **Summary: Hour 3 Key Concepts**\n",
    "\n",
    "- Use `reshape()`, `flatten()`, `ravel()` to change array shape\n",
    "- Combine arrays with `hstack()`, `vstack()`, `concatenate()`\n",
    "- Split arrays with `hsplit()` and `vsplit()`\n",
    "- Fancy indexing allows advanced row/column selection\n",
    "- `sort()` and `argsort()` enable ordering and ranking"
   ]
  },
  {
   "cell_type": "markdown",
   "metadata": {
    "id": "5gmD07eb5MQs"
   },
   "source": [
    "# **Hour 4: Deriving Insights & Data Processing Workflows**\n",
    "\n",
    "In this session, you will learn how to:\n",
    "- Compute derived metrics (e.g., growth rates, ratios)\n",
    "- Analyze relationships using correlation and matrix ops\n",
    "- Sample and randomize data\n",
    "- Save and load arrays for reuse\n"
   ]
  },
  {
   "cell_type": "markdown",
   "metadata": {
    "id": "sixKCL0w5dj-"
   },
   "source": [
    "### **Derived Metrics**\n",
    "\n",
    "Perform per-row or per-column calculations like percent change or normalization."
   ]
  },
  {
   "cell_type": "code",
   "execution_count": 5,
   "metadata": {
    "colab": {
     "base_uri": "https://localhost:8080/"
    },
    "executionInfo": {
     "elapsed": 712,
     "status": "ok",
     "timestamp": 1750382085699,
     "user": {
      "displayName": "Mrinal Das",
      "userId": "10512190126354830840"
     },
     "user_tz": -330
    },
    "id": "3daaDMbc5tju",
    "outputId": "33bd021e-2959-4e16-a9f7-7c927eed50f2"
   },
   "outputs": [
    {
     "name": "stdout",
     "output_type": "stream",
     "text": [
      "Total sales per product: [650 710 780 880]\n",
      "Average monthly sales: [216.66666667 236.66666667 260.         293.33333333]\n",
      "Percent change:\n",
      " [[0.1        0.13636364 0.2       ]\n",
      " [0.06666667 0.0625     0.11764706]\n",
      " [0.1        0.09090909 0.08333333]]\n"
     ]
    }
   ],
   "source": [
    "import numpy as np\n",
    "\n",
    "# Simulated sales data (rows = products, columns = months)\n",
    "sales = np.array([\n",
    "    [200, 220, 250, 300],  # Product A\n",
    "    [150, 160, 170, 190],  # Product B\n",
    "    [300, 330, 360, 390]   # Product C\n",
    "])\n",
    "\n",
    "# Row-wise sum (total sales per product)\n",
    "row_sum = np.sum(sales, axis=0)\n",
    "print(\"Total sales per product:\", row_sum)\n",
    "\n",
    "# Column-wise mean (average sales in each month)\n",
    "col_mean = np.mean(sales, axis=0)\n",
    "print(\"Average monthly sales:\", col_mean)\n",
    "\n",
    "# Percent change across months\n",
    "# (current - previous) / previous\n",
    "pct_change = (sales[:, 1:] - sales[:, :-1]) / sales[:, :-1]\n",
    "print(\"Percent change:\\n\", pct_change)"
   ]
  },
  {
   "cell_type": "markdown",
   "metadata": {
    "id": "mYcwOY1q5wCn"
   },
   "source": [
    "- Use `axis=1` for row-level analysis, `axis=0` for column-level.\n",
    "- Percent change is useful to identify trends over time.\n",
    "- Shape must align for subtraction (e.g., columns must match)."
   ]
  },
  {
   "cell_type": "markdown",
   "metadata": {
    "id": "RC_zayKI50C1"
   },
   "source": [
    "### **Correlation and Matrix Operations**\n",
    "\n",
    "Analyze relationships between variables using correlation coefficients and matrix math."
   ]
  },
  {
   "cell_type": "code",
   "execution_count": 4,
   "metadata": {
    "colab": {
     "base_uri": "https://localhost:8080/"
    },
    "executionInfo": {
     "elapsed": 1717,
     "status": "ok",
     "timestamp": 1750382135656,
     "user": {
      "displayName": "Mrinal Das",
      "userId": "10512190126354830840"
     },
     "user_tz": -330
    },
    "id": "aezvhgiM548d",
    "outputId": "25c5a7c9-c65b-4ef3-a921-0f55be7201d3"
   },
   "outputs": [
    {
     "name": "stdout",
     "output_type": "stream",
     "text": [
      "Correlation matrix:\n",
      " [[1.         0.18898224 0.2773501 ]\n",
      " [0.18898224 1.         0.99587059]\n",
      " [0.2773501  0.99587059 1.        ]]\n"
     ]
    },
    {
     "ename": "NameError",
     "evalue": "name 'sales' is not defined",
     "output_type": "error",
     "traceback": [
      "\u001b[1;31m---------------------------------------------------------------------------\u001b[0m",
      "\u001b[1;31mNameError\u001b[0m                                 Traceback (most recent call last)",
      "Cell \u001b[1;32mIn[4], line 14\u001b[0m\n\u001b[0;32m     12\u001b[0m \u001b[38;5;66;03m# Dot product (e.g., sales @ weights for scoring)\u001b[39;00m\n\u001b[0;32m     13\u001b[0m weights \u001b[38;5;241m=\u001b[39m np\u001b[38;5;241m.\u001b[39marray([\u001b[38;5;241m0.2\u001b[39m, \u001b[38;5;241m0.3\u001b[39m, \u001b[38;5;241m0.5\u001b[39m])\n\u001b[1;32m---> 14\u001b[0m scores \u001b[38;5;241m=\u001b[39m np\u001b[38;5;241m.\u001b[39mdot(\u001b[43msales\u001b[49m[:, :\u001b[38;5;241m3\u001b[39m], weights)\n\u001b[0;32m     15\u001b[0m \u001b[38;5;28mprint\u001b[39m(\u001b[38;5;124m\"\u001b[39m\u001b[38;5;124mWeighted score (first 3 months):\u001b[39m\u001b[38;5;124m\"\u001b[39m, scores)\n",
      "\u001b[1;31mNameError\u001b[0m: name 'sales' is not defined"
     ]
    }
   ],
   "source": [
    "# Correlation matrix: variables in columns\n",
    "variables = np.array([\n",
    "    [1, 2, 3],\n",
    "    [2, 4, 6],\n",
    "    [1, 5, 7]\n",
    "])\n",
    "\n",
    "# Compute correlation coefficients\n",
    "correlation_matrix = np.corrcoef(variables, rowvar=False)\n",
    "print(\"Correlation matrix:\\n\", correlation_matrix)\n",
    "\n",
    "# Dot product (e.g., sales @ weights for scoring)\n",
    "weights = np.array([0.2, 0.3, 0.5])\n",
    "scores = np.dot(sales[:, :3], weights)\n",
    "print(\"Weighted score (first 3 months):\", scores)"
   ]
  },
  {
   "cell_type": "markdown",
   "metadata": {
    "id": "mhww5Ab057vE"
   },
   "source": [
    "- `np.corrcoef()` shows linear relationships (1.0 = perfect positive).\n",
    "- `np.dot()` or `@` is used for weighted sums or projections."
   ]
  },
  {
   "cell_type": "markdown",
   "metadata": {
    "id": "xAE8jXus6AHq"
   },
   "source": [
    "### **Sampling and Randomization**\n",
    "\n",
    "Generate synthetic or randomized data for testing or bootstrapping."
   ]
  },
  {
   "cell_type": "code",
   "execution_count": null,
   "metadata": {
    "colab": {
     "base_uri": "https://localhost:8080/"
    },
    "executionInfo": {
     "elapsed": 447,
     "status": "ok",
     "timestamp": 1750382188541,
     "user": {
      "displayName": "Mrinal Das",
      "userId": "10512190126354830840"
     },
     "user_tz": -330
    },
    "id": "fL2SVsWJ6FFI",
    "outputId": "23806b1a-1818-460c-f3cf-8e4ab7fa65ad"
   },
   "outputs": [
    {
     "name": "stdout",
     "output_type": "stream",
     "text": [
      "Random integers:\n",
      " [[52 93 15 72]\n",
      " [61 21 83 87]\n",
      " [75 75 88 24]]\n",
      "Normal samples: [-0.4826188   0.16416482  0.23309524  0.11799461  1.46237812]\n",
      "Random choice sample: ['A' 'A' 'A' 'C' 'C']\n"
     ]
    }
   ],
   "source": [
    "# Set seed for reproducibility\n",
    "np.random.seed(42)\n",
    "\n",
    "# Random integers\n",
    "random_ints = np.random.randint(1, 100, size=(3, 4))\n",
    "print(\"Random integers:\\n\", random_ints)\n",
    "\n",
    "# Normally distributed values (mean=0, std=1)\n",
    "normal_samples = np.random.normal(loc=0, scale=1, size=5)\n",
    "print(\"Normal samples:\", normal_samples)\n",
    "\n",
    "# Random choice from list\n",
    "options = ['A', 'B', 'C']\n",
    "choice_sample = np.random.choice(options, size=5, replace=True)\n",
    "print(\"Random choice sample:\", choice_sample)"
   ]
  },
  {
   "cell_type": "markdown",
   "metadata": {
    "id": "uR4GNZb-6I8O"
   },
   "source": [
    "- Use `np.random.seed()` for consistent output across runs.\n",
    "- `randint()` and `normal()` are useful for mock data or simulation.\n",
    "- `choice()` picks random elements from a list or array."
   ]
  },
  {
   "cell_type": "markdown",
   "metadata": {
    "id": "NbmL5GWH6RyF"
   },
   "source": [
    "### **Saving and Loading Arrays**\n",
    "\n",
    "Persist your processed arrays to disk and load them later for reuse."
   ]
  },
  {
   "cell_type": "code",
   "execution_count": 3,
   "metadata": {
    "colab": {
     "base_uri": "https://localhost:8080/"
    },
    "executionInfo": {
     "elapsed": 462,
     "status": "ok",
     "timestamp": 1750382541049,
     "user": {
      "displayName": "Mrinal Das",
      "userId": "10512190126354830840"
     },
     "user_tz": -330
    },
    "id": "3Iu01TZf6a3i",
    "outputId": "7b833725-dc32-4a15-9b9a-8a3d9a357a0d"
   },
   "outputs": [
    {
     "ename": "NameError",
     "evalue": "name 'sales' is not defined",
     "output_type": "error",
     "traceback": [
      "\u001b[1;31m---------------------------------------------------------------------------\u001b[0m",
      "\u001b[1;31mNameError\u001b[0m                                 Traceback (most recent call last)",
      "Cell \u001b[1;32mIn[3], line 2\u001b[0m\n\u001b[0;32m      1\u001b[0m \u001b[38;5;66;03m# Save to binary .npy format\u001b[39;00m\n\u001b[1;32m----> 2\u001b[0m np\u001b[38;5;241m.\u001b[39msave(\u001b[38;5;124m\"\u001b[39m\u001b[38;5;124msales_data.npy\u001b[39m\u001b[38;5;124m\"\u001b[39m, \u001b[43msales\u001b[49m)\n\u001b[0;32m      4\u001b[0m \u001b[38;5;66;03m# Load from file\u001b[39;00m\n\u001b[0;32m      5\u001b[0m loaded_sales \u001b[38;5;241m=\u001b[39m np\u001b[38;5;241m.\u001b[39mload(\u001b[38;5;124m\"\u001b[39m\u001b[38;5;124msales_data.npy\u001b[39m\u001b[38;5;124m\"\u001b[39m)\n",
      "\u001b[1;31mNameError\u001b[0m: name 'sales' is not defined"
     ]
    }
   ],
   "source": [
    "# Save to binary .npy format\n",
    "np.save(\"sales_data.npy\", sales)\n",
    "\n",
    "# Load from file\n",
    "loaded_sales = np.load(\"sales_data.npy\")\n",
    "print(\"Loaded sales array:\\n\", loaded_sales)\n",
    "\n",
    "# Save/load to/from text format\n",
    "np.savetxt(\"sales_summary.txt\", sales, fmt=\"%d\")\n",
    "loaded_txt = np.loadtxt(\"sales_summary.txt\", dtype=int)\n",
    "print(\"Loaded text data:\\n\", loaded_txt)"
   ]
  },
  {
   "cell_type": "code",
   "execution_count": null,
   "metadata": {},
   "outputs": [],
   "source": []
  },
  {
   "cell_type": "markdown",
   "metadata": {
    "id": "re2WS50F6c_3"
   },
   "source": [
    "- `np.save()` and `np.load()` work with NumPy’s efficient binary format.\n",
    "- `np.savetxt()` and `np.loadtxt()` handle human-readable text.\n",
    "- Use these to build reusable pipelines."
   ]
  },
  {
   "cell_type": "markdown",
   "metadata": {
    "id": "EDMewtKT6fsN"
   },
   "source": [
    "### **Mini Project**\n",
    "\n",
    "Choose or simulate a dataset (e.g., daily COVID cases, sales, weather). Do the following:\n",
    "\n",
    "- Compute row- or column-wise summaries\n",
    "- Calculate relative or percent changes\n",
    "- Apply `np.where()` to flag values (e.g., anomalies)\n",
    "- Compute correlations or weighted scores\n",
    "- Save the result to disk for reuse"
   ]
  },
  {
   "cell_type": "markdown",
   "metadata": {
    "id": "vKdwfupU6rzY"
   },
   "source": [
    "### **Summary: Hour 4 Key Concepts**\n",
    "\n",
    "- Apply transformations like percent change and weighted scores\n",
    "- Use `corrcoef()` to find relationships\n",
    "- Use `dot()` for matrix operations\n",
    "- Randomize or generate synthetic data for simulation\n",
    "- Save processed results with `save()` or `savetxt()`"
   ]
  }
 ],
 "metadata": {
  "colab": {
   "authorship_tag": "ABX9TyNO1QoWwONIyw9rNI0fEUoQ",
   "provenance": []
  },
  "kernelspec": {
   "display_name": "Python 3 (ipykernel)",
   "language": "python",
   "name": "python3"
  },
  "language_info": {
   "codemirror_mode": {
    "name": "ipython",
    "version": 3
   },
   "file_extension": ".py",
   "mimetype": "text/x-python",
   "name": "python",
   "nbconvert_exporter": "python",
   "pygments_lexer": "ipython3",
   "version": "3.8.6rc1"
  }
 },
 "nbformat": 4,
 "nbformat_minor": 4
}
